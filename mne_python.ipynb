{
 "cells": [
  {
   "cell_type": "code",
   "execution_count": null,
   "id": "99b8562f",
   "metadata": {},
   "outputs": [],
   "source": [
    "# Comment test to Git"
   ]
  },
  {
   "cell_type": "code",
   "execution_count": 45,
   "id": "9e38e9b5",
   "metadata": {},
   "outputs": [],
   "source": [
    "# Libraries\n",
    "import os\n",
    "import mne\n",
    "import pandas as pd\n",
    "import matplotlib.pyplot as plt"
   ]
  },
  {
   "cell_type": "markdown",
   "id": "4c79a719",
   "metadata": {},
   "source": [
    "# 1. Define the path to the .vhdr file"
   ]
  },
  {
   "cell_type": "code",
   "execution_count": 46,
   "id": "ec9cdfa3",
   "metadata": {},
   "outputs": [
    {
     "name": "stdout",
     "output_type": "stream",
     "text": [
      "C:\\Users\\indira.lavocat\\MOVIDOC\\EEG\\Sujets\\IndiraLAVOCAT\\MOVIDOCTicTrack000005.vhdr\n"
     ]
    }
   ],
   "source": [
    "FolderPath = \"C:\\\\Users\\\\indira.lavocat\\\\MOVIDOC\\\\EEG\\\\Sujets\\\\IndiraLAVOCAT\" # need to adapt the last folder to suit the subject\n",
    "\n",
    "# Looking for the .vhdr file in the folder\n",
    "for file in os.listdir(FolderPath):\n",
    "    if file.endswith(\".vhdr\"):\n",
    "        FilePath = os.path.join(FolderPath, file)\n",
    "        break\n",
    "\n",
    "print(FilePath)\n",
    "\n",
    "\n",
    "# vhdr_file = \"C:\\\\Users\\\\indira.lavocat\\\\MOVIDOC\\\\EEG\\\\Indira Test\\\\MOVIDOCTicTrack000005.vhdr\""
   ]
  },
  {
   "cell_type": "markdown",
   "id": "c440670b",
   "metadata": {},
   "source": [
    "# 2. Load the data"
   ]
  },
  {
   "cell_type": "code",
   "execution_count": 47,
   "id": "1228d05c",
   "metadata": {},
   "outputs": [
    {
     "name": "stdout",
     "output_type": "stream",
     "text": [
      "Extracting parameters from C:\\Users\\indira.lavocat\\MOVIDOC\\EEG\\Sujets\\IndiraLAVOCAT\\MOVIDOCTicTrack000005.vhdr...\n",
      "Setting channel info structure...\n",
      "Reading 0 ... 79759  =      0.000 ...   159.518 secs...\n"
     ]
    },
    {
     "name": "stderr",
     "output_type": "stream",
     "text": [
      "C:\\Users\\indira.lavocat\\AppData\\Local\\Temp\\ipykernel_6364\\2402428994.py:1: RuntimeWarning: Online software filter detected. Using software filter settings and ignoring hardware values\n",
      "  raw = mne.io.read_raw_brainvision(FilePath, preload=True)\n"
     ]
    }
   ],
   "source": [
    "raw = mne.io.read_raw_brainvision(FilePath, preload=True)"
   ]
  },
  {
   "cell_type": "code",
   "execution_count": 48,
   "id": "ecf83d6e",
   "metadata": {},
   "outputs": [
    {
     "data": {
      "text/html": [
       "<script type=\"text/javascript\">\n",
       "    // must be `var` (not `const`) because this can get embedded multiple times on a page\n",
       "var toggleVisibility = (className) => {\n",
       "\n",
       "    const elements = document.querySelectorAll(`.${className}`);\n",
       "\n",
       "    elements.forEach(element => {\n",
       "        if (element.classList.contains(\"mne-repr-section-header\")) {\n",
       "            return  // Don't collapse the section header row\n",
       "        }\n",
       "        element.classList.toggle(\"mne-repr-collapsed\");\n",
       "    });\n",
       "\n",
       "    // trigger caret to rotate\n",
       "    var sel = `.mne-repr-section-header.${className} > th.mne-repr-section-toggle > button`;\n",
       "    const button = document.querySelector(sel);\n",
       "    button.classList.toggle(\"collapsed\");\n",
       "\n",
       "    // adjust tooltip\n",
       "    sel = `tr.mne-repr-section-header.${className}`;\n",
       "    const secHeadRow = document.querySelector(sel);\n",
       "    secHeadRow.classList.toggle(\"collapsed\");\n",
       "    secHeadRow.title = secHeadRow.title === \"Hide section\" ? \"Show section\" : \"Hide section\";\n",
       "}\n",
       "</script>\n",
       "\n",
       "<style type=\"text/css\">\n",
       "    /*\n",
       "Styles in this section apply both to the sphinx-built website docs and to notebooks\n",
       "rendered in an IDE or in Jupyter. In our web docs, styles here are complemented by\n",
       "doc/_static/styles.css and other CSS files (e.g. from the sphinx theme, sphinx-gallery,\n",
       "or bootstrap). In IDEs/Jupyter, those style files are unavailable, so only the rules in\n",
       "this file apply (plus whatever default styling the IDE applies).\n",
       "*/\n",
       ".mne-repr-table {\n",
       "    display: inline;  /* prevent using full container width */\n",
       "}\n",
       ".mne-repr-table tr.mne-repr-section-header > th {\n",
       "    padding-top: 1rem;\n",
       "    text-align: left;\n",
       "    vertical-align: middle;\n",
       "}\n",
       ".mne-repr-section-toggle > button {\n",
       "    all: unset;\n",
       "    display: block;\n",
       "    height: 1rem;\n",
       "    width: 1rem;\n",
       "}\n",
       ".mne-repr-section-toggle > button > svg {\n",
       "    height: 60%;\n",
       "}\n",
       "\n",
       "/* transition (rotation) effects on the collapser button */\n",
       ".mne-repr-section-toggle > button.collapsed > svg {\n",
       "    transition: 0.1s ease-out;\n",
       "    transform: rotate(-90deg);\n",
       "}\n",
       ".mne-repr-section-toggle > button:not(.collapsed) > svg {\n",
       "    transition: 0.1s ease-out;\n",
       "    transform: rotate(0deg);\n",
       "}\n",
       "\n",
       "/* hide collapsed table rows */\n",
       ".mne-repr-collapsed {\n",
       "    display: none;\n",
       "}\n",
       "\n",
       "\n",
       "@layer {\n",
       "    /*\n",
       "    Selectors in a `@layer` will always be lower-precedence than selectors outside the\n",
       "    layer. So even though e.g. `div.output_html` is present in the sphinx-rendered\n",
       "    website docs, the styles here won't take effect there as long as some other rule\n",
       "    somewhere in the page's CSS targets the same element.\n",
       "\n",
       "    In IDEs or Jupyter notebooks, though, the CSS files from the sphinx theme,\n",
       "    sphinx-gallery, and bootstrap are unavailable, so these styles will apply.\n",
       "\n",
       "    Notes:\n",
       "\n",
       "    - the selector `.accordion-body` is for MNE Reports\n",
       "    - the selector `.output_html` is for VSCode's notebook interface\n",
       "    - the selector `.jp-RenderedHTML` is for Jupyter notebook\n",
       "    - variables starting with `--theme-` are VSCode-specific.\n",
       "    - variables starting with `--jp-` are Jupyter styles, *some of which* are also\n",
       "      available in VSCode. Here we try the `--theme-` variable first, then fall back to\n",
       "      the `--jp-` ones.\n",
       "    */\n",
       "    .mne-repr-table {\n",
       "        --mne-toggle-color: var(--theme-foreground, var(--jp-ui-font-color1));\n",
       "        --mne-button-bg-color: var(--theme-button-background, var(--jp-info-color0, var(--jp-content-link-color)));\n",
       "        --mne-button-fg-color: var(--theme-button-foreground, var(--jp-ui-inverse-font-color0, var(--jp-editor-background)));\n",
       "        --mne-button-hover-bg-color: var(--theme-button-hover-background, var(--jp-info-color1));\n",
       "        --mne-button-radius: var(--jp-border-radius, 0.25rem);\n",
       "    }\n",
       "    /* chevron position/alignment; in VSCode it looks ok without adjusting */\n",
       "    .accordion-body .mne-repr-section-toggle > button,\n",
       "    .jp-RenderedHTML .mne-repr-section-toggle > button {\n",
       "        padding: 0 0 45% 25% !important;\n",
       "    }\n",
       "    /* chevron color; MNE Report doesn't have light/dark mode */\n",
       "    div.output_html .mne-repr-section-toggle > button > svg > path,\n",
       "    .jp-RenderedHTML .mne-repr-section-toggle > button > svg > path {\n",
       "        fill: var(--mne-toggle-color);\n",
       "    }\n",
       "    .accordion-body .mne-ch-names-btn,\n",
       "    div.output_html .mne-ch-names-btn,\n",
       "    .jp-RenderedHTML .mne-ch-names-btn {\n",
       "        -webkit-border-radius: var(--mne-button-radius);\n",
       "        -moz-border-radius: var(--mne-button-radius);\n",
       "        border-radius: var(--mne-button-radius);\n",
       "        border: none;\n",
       "        background-image: none;\n",
       "        background-color: var(--mne-button-bg-color);\n",
       "        color: var(--mne-button-fg-color);\n",
       "        font-size: inherit;\n",
       "        min-width: 1.5rem;\n",
       "        padding: 0.25rem;\n",
       "        text-align: center;\n",
       "        text-decoration: none;\n",
       "    }\n",
       "    .accordion-body .mne-ch-names-btn:hover,\n",
       "    div.output_html .mne.ch-names-btn:hover,\n",
       "    .jp-RenderedHTML .mne-ch-names-btn:hover {\n",
       "        background-color: var(--mne-button-hover-bg-color);\n",
       "        text-decoration: underline;\n",
       "    }\n",
       "    .accordion-body .mne-ch-names-btn:focus-visible,\n",
       "    div.output_html .mne-ch-names-btn:focus-visible,\n",
       "    .jp-RenderedHTML .mne-ch-names-btn:focus-visible {\n",
       "        outline: 0.1875rem solid var(--mne-button-bg-color) !important;\n",
       "        outline-offset: 0.1875rem !important;\n",
       "    }\n",
       "}\n",
       "</style>\n",
       "\n",
       "\n",
       "\n",
       "<table class=\"table mne-repr-table\">\n",
       "    \n",
       "\n",
       "\n",
       "\n",
       "\n",
       "\n",
       "\n",
       "\n",
       "<tr class=\"mne-repr-section-header general-694fa9d2-889b-4d21-a495-656824d3a9c0\"\n",
       "     title=\"Hide section\" \n",
       "    onclick=\"toggleVisibility('general-694fa9d2-889b-4d21-a495-656824d3a9c0')\">\n",
       "    <th class=\"mne-repr-section-toggle\">\n",
       "        <button >\n",
       "            <svg xmlns=\"http://www.w3.org/2000/svg\" viewBox=\"0 0 512 512\"><!--!Font Awesome Free 6.6.0 by @fontawesome - https://fontawesome.com License - https://fontawesome.com/license/free Copyright 2024 Fonticons, Inc.--><path d=\"M233.4 406.6c12.5 12.5 32.8 12.5 45.3 0l192-192c12.5-12.5 12.5-32.8 0-45.3s-32.8-12.5-45.3 0L256 338.7 86.6 169.4c-12.5-12.5-32.8-12.5-45.3 0s-12.5 32.8 0 45.3l192 192z\"/></svg>\n",
       "        </button>\n",
       "    </th>\n",
       "    <th colspan=\"2\">\n",
       "        <strong>General</strong>\n",
       "    </th>\n",
       "</tr>\n",
       "\n",
       "\n",
       "<tr class=\"repr-element general-694fa9d2-889b-4d21-a495-656824d3a9c0 \">\n",
       "    <td class=\"mne-repr-section-toggle\"></td>\n",
       "    <td>MNE object type</td>\n",
       "    <td>Info</td>\n",
       "</tr>\n",
       "<tr class=\"repr-element general-694fa9d2-889b-4d21-a495-656824d3a9c0 \">\n",
       "    <td class=\"mne-repr-section-toggle\"></td>\n",
       "    <td>Measurement date</td>\n",
       "    \n",
       "    <td>2025-05-13 at 16:30:12 UTC</td>\n",
       "    \n",
       "</tr>\n",
       "<tr class=\"repr-element general-694fa9d2-889b-4d21-a495-656824d3a9c0 \">\n",
       "    <td class=\"mne-repr-section-toggle\"></td>\n",
       "    <td>Participant</td>\n",
       "    \n",
       "    <td>Unknown</td>\n",
       "    \n",
       "</tr>\n",
       "<tr class=\"repr-element general-694fa9d2-889b-4d21-a495-656824d3a9c0 \">\n",
       "    <td class=\"mne-repr-section-toggle\"></td>\n",
       "    <td>Experimenter</td>\n",
       "    \n",
       "    <td>Unknown</td>\n",
       "    \n",
       "</tr>\n",
       "    \n",
       "\n",
       "\n",
       "\n",
       "\n",
       "\n",
       "\n",
       "\n",
       "<tr class=\"mne-repr-section-header acquisition-14b56cc9-0444-4c8c-a7f7-db8174719909\"\n",
       "     title=\"Hide section\" \n",
       "    onclick=\"toggleVisibility('acquisition-14b56cc9-0444-4c8c-a7f7-db8174719909')\">\n",
       "    <th class=\"mne-repr-section-toggle\">\n",
       "        <button >\n",
       "            <svg xmlns=\"http://www.w3.org/2000/svg\" viewBox=\"0 0 512 512\"><!--!Font Awesome Free 6.6.0 by @fontawesome - https://fontawesome.com License - https://fontawesome.com/license/free Copyright 2024 Fonticons, Inc.--><path d=\"M233.4 406.6c12.5 12.5 32.8 12.5 45.3 0l192-192c12.5-12.5 12.5-32.8 0-45.3s-32.8-12.5-45.3 0L256 338.7 86.6 169.4c-12.5-12.5-32.8-12.5-45.3 0s-12.5 32.8 0 45.3l192 192z\"/></svg>\n",
       "        </button>\n",
       "    </th>\n",
       "    <th colspan=\"2\">\n",
       "        <strong>Acquisition</strong>\n",
       "    </th>\n",
       "</tr>\n",
       "\n",
       "\n",
       "\n",
       "\n",
       "\n",
       "\n",
       "\n",
       "\n",
       "\n",
       "<tr class=\"repr-element acquisition-14b56cc9-0444-4c8c-a7f7-db8174719909 \">\n",
       "    <td class=\"mne-repr-section-toggle\"></td>\n",
       "    <td>Sampling frequency</td>\n",
       "    <td>500.00 Hz</td>\n",
       "</tr>\n",
       "\n",
       "\n",
       "\n",
       "    \n",
       "\n",
       "\n",
       "\n",
       "\n",
       "\n",
       "\n",
       "\n",
       "<tr class=\"mne-repr-section-header channels-047a2b89-5ca1-4c05-a222-509daa18f30a\"\n",
       "     title=\"Hide section\" \n",
       "    onclick=\"toggleVisibility('channels-047a2b89-5ca1-4c05-a222-509daa18f30a')\">\n",
       "    <th class=\"mne-repr-section-toggle\">\n",
       "        <button >\n",
       "            <svg xmlns=\"http://www.w3.org/2000/svg\" viewBox=\"0 0 512 512\"><!--!Font Awesome Free 6.6.0 by @fontawesome - https://fontawesome.com License - https://fontawesome.com/license/free Copyright 2024 Fonticons, Inc.--><path d=\"M233.4 406.6c12.5 12.5 32.8 12.5 45.3 0l192-192c12.5-12.5 12.5-32.8 0-45.3s-32.8-12.5-45.3 0L256 338.7 86.6 169.4c-12.5-12.5-32.8-12.5-45.3 0s-12.5 32.8 0 45.3l192 192z\"/></svg>\n",
       "        </button>\n",
       "    </th>\n",
       "    <th colspan=\"2\">\n",
       "        <strong>Channels</strong>\n",
       "    </th>\n",
       "</tr>\n",
       "\n",
       "\n",
       "    \n",
       "<tr class=\"repr-element channels-047a2b89-5ca1-4c05-a222-509daa18f30a \">\n",
       "    <td class=\"mne-repr-section-toggle\"></td>\n",
       "    <td>EEG</td>\n",
       "    <td>\n",
       "        <button class=\"mne-ch-names-btn sd-sphinx-override sd-btn sd-btn-info sd-text-wrap sd-shadow-sm\" onclick=\"alert('Good EEG:\\n\\nFp1, F3, F7, FT9, FC5, FC1, C3, T7, TP9, CP5, CP1, Pz, P3, P7, O1, Oz, O2, P4, P8, TP10, CP6, CP2, Cz, C4, T8, FT10, FC6, FC2, F4, F8, Fp2')\" title=\"(Click to open in popup)&#13;&#13;Fp1, F3, F7, FT9, FC5, FC1, C3, T7, TP9, CP5, CP1, Pz, P3, P7, O1, Oz, O2, P4, P8, TP10, CP6, CP2, Cz, C4, T8, FT10, FC6, FC2, F4, F8, Fp2\">\n",
       "            31\n",
       "        </button>\n",
       "\n",
       "        \n",
       "    </td>\n",
       "</tr>\n",
       "\n",
       "\n",
       "<tr class=\"repr-element channels-047a2b89-5ca1-4c05-a222-509daa18f30a \">\n",
       "    <td class=\"mne-repr-section-toggle\"></td>\n",
       "    <td>Head & sensor digitization</td>\n",
       "    \n",
       "    <td>Not available</td>\n",
       "    \n",
       "</tr>\n",
       "    \n",
       "\n",
       "\n",
       "\n",
       "\n",
       "\n",
       "\n",
       "\n",
       "<tr class=\"mne-repr-section-header filters-64c9fc1a-7dc7-43ae-bf26-e1775772c732\"\n",
       "     title=\"Hide section\" \n",
       "    onclick=\"toggleVisibility('filters-64c9fc1a-7dc7-43ae-bf26-e1775772c732')\">\n",
       "    <th class=\"mne-repr-section-toggle\">\n",
       "        <button >\n",
       "            <svg xmlns=\"http://www.w3.org/2000/svg\" viewBox=\"0 0 512 512\"><!--!Font Awesome Free 6.6.0 by @fontawesome - https://fontawesome.com License - https://fontawesome.com/license/free Copyright 2024 Fonticons, Inc.--><path d=\"M233.4 406.6c12.5 12.5 32.8 12.5 45.3 0l192-192c12.5-12.5 12.5-32.8 0-45.3s-32.8-12.5-45.3 0L256 338.7 86.6 169.4c-12.5-12.5-32.8-12.5-45.3 0s-12.5 32.8 0 45.3l192 192z\"/></svg>\n",
       "        </button>\n",
       "    </th>\n",
       "    <th colspan=\"2\">\n",
       "        <strong>Filters</strong>\n",
       "    </th>\n",
       "</tr>\n",
       "\n",
       "\n",
       "<tr class=\"repr-element filters-64c9fc1a-7dc7-43ae-bf26-e1775772c732 \">\n",
       "    <td class=\"mne-repr-section-toggle\"></td>\n",
       "    <td>Highpass</td>\n",
       "    <td>0.00 Hz</td>\n",
       "</tr>\n",
       "\n",
       "\n",
       "<tr class=\"repr-element filters-64c9fc1a-7dc7-43ae-bf26-e1775772c732 \">\n",
       "    <td class=\"mne-repr-section-toggle\"></td>\n",
       "    <td>Lowpass</td>\n",
       "    <td>250.00 Hz</td>\n",
       "</tr>\n",
       "\n",
       "\n",
       "</table>"
      ],
      "text/plain": [
       "<Info | 7 non-empty values\n",
       " bads: []\n",
       " ch_names: Fp1, F3, F7, FT9, FC5, FC1, C3, T7, TP9, CP5, CP1, Pz, P3, P7, ...\n",
       " chs: 31 EEG\n",
       " custom_ref_applied: False\n",
       " highpass: 0.0 Hz\n",
       " lowpass: 250.0 Hz\n",
       " meas_date: 2025-05-13 16:30:12 UTC\n",
       " nchan: 31\n",
       " projs: []\n",
       " sfreq: 500.0 Hz\n",
       ">"
      ]
     },
     "execution_count": 48,
     "metadata": {},
     "output_type": "execute_result"
    }
   ],
   "source": [
    "raw.info"
   ]
  },
  {
   "cell_type": "code",
   "execution_count": 49,
   "id": "68a1e1a3",
   "metadata": {},
   "outputs": [
    {
     "name": "stdout",
     "output_type": "stream",
     "text": [
      "['Fp1', 'F3', 'F7', 'FT9', 'FC5', 'FC1', 'C3', 'T7', 'TP9', 'CP5', 'CP1', 'Pz', 'P3', 'P7', 'O1', 'Oz', 'O2', 'P4', 'P8', 'TP10', 'CP6', 'CP2', 'Cz', 'C4', 'T8', 'FT10', 'FC6', 'FC2', 'F4', 'F8', 'Fp2']\n"
     ]
    }
   ],
   "source": [
    "# raw.ch_names\n",
    "print(raw.ch_names)\n"
   ]
  },
  {
   "cell_type": "code",
   "execution_count": 50,
   "id": "ab6079d7",
   "metadata": {},
   "outputs": [
    {
     "name": "stdout",
     "output_type": "stream",
     "text": [
      "None\n"
     ]
    }
   ],
   "source": [
    "print(raw.info['description']) # gives a note about the channels when there is one"
   ]
  },
  {
   "cell_type": "markdown",
   "id": "610b3d4e",
   "metadata": {},
   "source": [
    "## Obtain the stimulus"
   ]
  },
  {
   "cell_type": "code",
   "execution_count": 51,
   "id": "f60fd291",
   "metadata": {},
   "outputs": [
    {
     "name": "stdout",
     "output_type": "stream",
     "text": [
      "Used Annotations descriptions: [np.str_('New Segment/'), np.str_('Stimulus/S  1'), np.str_('Stimulus/S  2'), np.str_('Stimulus/S  3'), np.str_('Stimulus/S  4'), np.str_('Stimulus/S  5'), np.str_('Stimulus/S  6'), np.str_('Stimulus/S  7'), np.str_('Stimulus/S  8'), np.str_('Stimulus/S  9'), np.str_('Stimulus/S 10'), np.str_('Stimulus/S 11'), np.str_('Stimulus/S 12'), np.str_('Stimulus/S 13'), np.str_('Stimulus/S 14'), np.str_('Stimulus/S 21'), np.str_('Stimulus/S 22'), np.str_('Stimulus/S 23'), np.str_('Stimulus/S 24'), np.str_('Stimulus/S 25')]\n",
      "Events list (stimulus) :\n",
      "{np.str_('New Segment/'): 99999, np.str_('Stimulus/S  1'): 1, np.str_('Stimulus/S  2'): 2, np.str_('Stimulus/S  3'): 3, np.str_('Stimulus/S  4'): 4, np.str_('Stimulus/S  5'): 5, np.str_('Stimulus/S  6'): 6, np.str_('Stimulus/S  7'): 7, np.str_('Stimulus/S  8'): 8, np.str_('Stimulus/S  9'): 9, np.str_('Stimulus/S 10'): 10, np.str_('Stimulus/S 11'): 11, np.str_('Stimulus/S 12'): 12, np.str_('Stimulus/S 13'): 13, np.str_('Stimulus/S 14'): 14, np.str_('Stimulus/S 21'): 21, np.str_('Stimulus/S 22'): 22, np.str_('Stimulus/S 23'): 23, np.str_('Stimulus/S 24'): 24, np.str_('Stimulus/S 25'): 25}\n"
     ]
    }
   ],
   "source": [
    "# Create an event dicionnary\n",
    "events, event_id = mne.events_from_annotations(raw)\n",
    "print(\"Events list (stimulus) :\")\n",
    "print(event_id)"
   ]
  },
  {
   "cell_type": "code",
   "execution_count": 52,
   "id": "94c200f7",
   "metadata": {},
   "outputs": [
    {
     "name": "stdout",
     "output_type": "stream",
     "text": [
      "Events (sample, previous_id, event_id) :\n",
      "[[    0     0 99999]\n",
      " [ 2971     0     1]\n",
      " [ 6388     0    25]\n",
      " [ 6393     0     2]\n",
      " [10935     0    25]\n",
      " [10940     0     3]\n",
      " [12636     0    21]\n",
      " [13521     0    21]\n",
      " [14309     0    21]\n",
      " [15058     0    21]\n",
      " [15773     0    21]\n",
      " [15777     0     4]\n",
      " [19459     0    25]\n",
      " [19464     0     5]\n",
      " [24943     0     6]\n",
      " [28263     0    25]\n",
      " [28267     0     7]\n",
      " [33753     0     8]\n",
      " [36571     0    25]\n",
      " [36575     0     9]\n",
      " [38181     0    21]\n",
      " [38568     0    22]\n",
      " [40526     0    21]\n",
      " [41150     0    22]\n",
      " [42979     0    21]\n",
      " [43429     0    22]\n",
      " [44578     0    21]\n",
      " [45201     0    22]\n",
      " [46138     0    21]\n",
      " [46350     0    22]\n",
      " [47052     0    10]\n",
      " [51114     0    25]\n",
      " [51119     0    11]\n",
      " [51765     0    21]\n",
      " [52266     0    22]\n",
      " [54178     0    21]\n",
      " [54709     0    22]\n",
      " [55872     0    21]\n",
      " [56340     0    22]\n",
      " [57552     0    21]\n",
      " [58051     0    22]\n",
      " [59551     0    24]\n",
      " [60448     0    24]\n",
      " [61248     0    21]\n",
      " [61731     0    22]\n",
      " [61776     0    12]\n",
      " [63817     0    25]\n",
      " [63822     0    13]\n",
      " [64638     0    23]\n",
      " [67579     0    23]\n",
      " [70586     0    24]\n",
      " [71830     0    23]\n",
      " [73251     0    24]\n",
      " [73879     0    14]]\n"
     ]
    }
   ],
   "source": [
    "# Display the tab of events\n",
    "print(\"Events (sample, previous_id, event_id) :\")\n",
    "print(events)"
   ]
  },
  {
   "cell_type": "code",
   "execution_count": 53,
   "id": "b1436e04",
   "metadata": {},
   "outputs": [
    {
     "name": "stdout",
     "output_type": "stream",
     "text": [
      "Stimulus 99999 à 0.000 s\n",
      "Stimulus 1 à 5.942 s\n",
      "Stimulus 25 à 12.776 s\n",
      "Stimulus 2 à 12.786 s\n",
      "Stimulus 25 à 21.870 s\n",
      "Stimulus 3 à 21.880 s\n",
      "Stimulus 21 à 25.272 s\n",
      "Stimulus 21 à 27.042 s\n",
      "Stimulus 21 à 28.618 s\n",
      "Stimulus 21 à 30.116 s\n",
      "Stimulus 21 à 31.546 s\n",
      "Stimulus 4 à 31.554 s\n",
      "Stimulus 25 à 38.918 s\n",
      "Stimulus 5 à 38.928 s\n",
      "Stimulus 6 à 49.886 s\n",
      "Stimulus 25 à 56.526 s\n",
      "Stimulus 7 à 56.534 s\n",
      "Stimulus 8 à 67.506 s\n",
      "Stimulus 25 à 73.142 s\n",
      "Stimulus 9 à 73.150 s\n",
      "Stimulus 21 à 76.362 s\n",
      "Stimulus 22 à 77.136 s\n",
      "Stimulus 21 à 81.052 s\n",
      "Stimulus 22 à 82.300 s\n",
      "Stimulus 21 à 85.958 s\n",
      "Stimulus 22 à 86.858 s\n",
      "Stimulus 21 à 89.156 s\n",
      "Stimulus 22 à 90.402 s\n",
      "Stimulus 21 à 92.276 s\n",
      "Stimulus 22 à 92.700 s\n",
      "Stimulus 10 à 94.104 s\n",
      "Stimulus 25 à 102.228 s\n",
      "Stimulus 11 à 102.238 s\n",
      "Stimulus 21 à 103.530 s\n",
      "Stimulus 22 à 104.532 s\n",
      "Stimulus 21 à 108.356 s\n",
      "Stimulus 22 à 109.418 s\n",
      "Stimulus 21 à 111.744 s\n",
      "Stimulus 22 à 112.680 s\n",
      "Stimulus 21 à 115.104 s\n",
      "Stimulus 22 à 116.102 s\n",
      "Stimulus 24 à 119.102 s\n",
      "Stimulus 24 à 120.896 s\n",
      "Stimulus 21 à 122.496 s\n",
      "Stimulus 22 à 123.462 s\n",
      "Stimulus 12 à 123.552 s\n",
      "Stimulus 25 à 127.634 s\n",
      "Stimulus 13 à 127.644 s\n",
      "Stimulus 23 à 129.276 s\n",
      "Stimulus 23 à 135.158 s\n",
      "Stimulus 24 à 141.172 s\n",
      "Stimulus 23 à 143.660 s\n",
      "Stimulus 24 à 146.502 s\n",
      "Stimulus 14 à 147.758 s\n"
     ]
    }
   ],
   "source": [
    "# Convert the timestamps into seconds\n",
    "events_times_sec = events[:, 0] / raw.info['sfreq'] # converts the timestamps into seconds\n",
    "\n",
    "for time, eid in zip(events_times_sec, events[:, 2]): # links each time in seconds to its event ID\n",
    "    print(f\"Stimulus {eid} à {time:.3f} s\") # formats the number with 3 decimal"
   ]
  },
  {
   "cell_type": "markdown",
   "id": "3aaa24a9",
   "metadata": {},
   "source": [
    "### Alternative to display the stimulus name (and not its ID) with its timestamp in seconds"
   ]
  },
  {
   "cell_type": "code",
   "execution_count": 44,
   "id": "70d85869",
   "metadata": {},
   "outputs": [
    {
     "name": "stdout",
     "output_type": "stream",
     "text": [
      "New Segment/ à 0.000 s\n",
      "Stimulus/S  1 à 5.942 s\n",
      "Stimulus/S 25 à 12.776 s\n",
      "Stimulus/S  2 à 12.786 s\n",
      "Stimulus/S 25 à 21.870 s\n",
      "Stimulus/S  3 à 21.880 s\n",
      "Stimulus/S 21 à 25.272 s\n",
      "Stimulus/S 21 à 27.042 s\n",
      "Stimulus/S 21 à 28.618 s\n",
      "Stimulus/S 21 à 30.116 s\n",
      "Stimulus/S 21 à 31.546 s\n",
      "Stimulus/S  4 à 31.554 s\n",
      "Stimulus/S 25 à 38.918 s\n",
      "Stimulus/S  5 à 38.928 s\n",
      "Stimulus/S  6 à 49.886 s\n",
      "Stimulus/S 25 à 56.526 s\n",
      "Stimulus/S  7 à 56.534 s\n",
      "Stimulus/S  8 à 67.506 s\n",
      "Stimulus/S 25 à 73.142 s\n",
      "Stimulus/S  9 à 73.150 s\n",
      "Stimulus/S 21 à 76.362 s\n",
      "Stimulus/S 22 à 77.136 s\n",
      "Stimulus/S 21 à 81.052 s\n",
      "Stimulus/S 22 à 82.300 s\n",
      "Stimulus/S 21 à 85.958 s\n",
      "Stimulus/S 22 à 86.858 s\n",
      "Stimulus/S 21 à 89.156 s\n",
      "Stimulus/S 22 à 90.402 s\n",
      "Stimulus/S 21 à 92.276 s\n",
      "Stimulus/S 22 à 92.700 s\n",
      "Stimulus/S 10 à 94.104 s\n",
      "Stimulus/S 25 à 102.228 s\n",
      "Stimulus/S 11 à 102.238 s\n",
      "Stimulus/S 21 à 103.530 s\n",
      "Stimulus/S 22 à 104.532 s\n",
      "Stimulus/S 21 à 108.356 s\n",
      "Stimulus/S 22 à 109.418 s\n",
      "Stimulus/S 21 à 111.744 s\n",
      "Stimulus/S 22 à 112.680 s\n",
      "Stimulus/S 21 à 115.104 s\n",
      "Stimulus/S 22 à 116.102 s\n",
      "Stimulus/S 24 à 119.102 s\n",
      "Stimulus/S 24 à 120.896 s\n",
      "Stimulus/S 21 à 122.496 s\n",
      "Stimulus/S 22 à 123.462 s\n",
      "Stimulus/S 12 à 123.552 s\n",
      "Stimulus/S 25 à 127.634 s\n",
      "Stimulus/S 13 à 127.644 s\n",
      "Stimulus/S 23 à 129.276 s\n",
      "Stimulus/S 23 à 135.158 s\n",
      "Stimulus/S 24 à 141.172 s\n",
      "Stimulus/S 23 à 143.660 s\n",
      "Stimulus/S 24 à 146.502 s\n",
      "Stimulus/S 14 à 147.758 s\n"
     ]
    }
   ],
   "source": [
    "id_to_name = {v: k for k, v in event_id.items()}\n",
    "\n",
    "for time, eid in zip(events_times_sec, events[:, 2]):\n",
    "    name = id_to_name.get(eid, f\"ID {eid}\")\n",
    "    print(f\"{name} à {time:.3f} s\")"
   ]
  },
  {
   "cell_type": "markdown",
   "id": "baedb66f",
   "metadata": {},
   "source": [
    "### Alternative whith a pandas DataFrame output"
   ]
  },
  {
   "cell_type": "code",
   "execution_count": null,
   "id": "0d0d49f5",
   "metadata": {},
   "outputs": [],
   "source": [
    "id_to_name = {v: k for k, v in event_id.items()}\n",
    "\n",
    "events_data = [] # création of dictionnaries list (one per event)\n",
    "for time, eid in zip(events_times_sec, events[:, 2]):\n",
    "    name = id_to_name.get(eid, f\"ID {eid}\")\n",
    "    events_data.append({\n",
    "        \"Nom de l'événement\": name,\n",
    "        \"ID\": eid,\n",
    "        \"Temps (s)\": round(time, 3)\n",
    "    })\n",
    "\n",
    "df_events = pd.DataFrame(events_data) # conversion into a DataFrame\n",
    "\n",
    "print(df_events)"
   ]
  },
  {
   "cell_type": "markdown",
   "id": "20293689",
   "metadata": {},
   "source": [
    "# 3. Define the montage ???"
   ]
  },
  {
   "cell_type": "code",
   "execution_count": null,
   "id": "77932aed",
   "metadata": {},
   "outputs": [],
   "source": [
    "raw.set_montage(\"standard_1020\") # to prevent any error during the topography steps\n",
    "fig1 = raw.plot_sensors(show_names=True)"
   ]
  },
  {
   "cell_type": "markdown",
   "id": "a87873e3",
   "metadata": {},
   "source": [
    "# 4. Plot the data"
   ]
  },
  {
   "cell_type": "code",
   "execution_count": null,
   "id": "622c8e5a",
   "metadata": {},
   "outputs": [],
   "source": [
    "Original_Signal_Figure_1 = raw.plot(title = \"Orginal Signal\")\n",
    "raw.info\n",
    "raw.ch_names\n",
    "print(raw)\n",
    "\n",
    "# raw.plot(duration=5, n_channels=30)\n",
    "# raw.compute_psd(fmax=50).plot(picks=\"data\", exclude=\"bads\", amplitude=False)"
   ]
  },
  {
   "cell_type": "markdown",
   "id": "b43c1fea",
   "metadata": {},
   "source": [
    "# 5. Extract the events (from the .vmrk annotations)"
   ]
  },
  {
   "cell_type": "code",
   "execution_count": null,
   "id": "6965b0fe",
   "metadata": {},
   "outputs": [],
   "source": [
    "events, event_id = mne.events_from_annotations(raw)\n",
    "print(\"Événements détectés :\", event_id)"
   ]
  },
  {
   "cell_type": "markdown",
   "id": "ac769a7b",
   "metadata": {},
   "source": [
    "# 5. OPTION"
   ]
  },
  {
   "cell_type": "code",
   "execution_count": null,
   "id": "fb474ad8",
   "metadata": {},
   "outputs": [],
   "source": [
    "print(events)"
   ]
  },
  {
   "cell_type": "code",
   "execution_count": null,
   "id": "6bf2b8b9",
   "metadata": {},
   "outputs": [],
   "source": [
    "print(raw.annotations)"
   ]
  },
  {
   "cell_type": "code",
   "execution_count": null,
   "id": "c8d45fc1",
   "metadata": {},
   "outputs": [],
   "source": [
    "events, event_id = mne.events_from_annotations(raw)\n",
    "print(\"Événements détectés :\", event_id)"
   ]
  },
  {
   "cell_type": "code",
   "execution_count": null,
   "id": "69b2ef3d",
   "metadata": {},
   "outputs": [],
   "source": [
    "print(raw.times[0], raw.times[-1])\n",
    "print(raw.times[-1] - raw.times[0])"
   ]
  },
  {
   "cell_type": "markdown",
   "id": "65443f38",
   "metadata": {},
   "source": [
    "# 4. Filter the data"
   ]
  },
  {
   "cell_type": "code",
   "execution_count": null,
   "id": "5da4011a",
   "metadata": {},
   "outputs": [],
   "source": [
    "raw.filter(l_freq=1., h_freq=30.) # for ERPs, [1-30] Hz band-pass filter"
   ]
  },
  {
   "cell_type": "markdown",
   "id": "ce226326",
   "metadata": {},
   "source": [
    "# 6. Seperation in epochs"
   ]
  },
  {
   "cell_type": "code",
   "execution_count": null,
   "id": "81248cfd",
   "metadata": {},
   "outputs": [],
   "source": [
    "tmin = -0.2  # 200 ms before the event\n",
    "tmax = 0.8   # 800 ms after the event\n",
    "epochs = mne.Epochs(raw, events, event_id=event_id,\n",
    "                    tmin=tmin, tmax=tmax, baseline=(None, 0),\n",
    "                    preload=True)\n",
    "epochs.plot_drop_log()"
   ]
  },
  {
   "cell_type": "markdown",
   "id": "0937dfd2",
   "metadata": {},
   "source": [
    "# 7. Define an automatic reject of the artifacts (optional)"
   ]
  },
  {
   "cell_type": "code",
   "execution_count": null,
   "id": "1a58720d",
   "metadata": {},
   "outputs": [],
   "source": [
    "# epochs.plot_drop_log()\n",
    "# epochs.drop_bad()"
   ]
  },
  {
   "cell_type": "markdown",
   "id": "6d0092fb",
   "metadata": {},
   "source": [
    "# 8. Averaging (ERP)"
   ]
  },
  {
   "cell_type": "code",
   "execution_count": null,
   "id": "966b131b",
   "metadata": {},
   "outputs": [],
   "source": [
    "evoked = epochs.average()\n",
    "# evoked.plot(title=\"ERP (moyenne des epochs)\")\n",
    "evoked.plot() # evoked does not accept any \"title\"\n",
    "\n",
    "# To add a title to the graph\n",
    "# fig = evoked.plot_image(picks='eeg')\n",
    "# fig.suptitle(\"ERP (moyenne des epochs)\")\n"
   ]
  },
  {
   "cell_type": "code",
   "execution_count": null,
   "id": "70678627",
   "metadata": {},
   "outputs": [],
   "source": [
    "# To add a title to the graph\n",
    "fig = evoked.plot_image(picks='eeg')\n",
    "fig.suptitle(\"ERP (moyenne des epochs)\")"
   ]
  },
  {
   "cell_type": "markdown",
   "id": "652beabb",
   "metadata": {},
   "source": [
    "# 9. Topography"
   ]
  },
  {
   "cell_type": "code",
   "execution_count": null,
   "id": "3820e2e6",
   "metadata": {},
   "outputs": [],
   "source": [
    "# evoked.plot_topomap(times=[0.1, 0.2, 0.3], ch_type='eeg', title=\"Topomap à 100/200/300 ms\")\n",
    "evoked.plot_topomap(times=[0.1, 0.2, 0.3], ch_type='eeg')"
   ]
  },
  {
   "cell_type": "markdown",
   "id": "8891ccb0",
   "metadata": {},
   "source": [
    "*** Show the Data ***"
   ]
  },
  {
   "cell_type": "code",
   "execution_count": null,
   "id": "a12cf643",
   "metadata": {},
   "outputs": [],
   "source": [
    "plt.show()"
   ]
  }
 ],
 "metadata": {
  "kernelspec": {
   "display_name": "Python 3",
   "language": "python",
   "name": "python3"
  },
  "language_info": {
   "codemirror_mode": {
    "name": "ipython",
    "version": 3
   },
   "file_extension": ".py",
   "mimetype": "text/x-python",
   "name": "python",
   "nbconvert_exporter": "python",
   "pygments_lexer": "ipython3",
   "version": "3.10.17"
  }
 },
 "nbformat": 4,
 "nbformat_minor": 5
}
