{
 "cells": [
  {
   "cell_type": "code",
   "execution_count": 1,
   "id": "9e38e9b5",
   "metadata": {},
   "outputs": [],
   "source": [
    "# Libraries\n",
    "import os\n",
    "import mne\n",
    "import pandas as pd\n",
    "import matplotlib.pyplot as plt"
   ]
  },
  {
   "cell_type": "markdown",
   "id": "80048b08",
   "metadata": {},
   "source": [
    "## To save the figures that are not MNEQtBrowser"
   ]
  },
  {
   "cell_type": "code",
   "execution_count": 2,
   "id": "815d8e45",
   "metadata": {},
   "outputs": [],
   "source": [
    "# Define a function to save all the Figures that are NOT MNEQtBrowser\n",
    "def save_figure(fig, filename, folder=\"C:\\\\Users\\\\indira.lavocat\\\\MOVIDOC\\\\tictrack_eeg_analysis\\\\Figures\"):\n",
    "    if not os.path.exists(folder):\n",
    "        os.makedirs(folder)\n",
    "    fig_path = os.path.join(folder, filename)\n",
    "    fig.savefig(fig_path)\n",
    "    print(f\"Figure saved: {fig_path}\")"
   ]
  },
  {
   "cell_type": "markdown",
   "id": "4c79a719",
   "metadata": {},
   "source": [
    "# 1. Define the path to the .vhdr file"
   ]
  },
  {
   "cell_type": "code",
   "execution_count": 3,
   "id": "ec9cdfa3",
   "metadata": {},
   "outputs": [
    {
     "name": "stdout",
     "output_type": "stream",
     "text": [
      "C:\\Users\\indira.lavocat\\MOVIDOC\\EEG\\Sujets\\IndiraLAVOCAT\\MOVIDOCTicTrack000005.vhdr\n"
     ]
    }
   ],
   "source": [
    "FolderPath = \"C:\\\\Users\\\\indira.lavocat\\\\MOVIDOC\\\\EEG\\\\Sujets\\\\IndiraLAVOCAT\" # need to adapt the last folder to suit the subject\n",
    "\n",
    "# Looking for the .vhdr file in the folder\n",
    "for file in os.listdir(FolderPath):\n",
    "    if file.endswith(\".vhdr\"):\n",
    "        FilePath = os.path.join(FolderPath, file)\n",
    "        break\n",
    "\n",
    "print(FilePath)\n",
    "\n",
    "\n",
    "# vhdr_file = \"C:\\\\Users\\\\indira.lavocat\\\\MOVIDOC\\\\EEG\\\\Indira Test\\\\MOVIDOCTicTrack000005.vhdr\""
   ]
  },
  {
   "cell_type": "markdown",
   "id": "c440670b",
   "metadata": {},
   "source": [
    "# 2. Load the data"
   ]
  },
  {
   "cell_type": "code",
   "execution_count": 4,
   "id": "1228d05c",
   "metadata": {},
   "outputs": [
    {
     "name": "stdout",
     "output_type": "stream",
     "text": [
      "Extracting parameters from C:\\Users\\indira.lavocat\\MOVIDOC\\EEG\\Sujets\\IndiraLAVOCAT\\MOVIDOCTicTrack000005.vhdr...\n",
      "Setting channel info structure...\n"
     ]
    },
    {
     "name": "stderr",
     "output_type": "stream",
     "text": [
      "C:\\Users\\indira.lavocat\\AppData\\Local\\Temp\\ipykernel_1832\\2402428994.py:1: RuntimeWarning: Online software filter detected. Using software filter settings and ignoring hardware values\n",
      "  raw = mne.io.read_raw_brainvision(FilePath, preload=True)\n"
     ]
    },
    {
     "name": "stdout",
     "output_type": "stream",
     "text": [
      "Reading 0 ... 79759  =      0.000 ...   159.518 secs...\n"
     ]
    }
   ],
   "source": [
    "raw = mne.io.read_raw_brainvision(FilePath, preload=True)"
   ]
  },
  {
   "cell_type": "code",
   "execution_count": 5,
   "id": "ecf83d6e",
   "metadata": {},
   "outputs": [
    {
     "data": {
      "text/html": [
       "<script type=\"text/javascript\">\n",
       "    // must be `var` (not `const`) because this can get embedded multiple times on a page\n",
       "var toggleVisibility = (className) => {\n",
       "\n",
       "    const elements = document.querySelectorAll(`.${className}`);\n",
       "\n",
       "    elements.forEach(element => {\n",
       "        if (element.classList.contains(\"mne-repr-section-header\")) {\n",
       "            return  // Don't collapse the section header row\n",
       "        }\n",
       "        element.classList.toggle(\"mne-repr-collapsed\");\n",
       "    });\n",
       "\n",
       "    // trigger caret to rotate\n",
       "    var sel = `.mne-repr-section-header.${className} > th.mne-repr-section-toggle > button`;\n",
       "    const button = document.querySelector(sel);\n",
       "    button.classList.toggle(\"collapsed\");\n",
       "\n",
       "    // adjust tooltip\n",
       "    sel = `tr.mne-repr-section-header.${className}`;\n",
       "    const secHeadRow = document.querySelector(sel);\n",
       "    secHeadRow.classList.toggle(\"collapsed\");\n",
       "    secHeadRow.title = secHeadRow.title === \"Hide section\" ? \"Show section\" : \"Hide section\";\n",
       "}\n",
       "</script>\n",
       "\n",
       "<style type=\"text/css\">\n",
       "    /*\n",
       "Styles in this section apply both to the sphinx-built website docs and to notebooks\n",
       "rendered in an IDE or in Jupyter. In our web docs, styles here are complemented by\n",
       "doc/_static/styles.css and other CSS files (e.g. from the sphinx theme, sphinx-gallery,\n",
       "or bootstrap). In IDEs/Jupyter, those style files are unavailable, so only the rules in\n",
       "this file apply (plus whatever default styling the IDE applies).\n",
       "*/\n",
       ".mne-repr-table {\n",
       "    display: inline;  /* prevent using full container width */\n",
       "}\n",
       ".mne-repr-table tr.mne-repr-section-header > th {\n",
       "    padding-top: 1rem;\n",
       "    text-align: left;\n",
       "    vertical-align: middle;\n",
       "}\n",
       ".mne-repr-section-toggle > button {\n",
       "    all: unset;\n",
       "    display: block;\n",
       "    height: 1rem;\n",
       "    width: 1rem;\n",
       "}\n",
       ".mne-repr-section-toggle > button > svg {\n",
       "    height: 60%;\n",
       "}\n",
       "\n",
       "/* transition (rotation) effects on the collapser button */\n",
       ".mne-repr-section-toggle > button.collapsed > svg {\n",
       "    transition: 0.1s ease-out;\n",
       "    transform: rotate(-90deg);\n",
       "}\n",
       ".mne-repr-section-toggle > button:not(.collapsed) > svg {\n",
       "    transition: 0.1s ease-out;\n",
       "    transform: rotate(0deg);\n",
       "}\n",
       "\n",
       "/* hide collapsed table rows */\n",
       ".mne-repr-collapsed {\n",
       "    display: none;\n",
       "}\n",
       "\n",
       "\n",
       "@layer {\n",
       "    /*\n",
       "    Selectors in a `@layer` will always be lower-precedence than selectors outside the\n",
       "    layer. So even though e.g. `div.output_html` is present in the sphinx-rendered\n",
       "    website docs, the styles here won't take effect there as long as some other rule\n",
       "    somewhere in the page's CSS targets the same element.\n",
       "\n",
       "    In IDEs or Jupyter notebooks, though, the CSS files from the sphinx theme,\n",
       "    sphinx-gallery, and bootstrap are unavailable, so these styles will apply.\n",
       "\n",
       "    Notes:\n",
       "\n",
       "    - the selector `.accordion-body` is for MNE Reports\n",
       "    - the selector `.output_html` is for VSCode's notebook interface\n",
       "    - the selector `.jp-RenderedHTML` is for Jupyter notebook\n",
       "    - variables starting with `--theme-` are VSCode-specific.\n",
       "    - variables starting with `--jp-` are Jupyter styles, *some of which* are also\n",
       "      available in VSCode. Here we try the `--theme-` variable first, then fall back to\n",
       "      the `--jp-` ones.\n",
       "    */\n",
       "    .mne-repr-table {\n",
       "        --mne-toggle-color: var(--theme-foreground, var(--jp-ui-font-color1));\n",
       "        --mne-button-bg-color: var(--theme-button-background, var(--jp-info-color0, var(--jp-content-link-color)));\n",
       "        --mne-button-fg-color: var(--theme-button-foreground, var(--jp-ui-inverse-font-color0, var(--jp-editor-background)));\n",
       "        --mne-button-hover-bg-color: var(--theme-button-hover-background, var(--jp-info-color1));\n",
       "        --mne-button-radius: var(--jp-border-radius, 0.25rem);\n",
       "    }\n",
       "    /* chevron position/alignment; in VSCode it looks ok without adjusting */\n",
       "    .accordion-body .mne-repr-section-toggle > button,\n",
       "    .jp-RenderedHTML .mne-repr-section-toggle > button {\n",
       "        padding: 0 0 45% 25% !important;\n",
       "    }\n",
       "    /* chevron color; MNE Report doesn't have light/dark mode */\n",
       "    div.output_html .mne-repr-section-toggle > button > svg > path,\n",
       "    .jp-RenderedHTML .mne-repr-section-toggle > button > svg > path {\n",
       "        fill: var(--mne-toggle-color);\n",
       "    }\n",
       "    .accordion-body .mne-ch-names-btn,\n",
       "    div.output_html .mne-ch-names-btn,\n",
       "    .jp-RenderedHTML .mne-ch-names-btn {\n",
       "        -webkit-border-radius: var(--mne-button-radius);\n",
       "        -moz-border-radius: var(--mne-button-radius);\n",
       "        border-radius: var(--mne-button-radius);\n",
       "        border: none;\n",
       "        background-image: none;\n",
       "        background-color: var(--mne-button-bg-color);\n",
       "        color: var(--mne-button-fg-color);\n",
       "        font-size: inherit;\n",
       "        min-width: 1.5rem;\n",
       "        padding: 0.25rem;\n",
       "        text-align: center;\n",
       "        text-decoration: none;\n",
       "    }\n",
       "    .accordion-body .mne-ch-names-btn:hover,\n",
       "    div.output_html .mne.ch-names-btn:hover,\n",
       "    .jp-RenderedHTML .mne-ch-names-btn:hover {\n",
       "        background-color: var(--mne-button-hover-bg-color);\n",
       "        text-decoration: underline;\n",
       "    }\n",
       "    .accordion-body .mne-ch-names-btn:focus-visible,\n",
       "    div.output_html .mne-ch-names-btn:focus-visible,\n",
       "    .jp-RenderedHTML .mne-ch-names-btn:focus-visible {\n",
       "        outline: 0.1875rem solid var(--mne-button-bg-color) !important;\n",
       "        outline-offset: 0.1875rem !important;\n",
       "    }\n",
       "}\n",
       "</style>\n",
       "\n",
       "\n",
       "\n",
       "<table class=\"table mne-repr-table\">\n",
       "    \n",
       "\n",
       "\n",
       "\n",
       "\n",
       "\n",
       "\n",
       "\n",
       "<tr class=\"mne-repr-section-header general-8a287d0b-1dde-49d2-a083-44b3dbca1c1c\"\n",
       "     title=\"Hide section\" \n",
       "    onclick=\"toggleVisibility('general-8a287d0b-1dde-49d2-a083-44b3dbca1c1c')\">\n",
       "    <th class=\"mne-repr-section-toggle\">\n",
       "        <button >\n",
       "            <svg xmlns=\"http://www.w3.org/2000/svg\" viewBox=\"0 0 512 512\"><!--!Font Awesome Free 6.6.0 by @fontawesome - https://fontawesome.com License - https://fontawesome.com/license/free Copyright 2024 Fonticons, Inc.--><path d=\"M233.4 406.6c12.5 12.5 32.8 12.5 45.3 0l192-192c12.5-12.5 12.5-32.8 0-45.3s-32.8-12.5-45.3 0L256 338.7 86.6 169.4c-12.5-12.5-32.8-12.5-45.3 0s-12.5 32.8 0 45.3l192 192z\"/></svg>\n",
       "        </button>\n",
       "    </th>\n",
       "    <th colspan=\"2\">\n",
       "        <strong>General</strong>\n",
       "    </th>\n",
       "</tr>\n",
       "\n",
       "\n",
       "<tr class=\"repr-element general-8a287d0b-1dde-49d2-a083-44b3dbca1c1c \">\n",
       "    <td class=\"mne-repr-section-toggle\"></td>\n",
       "    <td>MNE object type</td>\n",
       "    <td>Info</td>\n",
       "</tr>\n",
       "<tr class=\"repr-element general-8a287d0b-1dde-49d2-a083-44b3dbca1c1c \">\n",
       "    <td class=\"mne-repr-section-toggle\"></td>\n",
       "    <td>Measurement date</td>\n",
       "    \n",
       "    <td>2025-05-13 at 16:30:12 UTC</td>\n",
       "    \n",
       "</tr>\n",
       "<tr class=\"repr-element general-8a287d0b-1dde-49d2-a083-44b3dbca1c1c \">\n",
       "    <td class=\"mne-repr-section-toggle\"></td>\n",
       "    <td>Participant</td>\n",
       "    \n",
       "    <td>Unknown</td>\n",
       "    \n",
       "</tr>\n",
       "<tr class=\"repr-element general-8a287d0b-1dde-49d2-a083-44b3dbca1c1c \">\n",
       "    <td class=\"mne-repr-section-toggle\"></td>\n",
       "    <td>Experimenter</td>\n",
       "    \n",
       "    <td>Unknown</td>\n",
       "    \n",
       "</tr>\n",
       "    \n",
       "\n",
       "\n",
       "\n",
       "\n",
       "\n",
       "\n",
       "\n",
       "<tr class=\"mne-repr-section-header acquisition-f9019911-7fb4-4024-9bc8-319328b55e87\"\n",
       "     title=\"Hide section\" \n",
       "    onclick=\"toggleVisibility('acquisition-f9019911-7fb4-4024-9bc8-319328b55e87')\">\n",
       "    <th class=\"mne-repr-section-toggle\">\n",
       "        <button >\n",
       "            <svg xmlns=\"http://www.w3.org/2000/svg\" viewBox=\"0 0 512 512\"><!--!Font Awesome Free 6.6.0 by @fontawesome - https://fontawesome.com License - https://fontawesome.com/license/free Copyright 2024 Fonticons, Inc.--><path d=\"M233.4 406.6c12.5 12.5 32.8 12.5 45.3 0l192-192c12.5-12.5 12.5-32.8 0-45.3s-32.8-12.5-45.3 0L256 338.7 86.6 169.4c-12.5-12.5-32.8-12.5-45.3 0s-12.5 32.8 0 45.3l192 192z\"/></svg>\n",
       "        </button>\n",
       "    </th>\n",
       "    <th colspan=\"2\">\n",
       "        <strong>Acquisition</strong>\n",
       "    </th>\n",
       "</tr>\n",
       "\n",
       "\n",
       "\n",
       "\n",
       "\n",
       "\n",
       "\n",
       "\n",
       "\n",
       "<tr class=\"repr-element acquisition-f9019911-7fb4-4024-9bc8-319328b55e87 \">\n",
       "    <td class=\"mne-repr-section-toggle\"></td>\n",
       "    <td>Sampling frequency</td>\n",
       "    <td>500.00 Hz</td>\n",
       "</tr>\n",
       "\n",
       "\n",
       "\n",
       "    \n",
       "\n",
       "\n",
       "\n",
       "\n",
       "\n",
       "\n",
       "\n",
       "<tr class=\"mne-repr-section-header channels-408c533e-bf9d-4c89-9038-24029262ceb3\"\n",
       "     title=\"Hide section\" \n",
       "    onclick=\"toggleVisibility('channels-408c533e-bf9d-4c89-9038-24029262ceb3')\">\n",
       "    <th class=\"mne-repr-section-toggle\">\n",
       "        <button >\n",
       "            <svg xmlns=\"http://www.w3.org/2000/svg\" viewBox=\"0 0 512 512\"><!--!Font Awesome Free 6.6.0 by @fontawesome - https://fontawesome.com License - https://fontawesome.com/license/free Copyright 2024 Fonticons, Inc.--><path d=\"M233.4 406.6c12.5 12.5 32.8 12.5 45.3 0l192-192c12.5-12.5 12.5-32.8 0-45.3s-32.8-12.5-45.3 0L256 338.7 86.6 169.4c-12.5-12.5-32.8-12.5-45.3 0s-12.5 32.8 0 45.3l192 192z\"/></svg>\n",
       "        </button>\n",
       "    </th>\n",
       "    <th colspan=\"2\">\n",
       "        <strong>Channels</strong>\n",
       "    </th>\n",
       "</tr>\n",
       "\n",
       "\n",
       "    \n",
       "<tr class=\"repr-element channels-408c533e-bf9d-4c89-9038-24029262ceb3 \">\n",
       "    <td class=\"mne-repr-section-toggle\"></td>\n",
       "    <td>EEG</td>\n",
       "    <td>\n",
       "        <button class=\"mne-ch-names-btn sd-sphinx-override sd-btn sd-btn-info sd-text-wrap sd-shadow-sm\" onclick=\"alert('Good EEG:\\n\\nFp1, F3, F7, FT9, FC5, FC1, C3, T7, TP9, CP5, CP1, Pz, P3, P7, O1, Oz, O2, P4, P8, TP10, CP6, CP2, Cz, C4, T8, FT10, FC6, FC2, F4, F8, Fp2')\" title=\"(Click to open in popup)&#13;&#13;Fp1, F3, F7, FT9, FC5, FC1, C3, T7, TP9, CP5, CP1, Pz, P3, P7, O1, Oz, O2, P4, P8, TP10, CP6, CP2, Cz, C4, T8, FT10, FC6, FC2, F4, F8, Fp2\">\n",
       "            31\n",
       "        </button>\n",
       "\n",
       "        \n",
       "    </td>\n",
       "</tr>\n",
       "\n",
       "\n",
       "<tr class=\"repr-element channels-408c533e-bf9d-4c89-9038-24029262ceb3 \">\n",
       "    <td class=\"mne-repr-section-toggle\"></td>\n",
       "    <td>Head & sensor digitization</td>\n",
       "    \n",
       "    <td>Not available</td>\n",
       "    \n",
       "</tr>\n",
       "    \n",
       "\n",
       "\n",
       "\n",
       "\n",
       "\n",
       "\n",
       "\n",
       "<tr class=\"mne-repr-section-header filters-4290683b-3206-424d-8bf8-d45dcc09bd76\"\n",
       "     title=\"Hide section\" \n",
       "    onclick=\"toggleVisibility('filters-4290683b-3206-424d-8bf8-d45dcc09bd76')\">\n",
       "    <th class=\"mne-repr-section-toggle\">\n",
       "        <button >\n",
       "            <svg xmlns=\"http://www.w3.org/2000/svg\" viewBox=\"0 0 512 512\"><!--!Font Awesome Free 6.6.0 by @fontawesome - https://fontawesome.com License - https://fontawesome.com/license/free Copyright 2024 Fonticons, Inc.--><path d=\"M233.4 406.6c12.5 12.5 32.8 12.5 45.3 0l192-192c12.5-12.5 12.5-32.8 0-45.3s-32.8-12.5-45.3 0L256 338.7 86.6 169.4c-12.5-12.5-32.8-12.5-45.3 0s-12.5 32.8 0 45.3l192 192z\"/></svg>\n",
       "        </button>\n",
       "    </th>\n",
       "    <th colspan=\"2\">\n",
       "        <strong>Filters</strong>\n",
       "    </th>\n",
       "</tr>\n",
       "\n",
       "\n",
       "<tr class=\"repr-element filters-4290683b-3206-424d-8bf8-d45dcc09bd76 \">\n",
       "    <td class=\"mne-repr-section-toggle\"></td>\n",
       "    <td>Highpass</td>\n",
       "    <td>0.00 Hz</td>\n",
       "</tr>\n",
       "\n",
       "\n",
       "<tr class=\"repr-element filters-4290683b-3206-424d-8bf8-d45dcc09bd76 \">\n",
       "    <td class=\"mne-repr-section-toggle\"></td>\n",
       "    <td>Lowpass</td>\n",
       "    <td>250.00 Hz</td>\n",
       "</tr>\n",
       "\n",
       "\n",
       "</table>"
      ],
      "text/plain": [
       "<Info | 7 non-empty values\n",
       " bads: []\n",
       " ch_names: Fp1, F3, F7, FT9, FC5, FC1, C3, T7, TP9, CP5, CP1, Pz, P3, P7, ...\n",
       " chs: 31 EEG\n",
       " custom_ref_applied: False\n",
       " highpass: 0.0 Hz\n",
       " lowpass: 250.0 Hz\n",
       " meas_date: 2025-05-13 16:30:12 UTC\n",
       " nchan: 31\n",
       " projs: []\n",
       " sfreq: 500.0 Hz\n",
       ">"
      ]
     },
     "execution_count": 5,
     "metadata": {},
     "output_type": "execute_result"
    }
   ],
   "source": [
    "raw.info"
   ]
  },
  {
   "cell_type": "code",
   "execution_count": 6,
   "id": "68a1e1a3",
   "metadata": {},
   "outputs": [
    {
     "name": "stdout",
     "output_type": "stream",
     "text": [
      "['Fp1', 'F3', 'F7', 'FT9', 'FC5', 'FC1', 'C3', 'T7', 'TP9', 'CP5', 'CP1', 'Pz', 'P3', 'P7', 'O1', 'Oz', 'O2', 'P4', 'P8', 'TP10', 'CP6', 'CP2', 'Cz', 'C4', 'T8', 'FT10', 'FC6', 'FC2', 'F4', 'F8', 'Fp2']\n"
     ]
    }
   ],
   "source": [
    "# raw.ch_names\n",
    "print(raw.ch_names)"
   ]
  },
  {
   "cell_type": "code",
   "execution_count": 7,
   "id": "ab6079d7",
   "metadata": {},
   "outputs": [
    {
     "name": "stdout",
     "output_type": "stream",
     "text": [
      "None\n"
     ]
    }
   ],
   "source": [
    "print(raw.info['description']) # gives a note about the channels when there is one"
   ]
  },
  {
   "cell_type": "markdown",
   "id": "9b7921c8",
   "metadata": {},
   "source": [
    "# 3. Define the montage"
   ]
  },
  {
   "cell_type": "code",
   "execution_count": 8,
   "id": "0a1522c4",
   "metadata": {},
   "outputs": [
    {
     "data": {
      "text/html": [
       "<script type=\"text/javascript\">\n",
       "    // must be `var` (not `const`) because this can get embedded multiple times on a page\n",
       "var toggleVisibility = (className) => {\n",
       "\n",
       "    const elements = document.querySelectorAll(`.${className}`);\n",
       "\n",
       "    elements.forEach(element => {\n",
       "        if (element.classList.contains(\"mne-repr-section-header\")) {\n",
       "            return  // Don't collapse the section header row\n",
       "        }\n",
       "        element.classList.toggle(\"mne-repr-collapsed\");\n",
       "    });\n",
       "\n",
       "    // trigger caret to rotate\n",
       "    var sel = `.mne-repr-section-header.${className} > th.mne-repr-section-toggle > button`;\n",
       "    const button = document.querySelector(sel);\n",
       "    button.classList.toggle(\"collapsed\");\n",
       "\n",
       "    // adjust tooltip\n",
       "    sel = `tr.mne-repr-section-header.${className}`;\n",
       "    const secHeadRow = document.querySelector(sel);\n",
       "    secHeadRow.classList.toggle(\"collapsed\");\n",
       "    secHeadRow.title = secHeadRow.title === \"Hide section\" ? \"Show section\" : \"Hide section\";\n",
       "}\n",
       "</script>\n",
       "\n",
       "<style type=\"text/css\">\n",
       "    /*\n",
       "Styles in this section apply both to the sphinx-built website docs and to notebooks\n",
       "rendered in an IDE or in Jupyter. In our web docs, styles here are complemented by\n",
       "doc/_static/styles.css and other CSS files (e.g. from the sphinx theme, sphinx-gallery,\n",
       "or bootstrap). In IDEs/Jupyter, those style files are unavailable, so only the rules in\n",
       "this file apply (plus whatever default styling the IDE applies).\n",
       "*/\n",
       ".mne-repr-table {\n",
       "    display: inline;  /* prevent using full container width */\n",
       "}\n",
       ".mne-repr-table tr.mne-repr-section-header > th {\n",
       "    padding-top: 1rem;\n",
       "    text-align: left;\n",
       "    vertical-align: middle;\n",
       "}\n",
       ".mne-repr-section-toggle > button {\n",
       "    all: unset;\n",
       "    display: block;\n",
       "    height: 1rem;\n",
       "    width: 1rem;\n",
       "}\n",
       ".mne-repr-section-toggle > button > svg {\n",
       "    height: 60%;\n",
       "}\n",
       "\n",
       "/* transition (rotation) effects on the collapser button */\n",
       ".mne-repr-section-toggle > button.collapsed > svg {\n",
       "    transition: 0.1s ease-out;\n",
       "    transform: rotate(-90deg);\n",
       "}\n",
       ".mne-repr-section-toggle > button:not(.collapsed) > svg {\n",
       "    transition: 0.1s ease-out;\n",
       "    transform: rotate(0deg);\n",
       "}\n",
       "\n",
       "/* hide collapsed table rows */\n",
       ".mne-repr-collapsed {\n",
       "    display: none;\n",
       "}\n",
       "\n",
       "\n",
       "@layer {\n",
       "    /*\n",
       "    Selectors in a `@layer` will always be lower-precedence than selectors outside the\n",
       "    layer. So even though e.g. `div.output_html` is present in the sphinx-rendered\n",
       "    website docs, the styles here won't take effect there as long as some other rule\n",
       "    somewhere in the page's CSS targets the same element.\n",
       "\n",
       "    In IDEs or Jupyter notebooks, though, the CSS files from the sphinx theme,\n",
       "    sphinx-gallery, and bootstrap are unavailable, so these styles will apply.\n",
       "\n",
       "    Notes:\n",
       "\n",
       "    - the selector `.accordion-body` is for MNE Reports\n",
       "    - the selector `.output_html` is for VSCode's notebook interface\n",
       "    - the selector `.jp-RenderedHTML` is for Jupyter notebook\n",
       "    - variables starting with `--theme-` are VSCode-specific.\n",
       "    - variables starting with `--jp-` are Jupyter styles, *some of which* are also\n",
       "      available in VSCode. Here we try the `--theme-` variable first, then fall back to\n",
       "      the `--jp-` ones.\n",
       "    */\n",
       "    .mne-repr-table {\n",
       "        --mne-toggle-color: var(--theme-foreground, var(--jp-ui-font-color1));\n",
       "        --mne-button-bg-color: var(--theme-button-background, var(--jp-info-color0, var(--jp-content-link-color)));\n",
       "        --mne-button-fg-color: var(--theme-button-foreground, var(--jp-ui-inverse-font-color0, var(--jp-editor-background)));\n",
       "        --mne-button-hover-bg-color: var(--theme-button-hover-background, var(--jp-info-color1));\n",
       "        --mne-button-radius: var(--jp-border-radius, 0.25rem);\n",
       "    }\n",
       "    /* chevron position/alignment; in VSCode it looks ok without adjusting */\n",
       "    .accordion-body .mne-repr-section-toggle > button,\n",
       "    .jp-RenderedHTML .mne-repr-section-toggle > button {\n",
       "        padding: 0 0 45% 25% !important;\n",
       "    }\n",
       "    /* chevron color; MNE Report doesn't have light/dark mode */\n",
       "    div.output_html .mne-repr-section-toggle > button > svg > path,\n",
       "    .jp-RenderedHTML .mne-repr-section-toggle > button > svg > path {\n",
       "        fill: var(--mne-toggle-color);\n",
       "    }\n",
       "    .accordion-body .mne-ch-names-btn,\n",
       "    div.output_html .mne-ch-names-btn,\n",
       "    .jp-RenderedHTML .mne-ch-names-btn {\n",
       "        -webkit-border-radius: var(--mne-button-radius);\n",
       "        -moz-border-radius: var(--mne-button-radius);\n",
       "        border-radius: var(--mne-button-radius);\n",
       "        border: none;\n",
       "        background-image: none;\n",
       "        background-color: var(--mne-button-bg-color);\n",
       "        color: var(--mne-button-fg-color);\n",
       "        font-size: inherit;\n",
       "        min-width: 1.5rem;\n",
       "        padding: 0.25rem;\n",
       "        text-align: center;\n",
       "        text-decoration: none;\n",
       "    }\n",
       "    .accordion-body .mne-ch-names-btn:hover,\n",
       "    div.output_html .mne.ch-names-btn:hover,\n",
       "    .jp-RenderedHTML .mne-ch-names-btn:hover {\n",
       "        background-color: var(--mne-button-hover-bg-color);\n",
       "        text-decoration: underline;\n",
       "    }\n",
       "    .accordion-body .mne-ch-names-btn:focus-visible,\n",
       "    div.output_html .mne-ch-names-btn:focus-visible,\n",
       "    .jp-RenderedHTML .mne-ch-names-btn:focus-visible {\n",
       "        outline: 0.1875rem solid var(--mne-button-bg-color) !important;\n",
       "        outline-offset: 0.1875rem !important;\n",
       "    }\n",
       "}\n",
       "</style>\n",
       "\n",
       "\n",
       "\n",
       "<table class=\"table mne-repr-table\">\n",
       "    \n",
       "\n",
       "\n",
       "\n",
       "\n",
       "\n",
       "\n",
       "\n",
       "<tr class=\"mne-repr-section-header general-2fe28926-e4a3-4790-94ae-4c1d14341bfc\"\n",
       "     title=\"Hide section\" \n",
       "    onclick=\"toggleVisibility('general-2fe28926-e4a3-4790-94ae-4c1d14341bfc')\">\n",
       "    <th class=\"mne-repr-section-toggle\">\n",
       "        <button >\n",
       "            <svg xmlns=\"http://www.w3.org/2000/svg\" viewBox=\"0 0 512 512\"><!--!Font Awesome Free 6.6.0 by @fontawesome - https://fontawesome.com License - https://fontawesome.com/license/free Copyright 2024 Fonticons, Inc.--><path d=\"M233.4 406.6c12.5 12.5 32.8 12.5 45.3 0l192-192c12.5-12.5 12.5-32.8 0-45.3s-32.8-12.5-45.3 0L256 338.7 86.6 169.4c-12.5-12.5-32.8-12.5-45.3 0s-12.5 32.8 0 45.3l192 192z\"/></svg>\n",
       "        </button>\n",
       "    </th>\n",
       "    <th colspan=\"2\">\n",
       "        <strong>General</strong>\n",
       "    </th>\n",
       "</tr>\n",
       "\n",
       "\n",
       "<tr class=\"repr-element general-2fe28926-e4a3-4790-94ae-4c1d14341bfc \">\n",
       "    <td class=\"mne-repr-section-toggle\"></td>\n",
       "    <td>Filename(s)</td>\n",
       "    <td>\n",
       "        \n",
       "        MOVIDOCTicTrack000005.eeg\n",
       "        \n",
       "        \n",
       "    </td>\n",
       "</tr>\n",
       "\n",
       "<tr class=\"repr-element general-2fe28926-e4a3-4790-94ae-4c1d14341bfc \">\n",
       "    <td class=\"mne-repr-section-toggle\"></td>\n",
       "    <td>MNE object type</td>\n",
       "    <td>RawBrainVision</td>\n",
       "</tr>\n",
       "<tr class=\"repr-element general-2fe28926-e4a3-4790-94ae-4c1d14341bfc \">\n",
       "    <td class=\"mne-repr-section-toggle\"></td>\n",
       "    <td>Measurement date</td>\n",
       "    \n",
       "    <td>2025-05-13 at 16:30:12 UTC</td>\n",
       "    \n",
       "</tr>\n",
       "<tr class=\"repr-element general-2fe28926-e4a3-4790-94ae-4c1d14341bfc \">\n",
       "    <td class=\"mne-repr-section-toggle\"></td>\n",
       "    <td>Participant</td>\n",
       "    \n",
       "    <td>Unknown</td>\n",
       "    \n",
       "</tr>\n",
       "<tr class=\"repr-element general-2fe28926-e4a3-4790-94ae-4c1d14341bfc \">\n",
       "    <td class=\"mne-repr-section-toggle\"></td>\n",
       "    <td>Experimenter</td>\n",
       "    \n",
       "    <td>Unknown</td>\n",
       "    \n",
       "</tr>\n",
       "    \n",
       "\n",
       "\n",
       "\n",
       "\n",
       "\n",
       "\n",
       "\n",
       "<tr class=\"mne-repr-section-header acquisition-5685af07-503c-4396-a1ef-f9f3d1a3ea9d\"\n",
       "     title=\"Hide section\" \n",
       "    onclick=\"toggleVisibility('acquisition-5685af07-503c-4396-a1ef-f9f3d1a3ea9d')\">\n",
       "    <th class=\"mne-repr-section-toggle\">\n",
       "        <button >\n",
       "            <svg xmlns=\"http://www.w3.org/2000/svg\" viewBox=\"0 0 512 512\"><!--!Font Awesome Free 6.6.0 by @fontawesome - https://fontawesome.com License - https://fontawesome.com/license/free Copyright 2024 Fonticons, Inc.--><path d=\"M233.4 406.6c12.5 12.5 32.8 12.5 45.3 0l192-192c12.5-12.5 12.5-32.8 0-45.3s-32.8-12.5-45.3 0L256 338.7 86.6 169.4c-12.5-12.5-32.8-12.5-45.3 0s-12.5 32.8 0 45.3l192 192z\"/></svg>\n",
       "        </button>\n",
       "    </th>\n",
       "    <th colspan=\"2\">\n",
       "        <strong>Acquisition</strong>\n",
       "    </th>\n",
       "</tr>\n",
       "\n",
       "\n",
       "<tr class=\"repr-element acquisition-5685af07-503c-4396-a1ef-f9f3d1a3ea9d \">\n",
       "    <td class=\"mne-repr-section-toggle\"></td>\n",
       "    <td>Duration</td>\n",
       "    <td>00:02:40 (HH:MM:SS)</td>\n",
       "</tr>\n",
       "\n",
       "\n",
       "\n",
       "\n",
       "\n",
       "\n",
       "\n",
       "\n",
       "<tr class=\"repr-element acquisition-5685af07-503c-4396-a1ef-f9f3d1a3ea9d \">\n",
       "    <td class=\"mne-repr-section-toggle\"></td>\n",
       "    <td>Sampling frequency</td>\n",
       "    <td>500.00 Hz</td>\n",
       "</tr>\n",
       "\n",
       "\n",
       "<tr class=\"repr-element acquisition-5685af07-503c-4396-a1ef-f9f3d1a3ea9d \">\n",
       "    <td class=\"mne-repr-section-toggle\"></td>\n",
       "    <td>Time points</td>\n",
       "    <td>79,760</td>\n",
       "</tr>\n",
       "\n",
       "\n",
       "    \n",
       "\n",
       "\n",
       "\n",
       "\n",
       "\n",
       "\n",
       "\n",
       "<tr class=\"mne-repr-section-header channels-5ec2b76e-107d-42d8-9a12-8ae5004c5abb\"\n",
       "     title=\"Hide section\" \n",
       "    onclick=\"toggleVisibility('channels-5ec2b76e-107d-42d8-9a12-8ae5004c5abb')\">\n",
       "    <th class=\"mne-repr-section-toggle\">\n",
       "        <button >\n",
       "            <svg xmlns=\"http://www.w3.org/2000/svg\" viewBox=\"0 0 512 512\"><!--!Font Awesome Free 6.6.0 by @fontawesome - https://fontawesome.com License - https://fontawesome.com/license/free Copyright 2024 Fonticons, Inc.--><path d=\"M233.4 406.6c12.5 12.5 32.8 12.5 45.3 0l192-192c12.5-12.5 12.5-32.8 0-45.3s-32.8-12.5-45.3 0L256 338.7 86.6 169.4c-12.5-12.5-32.8-12.5-45.3 0s-12.5 32.8 0 45.3l192 192z\"/></svg>\n",
       "        </button>\n",
       "    </th>\n",
       "    <th colspan=\"2\">\n",
       "        <strong>Channels</strong>\n",
       "    </th>\n",
       "</tr>\n",
       "\n",
       "\n",
       "    \n",
       "<tr class=\"repr-element channels-5ec2b76e-107d-42d8-9a12-8ae5004c5abb \">\n",
       "    <td class=\"mne-repr-section-toggle\"></td>\n",
       "    <td>EEG</td>\n",
       "    <td>\n",
       "        <button class=\"mne-ch-names-btn sd-sphinx-override sd-btn sd-btn-info sd-text-wrap sd-shadow-sm\" onclick=\"alert('Good EEG:\\n\\nFp1, F3, F7, FT9, FC5, FC1, C3, T7, TP9, CP5, CP1, Pz, P3, P7, O1, Oz, O2, P4, P8, TP10, CP6, CP2, Cz, C4, T8, FT10, FC6, FC2, F4, F8, Fp2')\" title=\"(Click to open in popup)&#13;&#13;Fp1, F3, F7, FT9, FC5, FC1, C3, T7, TP9, CP5, CP1, Pz, P3, P7, O1, Oz, O2, P4, P8, TP10, CP6, CP2, Cz, C4, T8, FT10, FC6, FC2, F4, F8, Fp2\">\n",
       "            31\n",
       "        </button>\n",
       "\n",
       "        \n",
       "    </td>\n",
       "</tr>\n",
       "\n",
       "\n",
       "<tr class=\"repr-element channels-5ec2b76e-107d-42d8-9a12-8ae5004c5abb \">\n",
       "    <td class=\"mne-repr-section-toggle\"></td>\n",
       "    <td>Head & sensor digitization</td>\n",
       "    \n",
       "    <td>34 points</td>\n",
       "    \n",
       "</tr>\n",
       "    \n",
       "\n",
       "\n",
       "\n",
       "\n",
       "\n",
       "\n",
       "\n",
       "<tr class=\"mne-repr-section-header filters-a359b775-1308-4adb-9c69-9673ad8515e1\"\n",
       "     title=\"Hide section\" \n",
       "    onclick=\"toggleVisibility('filters-a359b775-1308-4adb-9c69-9673ad8515e1')\">\n",
       "    <th class=\"mne-repr-section-toggle\">\n",
       "        <button >\n",
       "            <svg xmlns=\"http://www.w3.org/2000/svg\" viewBox=\"0 0 512 512\"><!--!Font Awesome Free 6.6.0 by @fontawesome - https://fontawesome.com License - https://fontawesome.com/license/free Copyright 2024 Fonticons, Inc.--><path d=\"M233.4 406.6c12.5 12.5 32.8 12.5 45.3 0l192-192c12.5-12.5 12.5-32.8 0-45.3s-32.8-12.5-45.3 0L256 338.7 86.6 169.4c-12.5-12.5-32.8-12.5-45.3 0s-12.5 32.8 0 45.3l192 192z\"/></svg>\n",
       "        </button>\n",
       "    </th>\n",
       "    <th colspan=\"2\">\n",
       "        <strong>Filters</strong>\n",
       "    </th>\n",
       "</tr>\n",
       "\n",
       "\n",
       "<tr class=\"repr-element filters-a359b775-1308-4adb-9c69-9673ad8515e1 \">\n",
       "    <td class=\"mne-repr-section-toggle\"></td>\n",
       "    <td>Highpass</td>\n",
       "    <td>0.00 Hz</td>\n",
       "</tr>\n",
       "\n",
       "\n",
       "<tr class=\"repr-element filters-a359b775-1308-4adb-9c69-9673ad8515e1 \">\n",
       "    <td class=\"mne-repr-section-toggle\"></td>\n",
       "    <td>Lowpass</td>\n",
       "    <td>250.00 Hz</td>\n",
       "</tr>\n",
       "\n",
       "\n",
       "</table>"
      ],
      "text/plain": [
       "<RawBrainVision | MOVIDOCTicTrack000005.eeg, 31 x 79760 (159.5 s), ~18.9 MiB, data loaded>"
      ]
     },
     "execution_count": 8,
     "metadata": {},
     "output_type": "execute_result"
    }
   ],
   "source": [
    "raw.set_montage(\"standard_1020\") # to adapt according to the montage used during the exepriments"
   ]
  },
  {
   "cell_type": "code",
   "execution_count": 9,
   "id": "0db6f7d1",
   "metadata": {},
   "outputs": [
    {
     "data": {
      "image/png": "[encoded data removed]",
      "text/plain": [
       "<Figure size 640x640 with 1 Axes>"
      ]
     },
     "metadata": {},
     "output_type": "display_data"
    },
    {
     "name": "stdout",
     "output_type": "stream",
     "text": [
      "Figure saved: C:\\Users\\indira.lavocat\\MOVIDOC\\tictrack_eeg_analysis\\Figures\\Figure1_SensorsMontage.png\n"
     ]
    }
   ],
   "source": [
    "Sensors_Montage_Figure_1 = raw.plot_sensors(show_names=True)\n",
    "# fig.savefig(\"C:\\\\Users\\\\indira.lavocat\\\\MOVIDOC\\\\tictrack_eeg_analysis\\\\Figures\\\\Figure1_SensorsMontage.png\")\n",
    "save_figure(Sensors_Montage_Figure_1, \"Figure1_SensorsMontage.png\")"
   ]
  },
  {
   "cell_type": "markdown",
   "id": "610b3d4e",
   "metadata": {},
   "source": [
    "# 4. Extract the stimulus"
   ]
  },
  {
   "cell_type": "code",
   "execution_count": 10,
   "id": "f60fd291",
   "metadata": {},
   "outputs": [
    {
     "name": "stdout",
     "output_type": "stream",
     "text": [
      "Used Annotations descriptions: [np.str_('New Segment/'), np.str_('Stimulus/S  1'), np.str_('Stimulus/S  2'), np.str_('Stimulus/S  3'), np.str_('Stimulus/S  4'), np.str_('Stimulus/S  5'), np.str_('Stimulus/S  6'), np.str_('Stimulus/S  7'), np.str_('Stimulus/S  8'), np.str_('Stimulus/S  9'), np.str_('Stimulus/S 10'), np.str_('Stimulus/S 11'), np.str_('Stimulus/S 12'), np.str_('Stimulus/S 13'), np.str_('Stimulus/S 14'), np.str_('Stimulus/S 21'), np.str_('Stimulus/S 22'), np.str_('Stimulus/S 23'), np.str_('Stimulus/S 24'), np.str_('Stimulus/S 25')]\n",
      "Events list (stimulus) :\n",
      "{np.str_('New Segment/'): 99999, np.str_('Stimulus/S  1'): 1, np.str_('Stimulus/S  2'): 2, np.str_('Stimulus/S  3'): 3, np.str_('Stimulus/S  4'): 4, np.str_('Stimulus/S  5'): 5, np.str_('Stimulus/S  6'): 6, np.str_('Stimulus/S  7'): 7, np.str_('Stimulus/S  8'): 8, np.str_('Stimulus/S  9'): 9, np.str_('Stimulus/S 10'): 10, np.str_('Stimulus/S 11'): 11, np.str_('Stimulus/S 12'): 12, np.str_('Stimulus/S 13'): 13, np.str_('Stimulus/S 14'): 14, np.str_('Stimulus/S 21'): 21, np.str_('Stimulus/S 22'): 22, np.str_('Stimulus/S 23'): 23, np.str_('Stimulus/S 24'): 24, np.str_('Stimulus/S 25'): 25}\n"
     ]
    }
   ],
   "source": [
    "# Create an events dicionnary\n",
    "events, event_id = mne.events_from_annotations(raw)\n",
    "print(\"Events list (stimulus) :\")\n",
    "print(event_id)"
   ]
  },
  {
   "cell_type": "code",
   "execution_count": 11,
   "id": "94c200f7",
   "metadata": {},
   "outputs": [
    {
     "name": "stdout",
     "output_type": "stream",
     "text": [
      "Events (sample, previous_id, event_id) :\n",
      "[[    0     0 99999]\n",
      " [ 2971     0     1]\n",
      " [ 6388     0    25]\n",
      " [ 6393     0     2]\n",
      " [10935     0    25]\n",
      " [10940     0     3]\n",
      " [12636     0    21]\n",
      " [13521     0    21]\n",
      " [14309     0    21]\n",
      " [15058     0    21]\n",
      " [15773     0    21]\n",
      " [15777     0     4]\n",
      " [19459     0    25]\n",
      " [19464     0     5]\n",
      " [24943     0     6]\n",
      " [28263     0    25]\n",
      " [28267     0     7]\n",
      " [33753     0     8]\n",
      " [36571     0    25]\n",
      " [36575     0     9]\n",
      " [38181     0    21]\n",
      " [38568     0    22]\n",
      " [40526     0    21]\n",
      " [41150     0    22]\n",
      " [42979     0    21]\n",
      " [43429     0    22]\n",
      " [44578     0    21]\n",
      " [45201     0    22]\n",
      " [46138     0    21]\n",
      " [46350     0    22]\n",
      " [47052     0    10]\n",
      " [51114     0    25]\n",
      " [51119     0    11]\n",
      " [51765     0    21]\n",
      " [52266     0    22]\n",
      " [54178     0    21]\n",
      " [54709     0    22]\n",
      " [55872     0    21]\n",
      " [56340     0    22]\n",
      " [57552     0    21]\n",
      " [58051     0    22]\n",
      " [59551     0    24]\n",
      " [60448     0    24]\n",
      " [61248     0    21]\n",
      " [61731     0    22]\n",
      " [61776     0    12]\n",
      " [63817     0    25]\n",
      " [63822     0    13]\n",
      " [64638     0    23]\n",
      " [67579     0    23]\n",
      " [70586     0    24]\n",
      " [71830     0    23]\n",
      " [73251     0    24]\n",
      " [73879     0    14]]\n"
     ]
    }
   ],
   "source": [
    "# Display the tab of events\n",
    "print(\"Events (sample, previous_id, event_id) :\")\n",
    "print(events)"
   ]
  },
  {
   "cell_type": "code",
   "execution_count": 23,
   "id": "b1436e04",
   "metadata": {},
   "outputs": [
    {
     "name": "stdout",
     "output_type": "stream",
     "text": [
      "Stimulus 1 à 5.942 s\n",
      "Stimulus 25 à 12.776 s\n",
      "Stimulus 2 à 12.786 s\n",
      "Stimulus 25 à 21.870 s\n",
      "Stimulus 3 à 21.880 s\n",
      "Stimulus 21 à 25.272 s\n",
      "Stimulus 21 à 27.042 s\n",
      "Stimulus 21 à 28.618 s\n",
      "Stimulus 21 à 30.116 s\n",
      "Stimulus 21 à 31.546 s\n",
      "Stimulus 4 à 31.554 s\n",
      "Stimulus 25 à 38.918 s\n",
      "Stimulus 5 à 38.928 s\n",
      "Stimulus 6 à 49.886 s\n",
      "Stimulus 25 à 56.526 s\n",
      "Stimulus 7 à 56.534 s\n",
      "Stimulus 8 à 67.506 s\n",
      "Stimulus 25 à 73.142 s\n",
      "Stimulus 9 à 73.150 s\n",
      "Stimulus 21 à 76.362 s\n",
      "Stimulus 22 à 77.136 s\n",
      "Stimulus 21 à 81.052 s\n",
      "Stimulus 22 à 82.300 s\n",
      "Stimulus 21 à 85.958 s\n",
      "Stimulus 22 à 86.858 s\n",
      "Stimulus 21 à 89.156 s\n",
      "Stimulus 22 à 90.402 s\n",
      "Stimulus 21 à 92.276 s\n",
      "Stimulus 22 à 92.700 s\n",
      "Stimulus 10 à 94.104 s\n",
      "Stimulus 25 à 102.228 s\n",
      "Stimulus 11 à 102.238 s\n",
      "Stimulus 21 à 103.530 s\n",
      "Stimulus 22 à 104.532 s\n",
      "Stimulus 21 à 108.356 s\n",
      "Stimulus 22 à 109.418 s\n",
      "Stimulus 21 à 111.744 s\n",
      "Stimulus 22 à 112.680 s\n",
      "Stimulus 21 à 115.104 s\n",
      "Stimulus 22 à 116.102 s\n",
      "Stimulus 24 à 119.102 s\n",
      "Stimulus 24 à 120.896 s\n",
      "Stimulus 21 à 122.496 s\n",
      "Stimulus 22 à 123.462 s\n",
      "Stimulus 12 à 123.552 s\n",
      "Stimulus 25 à 127.634 s\n",
      "Stimulus 13 à 127.644 s\n",
      "Stimulus 23 à 129.276 s\n",
      "Stimulus 23 à 135.158 s\n",
      "Stimulus 24 à 141.172 s\n",
      "Stimulus 23 à 143.660 s\n",
      "Stimulus 24 à 146.502 s\n",
      "Stimulus 14 à 147.758 s\n"
     ]
    }
   ],
   "source": [
    "# Convert the timestamps into seconds\n",
    "events = events[events[:, 0] != 0]  # <-- filters the events at 0.000 s\n",
    "events_times_sec = events[:, 0] / raw.info['sfreq'] # converts the timestamps into seconds\n",
    "\n",
    "for time, eid in zip(events_times_sec, events[:, 2]): # links each time in seconds to its event ID\n",
    "    print(f\"Stimulus {eid} à {time:.3f} s\") # formats the number with 3 decimal"
   ]
  },
  {
   "cell_type": "markdown",
   "id": "3aaa24a9",
   "metadata": {},
   "source": [
    "Alternative to display the stimulus name (and not its ID) with its timestamp in seconds"
   ]
  },
  {
   "cell_type": "code",
   "execution_count": null,
   "id": "70d85869",
   "metadata": {},
   "outputs": [
    {
     "name": "stdout",
     "output_type": "stream",
     "text": [
      "Stimulus/S  1 à 5.942 s\n",
      "Stimulus/S 25 à 12.776 s\n",
      "Stimulus/S  2 à 12.786 s\n",
      "Stimulus/S 25 à 21.870 s\n",
      "Stimulus/S  3 à 21.880 s\n",
      "Stimulus/S 21 à 25.272 s\n",
      "Stimulus/S 21 à 27.042 s\n",
      "Stimulus/S 21 à 28.618 s\n",
      "Stimulus/S 21 à 30.116 s\n",
      "Stimulus/S 21 à 31.546 s\n",
      "Stimulus/S  4 à 31.554 s\n",
      "Stimulus/S 25 à 38.918 s\n",
      "Stimulus/S  5 à 38.928 s\n",
      "Stimulus/S  6 à 49.886 s\n",
      "Stimulus/S 25 à 56.526 s\n",
      "Stimulus/S  7 à 56.534 s\n",
      "Stimulus/S  8 à 67.506 s\n",
      "Stimulus/S 25 à 73.142 s\n",
      "Stimulus/S  9 à 73.150 s\n",
      "Stimulus/S 21 à 76.362 s\n",
      "Stimulus/S 22 à 77.136 s\n",
      "Stimulus/S 21 à 81.052 s\n",
      "Stimulus/S 22 à 82.300 s\n",
      "Stimulus/S 21 à 85.958 s\n",
      "Stimulus/S 22 à 86.858 s\n",
      "Stimulus/S 21 à 89.156 s\n",
      "Stimulus/S 22 à 90.402 s\n",
      "Stimulus/S 21 à 92.276 s\n",
      "Stimulus/S 22 à 92.700 s\n",
      "Stimulus/S 10 à 94.104 s\n",
      "Stimulus/S 25 à 102.228 s\n",
      "Stimulus/S 11 à 102.238 s\n",
      "Stimulus/S 21 à 103.530 s\n",
      "Stimulus/S 22 à 104.532 s\n",
      "Stimulus/S 21 à 108.356 s\n",
      "Stimulus/S 22 à 109.418 s\n",
      "Stimulus/S 21 à 111.744 s\n",
      "Stimulus/S 22 à 112.680 s\n",
      "Stimulus/S 21 à 115.104 s\n",
      "Stimulus/S 22 à 116.102 s\n",
      "Stimulus/S 24 à 119.102 s\n",
      "Stimulus/S 24 à 120.896 s\n",
      "Stimulus/S 21 à 122.496 s\n",
      "Stimulus/S 22 à 123.462 s\n",
      "Stimulus/S 12 à 123.552 s\n",
      "Stimulus/S 25 à 127.634 s\n",
      "Stimulus/S 13 à 127.644 s\n",
      "Stimulus/S 23 à 129.276 s\n",
      "Stimulus/S 23 à 135.158 s\n",
      "Stimulus/S 24 à 141.172 s\n",
      "Stimulus/S 23 à 143.660 s\n",
      "Stimulus/S 24 à 146.502 s\n",
      "Stimulus/S 14 à 147.758 s\n"
     ]
    },
    {
     "name": "stdout",
     "output_type": "stream",
     "text": [
      "Channels marked as bad:\n",
      "none\n",
      "Channels marked as bad:\n",
      "none\n",
      "Channels marked as bad:\n",
      "none\n",
      "Channels marked as bad:\n",
      "none\n"
     ]
    }
   ],
   "source": [
    "id_to_name = {v: k for k, v in event_id.items()}\n",
    "\n",
    "for time, eid in zip(events_times_sec, events[:, 2]):\n",
    "    name = id_to_name.get(eid, f\"ID {eid}\")\n",
    "    print(f\"{name} à {time:.3f} s\")"
   ]
  },
  {
   "cell_type": "markdown",
   "id": "baedb66f",
   "metadata": {},
   "source": [
    "### Alternative whith a pandas DataFrame output"
   ]
  },
  {
   "cell_type": "code",
   "execution_count": null,
   "id": "0d0d49f5",
   "metadata": {},
   "outputs": [],
   "source": [
    "id_to_name = {v: k for k, v in event_id.items()}\n",
    "\n",
    "events_data = [] # création of dictionnaries list (one per event)\n",
    "for time, eid in zip(events_times_sec, events[:, 2]):\n",
    "    name = id_to_name.get(eid, f\"ID {eid}\")\n",
    "    events_data.append({\n",
    "        \"Nom de l'événement\": name,\n",
    "        \"ID\": eid,\n",
    "        \"Temps (s)\": round(time, 3)\n",
    "    })\n",
    "\n",
    "df_events = pd.DataFrame(events_data) # conversion into a DataFrame\n",
    "\n",
    "print(df_events)"
   ]
  },
  {
   "cell_type": "markdown",
   "id": "a87873e3",
   "metadata": {},
   "source": [
    "# 5. Quick plot of the data"
   ]
  },
  {
   "cell_type": "code",
   "execution_count": 25,
   "id": "622c8e5a",
   "metadata": {},
   "outputs": [],
   "source": [
    "Original_Signal_Figure_2 = raw.plot(title = \"Orginal Signal\")"
   ]
  },
  {
   "cell_type": "markdown",
   "id": "a2cb9835",
   "metadata": {},
   "source": [
    "# 6. Filter the data"
   ]
  },
  {
   "cell_type": "markdown",
   "id": "9abed96a",
   "metadata": {},
   "source": [
    "## Highpass"
   ]
  },
  {
   "cell_type": "code",
   "execution_count": 26,
   "id": "a94d18eb",
   "metadata": {},
   "outputs": [
    {
     "name": "stdout",
     "output_type": "stream",
     "text": [
      "Filtering raw data in 1 contiguous segment\n",
      "Setting up band-pass filter from 1 - 30 Hz\n",
      "\n",
      "FIR filter parameters\n",
      "---------------------\n",
      "Designing a one-pass, zero-phase, non-causal bandpass filter:\n",
      "- Windowed time-domain design (firwin) method\n",
      "- Hamming window with 0.0194 passband ripple and 53 dB stopband attenuation\n",
      "- Lower passband edge: 1.00\n",
      "- Lower transition bandwidth: 1.00 Hz (-6 dB cutoff frequency: 0.50 Hz)\n",
      "- Upper passband edge: 30.00 Hz\n",
      "- Upper transition bandwidth: 7.50 Hz (-6 dB cutoff frequency: 33.75 Hz)\n",
      "- Filter length: 1651 samples (3.302 s)\n",
      "\n"
     ]
    },
    {
     "name": "stderr",
     "output_type": "stream",
     "text": [
      "[Parallel(n_jobs=1)]: Done  17 tasks      | elapsed:    0.0s\n",
      "[Parallel(n_jobs=1)]: Done  31 out of  31 | elapsed:    0.0s finished\n"
     ]
    }
   ],
   "source": [
    "# Define the high and low frequencies\n",
    "HFreq = 30\n",
    "LFreq = 1\n",
    "raw_HighLowPassed = raw.filter(l_freq = LFreq, h_freq = HFreq)\n",
    "\n",
    "# for ERPs, [1-30] Hz band-pass filter"
   ]
  },
  {
   "cell_type": "code",
   "execution_count": 27,
   "id": "09ea8ff6",
   "metadata": {},
   "outputs": [],
   "source": [
    "# Plot the highpassed signal\n",
    "Signal_HighLowPassed_Figure_3 = raw_HighLowPassed.plot(title = \"High- and Low- passed Signal\")"
   ]
  },
  {
   "cell_type": "markdown",
   "id": "d66bed48",
   "metadata": {},
   "source": [
    "## Notch"
   ]
  },
  {
   "cell_type": "code",
   "execution_count": 28,
   "id": "1d03d25e",
   "metadata": {},
   "outputs": [],
   "source": [
    "# Define the parameters for the notch filter\n",
    "if HFreq < 50:\n",
    "    raw_Notched = raw_HighLowPassed\n",
    "else:\n",
    "    raw_Notched = raw_HighLowPassed.notch_filter(freqs = [50], picks = \"data\", method = \"spectrum_fit\")"
   ]
  },
  {
   "cell_type": "code",
   "execution_count": 29,
   "id": "13d31d10",
   "metadata": {},
   "outputs": [],
   "source": [
    "# Plot the notched signal\n",
    "Signal_Notched_Figure_4 = raw_Notched.plot(title = \"Notched Signal\")"
   ]
  },
  {
   "cell_type": "markdown",
   "id": "0ec5ba02",
   "metadata": {},
   "source": [
    "# 7. Reset the file time"
   ]
  },
  {
   "cell_type": "code",
   "execution_count": 30,
   "id": "57d4ab9d",
   "metadata": {},
   "outputs": [
    {
     "name": "stdout",
     "output_type": "stream",
     "text": [
      "First stimulus at 5.942 s\n"
     ]
    }
   ],
   "source": [
    "if events_times_sec[0] == 0 and len(events_times_sec) > 1: # check if the 1st stimulus is at 0 s. If so, use the 2nd stimulus\n",
    "    first_stimulus_time = events_times_sec[1]\n",
    "    print(f\"First stimulus is at 0. Using second stimulus at {first_stimulus_time:.3f} s\")\n",
    "else:\n",
    "    first_stimulus_time = events_times_sec[0]\n",
    "    print(f\"First stimulus at {first_stimulus_time:.3f} s\")\n",
    "\n",
    "# Get the time of the 1st stimulus (in seconds)\n",
    "# first_stimulus_time = events_times_sec[0]\n",
    "# print(f\"First stimulus at {first_stimulus_time:.3f} s\")"
   ]
  },
  {
   "cell_type": "code",
   "execution_count": 31,
   "id": "77fa0e74",
   "metadata": {},
   "outputs": [],
   "source": [
    "# Truncate the signal to start at this point\n",
    "raw_cropped = raw_Notched.copy().crop(tmin=first_stimulus_time)"
   ]
  },
  {
   "cell_type": "code",
   "execution_count": 32,
   "id": "658f73cb",
   "metadata": {},
   "outputs": [
    {
     "name": "stderr",
     "output_type": "stream",
     "text": [
      "C:\\Users\\indira.lavocat\\AppData\\Local\\Temp\\ipykernel_1832\\2637390326.py:4: RuntimeWarning: Omitted 1 annotation(s) that were outside data range.\n",
      "  raw_cropped.set_annotations(\n"
     ]
    }
   ],
   "source": [
    "# Reset the annotations by shifting all annotations by - first_stimulus_time\n",
    "if raw.annotations is not None:\n",
    "    raw_annotation_times = raw.annotations.onset - first_stimulus_time\n",
    "    raw_cropped.set_annotations(\n",
    "        mne.Annotations(\n",
    "            onset=raw_annotation_times, # onset = raw_annotation_times with the new reset times\n",
    "            duration=raw.annotations.duration,\n",
    "            description=raw.annotations.description\n",
    "        )\n",
    "    )"
   ]
  },
  {
   "cell_type": "code",
   "execution_count": 33,
   "id": "fba01f7d",
   "metadata": {},
   "outputs": [],
   "source": [
    "# Plot truncated and recalculated data\n",
    "Readjusted_Signal_Figure_5 = raw_cropped.plot(title=\"Readjusted signal (from the 1st stimulus not at 0 s)\")"
   ]
  },
  {
   "cell_type": "markdown",
   "id": "0b7fbcab",
   "metadata": {},
   "source": [
    "# 8. Crop the signal according to tasks"
   ]
  },
  {
   "cell_type": "markdown",
   "id": "2de642e0",
   "metadata": {},
   "source": [
    "## 8.1. Crop the signal to get baselines"
   ]
  },
  {
   "cell_type": "markdown",
   "id": "ab5d03fb",
   "metadata": {},
   "source": [
    "### until transition between the P2a phase and the P3 phase"
   ]
  },
  {
   "cell_type": "code",
   "execution_count": null,
   "id": "f9679c6d",
   "metadata": {},
   "outputs": [],
   "source": [
    "# Define the parameters\n",
    "target_stimulus_name = \"Stimulus/S  8\"  # sent during the transition between the 1d task and the 2a phase\n",
    "target_occurrence = 1          # number of the chosen occurrence\n",
    "\n",
    "# Search of the stimulus occurrence times in raw_cropped.annotations\n",
    "matching_onsets = [\n",
    "    onset for onset, desc in zip(raw_cropped.annotations.onset, raw_cropped.annotations.description)\n",
    "    if desc == target_stimulus_name\n",
    "]\n",
    "\n",
    "# Check if the occurrence exists\n",
    "if len(matching_onsets) >= target_occurrence:\n",
    "    crop_end_time = matching_onsets[target_occurrence - 1] # get the time of the chosen occurrence\n",
    "    raw_final = raw_cropped.copy().crop(tmin=0, tmax=crop_end_time) # new signal cut until the chosen stimulus\n",
    "    print(f\"✅ Signal cropped from 0.000 s to {crop_end_time:.3f} s (stimulus: {target_stimulus_name}, occurrence {target_occurrence})\")\n",
    "else:\n",
    "    print(f\"❌ Only {len(matching_onsets)} occurrence(s) found for the stimulus '{target_stimulus_name}'. Signal not modified.\")\n",
    "    raw_final = raw_cropped.copy()"
   ]
  },
  {
   "cell_type": "markdown",
   "id": "2507881a",
   "metadata": {},
   "source": [
    "### 8.1.a. Only the P1 phase (press a key)"
   ]
  },
  {
   "cell_type": "code",
   "execution_count": null,
   "id": "7082eded",
   "metadata": {},
   "outputs": [],
   "source": [
    "# Define the parameters\n",
    "begin_P1_stimulus_name = \"Stimulus/S  3\" # sent at the beginning of the P1 task\n",
    "begin_P1_occurrence = 1 # number of the chosen occurrence\n",
    "\n",
    "end_P1_stimulus_name = \"Stimulus/S  4\" # sent at the ending of the P1 task \n",
    "end_P1_occurrence = 1 # number of the chosen occurrence\n",
    "\n",
    "\n",
    "# Search for the stimulus occurrence times in raw_cropped.annotations\n",
    "start_times = [\n",
    "    onset for onset, desc in zip(raw_cropped.annotations.onset, raw_cropped.annotations.description)\n",
    "    if desc == begin_P1_stimulus_name\n",
    "]\n",
    "end_times = [\n",
    "    onset for onset, desc in zip(raw_cropped.annotations.onset, raw_cropped.annotations.description)\n",
    "    if desc == end_P1_stimulus_name\n",
    "]\n",
    "\n",
    "\n",
    "# Check if the specified occurrences exist\n",
    "if len(start_times) >= begin_P1_occurrence and len(end_times) >= end_P1_occurrence:\n",
    "    crop_start_time = start_times[begin_P1_occurrence - 1] # get the time of the beginning of the P1 task\n",
    "    crop_end_time = end_times[end_P1_occurrence - 1] # get the time of the end of the P1 task\n",
    "    \n",
    "    if crop_start_time < crop_end_time: # check if the chosen beginning is indeed before the chosen end\n",
    "        raw_final = raw_cropped.copy().crop(tmin=crop_start_time, tmax=crop_end_time) # cut the signal between beginning and end\n",
    "        print(f\"✅ Signal cropped from {crop_start_time:.3f} s to {crop_end_time:.3f} s \"\n",
    "              f\"(from stimulus: {begin_P1_stimulus_name}, occurrence {begin_P1_occurrence} \"\n",
    "              f\"to stimulus: {end_P1_stimulus_name}, occurrence {end_P1_occurrence})\")\n",
    "    else:\n",
    "        print(f\"❌ Start time ({crop_start_time:.3f}) is after end time ({crop_end_time:.3f}). Check the order of stimuli.\")\n",
    "        raw_final = raw_cropped.copy()\n",
    "else:\n",
    "    print(f\"❌ Not enough occurrences found: \"\n",
    "          f\"{len(start_times)} for '{begin_P1_stimulus_name}', {len(end_times)} for '{end_P1_stimulus_name}'. Signal not modified.\")\n",
    "    raw_final = raw_cropped.copy()"
   ]
  },
  {
   "cell_type": "code",
   "execution_count": null,
   "id": "8f290f5b",
   "metadata": {},
   "outputs": [],
   "source": [
    "# Plot the new signal (cropped until the chosen timestamp)\n",
    "Signal_P1_Phase_Figure_6 = raw_final.plot(title=\"Signal of Phase 1\")"
   ]
  },
  {
   "cell_type": "markdown",
   "id": "98061cfa",
   "metadata": {},
   "source": [
    "### 8.1.b. Only the P2a phase (eyes closed)"
   ]
  },
  {
   "cell_type": "code",
   "execution_count": null,
   "id": "765dcc5c",
   "metadata": {},
   "outputs": [],
   "source": []
  },
  {
   "cell_type": "markdown",
   "id": "58828453",
   "metadata": {},
   "source": [
    "### Only the eyes open phase"
   ]
  },
  {
   "cell_type": "code",
   "execution_count": null,
   "id": "b08861df",
   "metadata": {},
   "outputs": [],
   "source": []
  },
  {
   "cell_type": "code",
   "execution_count": null,
   "id": "3fa065d3",
   "metadata": {},
   "outputs": [],
   "source": []
  },
  {
   "cell_type": "markdown",
   "id": "ce226326",
   "metadata": {},
   "source": [
    "# 9. Seperation in epochs"
   ]
  },
  {
   "cell_type": "code",
   "execution_count": null,
   "id": "81248cfd",
   "metadata": {},
   "outputs": [],
   "source": [
    "tmin = -0.2  # 200 ms before the event\n",
    "tmax = 0.8   # 800 ms after the event\n",
    "epochs = mne.Epochs(raw, events, event_id=event_id,\n",
    "                    tmin=tmin, tmax=tmax, baseline=(None, 0),\n",
    "                    preload=True)\n",
    "epochs.plot_drop_log()"
   ]
  },
  {
   "cell_type": "markdown",
   "id": "0937dfd2",
   "metadata": {},
   "source": [
    "# 10. Define an automatic reject of the artifacts (optional)"
   ]
  },
  {
   "cell_type": "code",
   "execution_count": null,
   "id": "1a58720d",
   "metadata": {},
   "outputs": [],
   "source": [
    "# epochs.plot_drop_log()\n",
    "# epochs.drop_bad()"
   ]
  },
  {
   "cell_type": "markdown",
   "id": "6d0092fb",
   "metadata": {},
   "source": [
    "# 11. Averaging (ERP)"
   ]
  },
  {
   "cell_type": "code",
   "execution_count": null,
   "id": "966b131b",
   "metadata": {},
   "outputs": [],
   "source": [
    "evoked = epochs.average()\n",
    "# evoked.plot(title=\"ERP (moyenne des epochs)\")\n",
    "evoked.plot() # evoked does not accept any \"title\"\n",
    "\n",
    "# To add a title to the graph\n",
    "# fig = evoked.plot_image(picks='eeg')\n",
    "# fig.suptitle(\"ERP (moyenne des epochs)\")\n"
   ]
  },
  {
   "cell_type": "code",
   "execution_count": null,
   "id": "70678627",
   "metadata": {},
   "outputs": [],
   "source": [
    "# To add a title to the graph\n",
    "fig = evoked.plot_image(picks='eeg')\n",
    "fig.suptitle(\"ERP (moyenne des epochs)\")"
   ]
  },
  {
   "cell_type": "markdown",
   "id": "652beabb",
   "metadata": {},
   "source": [
    "# 12. Topography"
   ]
  },
  {
   "cell_type": "code",
   "execution_count": null,
   "id": "3820e2e6",
   "metadata": {},
   "outputs": [],
   "source": [
    "# evoked.plot_topomap(times=[0.1, 0.2, 0.3], ch_type='eeg', title=\"Topomap à 100/200/300 ms\")\n",
    "evoked.plot_topomap(times=[0.1, 0.2, 0.3], ch_type='eeg')"
   ]
  },
  {
   "cell_type": "markdown",
   "id": "8891ccb0",
   "metadata": {},
   "source": [
    "*** Show the Data ***"
   ]
  },
  {
   "cell_type": "code",
   "execution_count": null,
   "id": "a12cf643",
   "metadata": {},
   "outputs": [],
   "source": [
    "plt.show()"
   ]
  }
 ],
 "metadata": {
  "kernelspec": {
   "display_name": "Python 3",
   "language": "python",
   "name": "python3"
  },
  "language_info": {
   "codemirror_mode": {
    "name": "ipython",
    "version": 3
   },
   "file_extension": ".py",
   "mimetype": "text/x-python",
   "name": "python",
   "nbconvert_exporter": "python",
   "pygments_lexer": "ipython3",
   "version": "3.10.17"
  }
 },
 "nbformat": 4,
 "nbformat_minor": 5
}
