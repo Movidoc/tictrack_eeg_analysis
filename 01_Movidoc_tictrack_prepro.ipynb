{
 "cells": [
  {
   "cell_type": "markdown",
   "id": "a002f6e2",
   "metadata": {},
   "source": [
    "Import the required libraries"
   ]
  },
  {
   "cell_type": "code",
   "execution_count": 3,
   "id": "9e38e9b5",
   "metadata": {},
   "outputs": [],
   "source": [
    "# Libraries\n",
    "import os\n",
    "import mne\n",
    "from mne import EpochsArray, create_info\n",
    "from mne import EvokedArray\n",
    "import pandas as pd\n",
    "import matplotlib.pyplot as plt\n",
    "import numpy as np\n",
    "# from collections import defaultdict"
   ]
  },
  {
   "cell_type": "markdown",
   "id": "80048b08",
   "metadata": {},
   "source": [
    "To save the figures that are not MNEQtBrowser"
   ]
  },
  {
   "cell_type": "code",
   "execution_count": 4,
   "id": "815d8e45",
   "metadata": {},
   "outputs": [],
   "source": [
    "# Define a function to save all the Figures that are NOT MNEQtBrowser\n",
    "def save_figure(fig, filename, folder=\"C:\\\\Users\\\\indira.lavocat\\\\MOVIDOC\\\\tictrack_eeg_analysis\\\\Figures\"):\n",
    "    if not os.path.exists(folder):\n",
    "        os.makedirs(folder)\n",
    "    fig_path = os.path.join(folder, filename)\n",
    "    fig.savefig(fig_path)\n",
    "    print(f\"Figure saved: {fig_path}\")"
   ]
  },
  {
   "cell_type": "markdown",
   "id": "4c79a719",
   "metadata": {},
   "source": [
    "# A. Data"
   ]
  },
  {
   "cell_type": "markdown",
   "id": "c440670b",
   "metadata": {},
   "source": [
    "## 1. Load the data"
   ]
  },
  {
   "cell_type": "code",
   "execution_count": 5,
   "id": "dc91f948",
   "metadata": {},
   "outputs": [
    {
     "name": "stdout",
     "output_type": "stream",
     "text": [
      "C:\\Users\\indira.lavocat\\MOVIDOC\\EEG\\Sujets\\IndiraLAVOCAT\\MOVIDOCTicTrack000005.vhdr\n"
     ]
    }
   ],
   "source": [
    "# Define the path to the .vhdr file\n",
    "FolderPath = \"C:\\\\Users\\\\indira.lavocat\\\\MOVIDOC\\\\EEG\\\\Sujets\\\\IndiraLAVOCAT\" # need to adapt the last folder to suit the subject\n",
    "\n",
    "# Looking for the .vhdr file in the folder\n",
    "for file in os.listdir(FolderPath):\n",
    "    if file.endswith(\".vhdr\"):\n",
    "        FilePath = os.path.join(FolderPath, file)\n",
    "        break\n",
    "\n",
    "print(FilePath)\n",
    "\n",
    "\n",
    "# vhdr_file = \"C:\\\\Users\\\\indira.lavocat\\\\MOVIDOC\\\\EEG\\\\Indira Test\\\\MOVIDOCTicTrack000005.vhdr\""
   ]
  },
  {
   "cell_type": "code",
   "execution_count": 6,
   "id": "1228d05c",
   "metadata": {},
   "outputs": [
    {
     "name": "stdout",
     "output_type": "stream",
     "text": [
      "Extracting parameters from C:\\Users\\indira.lavocat\\MOVIDOC\\EEG\\Sujets\\IndiraLAVOCAT\\MOVIDOCTicTrack000005.vhdr...\n",
      "Setting channel info structure...\n"
     ]
    },
    {
     "name": "stderr",
     "output_type": "stream",
     "text": [
      "C:\\Users\\indira.lavocat\\AppData\\Local\\Temp\\ipykernel_22608\\2402428994.py:1: RuntimeWarning: Online software filter detected. Using software filter settings and ignoring hardware values\n",
      "  raw = mne.io.read_raw_brainvision(FilePath, preload=True)\n"
     ]
    },
    {
     "name": "stdout",
     "output_type": "stream",
     "text": [
      "Reading 0 ... 79759  =      0.000 ...   159.518 secs...\n"
     ]
    }
   ],
   "source": [
    "raw = mne.io.read_raw_brainvision(FilePath, preload=True)"
   ]
  },
  {
   "cell_type": "code",
   "execution_count": 7,
   "id": "ecf83d6e",
   "metadata": {},
   "outputs": [
    {
     "data": {
      "text/html": [
       "<script type=\"text/javascript\">\n",
       "    // must be `var` (not `const`) because this can get embedded multiple times on a page\n",
       "var toggleVisibility = (className) => {\n",
       "\n",
       "    const elements = document.querySelectorAll(`.${className}`);\n",
       "\n",
       "    elements.forEach(element => {\n",
       "        if (element.classList.contains(\"mne-repr-section-header\")) {\n",
       "            return  // Don't collapse the section header row\n",
       "        }\n",
       "        element.classList.toggle(\"mne-repr-collapsed\");\n",
       "    });\n",
       "\n",
       "    // trigger caret to rotate\n",
       "    var sel = `.mne-repr-section-header.${className} > th.mne-repr-section-toggle > button`;\n",
       "    const button = document.querySelector(sel);\n",
       "    button.classList.toggle(\"collapsed\");\n",
       "\n",
       "    // adjust tooltip\n",
       "    sel = `tr.mne-repr-section-header.${className}`;\n",
       "    const secHeadRow = document.querySelector(sel);\n",
       "    secHeadRow.classList.toggle(\"collapsed\");\n",
       "    secHeadRow.title = secHeadRow.title === \"Hide section\" ? \"Show section\" : \"Hide section\";\n",
       "}\n",
       "</script>\n",
       "\n",
       "<style type=\"text/css\">\n",
       "    /*\n",
       "Styles in this section apply both to the sphinx-built website docs and to notebooks\n",
       "rendered in an IDE or in Jupyter. In our web docs, styles here are complemented by\n",
       "doc/_static/styles.css and other CSS files (e.g. from the sphinx theme, sphinx-gallery,\n",
       "or bootstrap). In IDEs/Jupyter, those style files are unavailable, so only the rules in\n",
       "this file apply (plus whatever default styling the IDE applies).\n",
       "*/\n",
       ".mne-repr-table {\n",
       "    display: inline;  /* prevent using full container width */\n",
       "}\n",
       ".mne-repr-table tr.mne-repr-section-header > th {\n",
       "    padding-top: 1rem;\n",
       "    text-align: left;\n",
       "    vertical-align: middle;\n",
       "}\n",
       ".mne-repr-section-toggle > button {\n",
       "    all: unset;\n",
       "    display: block;\n",
       "    height: 1rem;\n",
       "    width: 1rem;\n",
       "}\n",
       ".mne-repr-section-toggle > button > svg {\n",
       "    height: 60%;\n",
       "}\n",
       "\n",
       "/* transition (rotation) effects on the collapser button */\n",
       ".mne-repr-section-toggle > button.collapsed > svg {\n",
       "    transition: 0.1s ease-out;\n",
       "    transform: rotate(-90deg);\n",
       "}\n",
       ".mne-repr-section-toggle > button:not(.collapsed) > svg {\n",
       "    transition: 0.1s ease-out;\n",
       "    transform: rotate(0deg);\n",
       "}\n",
       "\n",
       "/* hide collapsed table rows */\n",
       ".mne-repr-collapsed {\n",
       "    display: none;\n",
       "}\n",
       "\n",
       "\n",
       "@layer {\n",
       "    /*\n",
       "    Selectors in a `@layer` will always be lower-precedence than selectors outside the\n",
       "    layer. So even though e.g. `div.output_html` is present in the sphinx-rendered\n",
       "    website docs, the styles here won't take effect there as long as some other rule\n",
       "    somewhere in the page's CSS targets the same element.\n",
       "\n",
       "    In IDEs or Jupyter notebooks, though, the CSS files from the sphinx theme,\n",
       "    sphinx-gallery, and bootstrap are unavailable, so these styles will apply.\n",
       "\n",
       "    Notes:\n",
       "\n",
       "    - the selector `.accordion-body` is for MNE Reports\n",
       "    - the selector `.output_html` is for VSCode's notebook interface\n",
       "    - the selector `.jp-RenderedHTML` is for Jupyter notebook\n",
       "    - variables starting with `--theme-` are VSCode-specific.\n",
       "    - variables starting with `--jp-` are Jupyter styles, *some of which* are also\n",
       "      available in VSCode. Here we try the `--theme-` variable first, then fall back to\n",
       "      the `--jp-` ones.\n",
       "    */\n",
       "    .mne-repr-table {\n",
       "        --mne-toggle-color: var(--theme-foreground, var(--jp-ui-font-color1));\n",
       "        --mne-button-bg-color: var(--theme-button-background, var(--jp-info-color0, var(--jp-content-link-color)));\n",
       "        --mne-button-fg-color: var(--theme-button-foreground, var(--jp-ui-inverse-font-color0, var(--jp-editor-background)));\n",
       "        --mne-button-hover-bg-color: var(--theme-button-hover-background, var(--jp-info-color1));\n",
       "        --mne-button-radius: var(--jp-border-radius, 0.25rem);\n",
       "    }\n",
       "    /* chevron position/alignment; in VSCode it looks ok without adjusting */\n",
       "    .accordion-body .mne-repr-section-toggle > button,\n",
       "    .jp-RenderedHTML .mne-repr-section-toggle > button {\n",
       "        padding: 0 0 45% 25% !important;\n",
       "    }\n",
       "    /* chevron color; MNE Report doesn't have light/dark mode */\n",
       "    div.output_html .mne-repr-section-toggle > button > svg > path,\n",
       "    .jp-RenderedHTML .mne-repr-section-toggle > button > svg > path {\n",
       "        fill: var(--mne-toggle-color);\n",
       "    }\n",
       "    .accordion-body .mne-ch-names-btn,\n",
       "    div.output_html .mne-ch-names-btn,\n",
       "    .jp-RenderedHTML .mne-ch-names-btn {\n",
       "        -webkit-border-radius: var(--mne-button-radius);\n",
       "        -moz-border-radius: var(--mne-button-radius);\n",
       "        border-radius: var(--mne-button-radius);\n",
       "        border: none;\n",
       "        background-image: none;\n",
       "        background-color: var(--mne-button-bg-color);\n",
       "        color: var(--mne-button-fg-color);\n",
       "        font-size: inherit;\n",
       "        min-width: 1.5rem;\n",
       "        padding: 0.25rem;\n",
       "        text-align: center;\n",
       "        text-decoration: none;\n",
       "    }\n",
       "    .accordion-body .mne-ch-names-btn:hover,\n",
       "    div.output_html .mne.ch-names-btn:hover,\n",
       "    .jp-RenderedHTML .mne-ch-names-btn:hover {\n",
       "        background-color: var(--mne-button-hover-bg-color);\n",
       "        text-decoration: underline;\n",
       "    }\n",
       "    .accordion-body .mne-ch-names-btn:focus-visible,\n",
       "    div.output_html .mne-ch-names-btn:focus-visible,\n",
       "    .jp-RenderedHTML .mne-ch-names-btn:focus-visible {\n",
       "        outline: 0.1875rem solid var(--mne-button-bg-color) !important;\n",
       "        outline-offset: 0.1875rem !important;\n",
       "    }\n",
       "}\n",
       "</style>\n",
       "\n",
       "\n",
       "\n",
       "<table class=\"table mne-repr-table\">\n",
       "    \n",
       "\n",
       "\n",
       "\n",
       "\n",
       "\n",
       "\n",
       "\n",
       "<tr class=\"mne-repr-section-header general-24109a04-f038-4d5b-ae70-4792e0f6e431\"\n",
       "     title=\"Hide section\" \n",
       "    onclick=\"toggleVisibility('general-24109a04-f038-4d5b-ae70-4792e0f6e431')\">\n",
       "    <th class=\"mne-repr-section-toggle\">\n",
       "        <button >\n",
       "            <svg xmlns=\"http://www.w3.org/2000/svg\" viewBox=\"0 0 512 512\"><!--!Font Awesome Free 6.6.0 by @fontawesome - https://fontawesome.com License - https://fontawesome.com/license/free Copyright 2024 Fonticons, Inc.--><path d=\"M233.4 406.6c12.5 12.5 32.8 12.5 45.3 0l192-192c12.5-12.5 12.5-32.8 0-45.3s-32.8-12.5-45.3 0L256 338.7 86.6 169.4c-12.5-12.5-32.8-12.5-45.3 0s-12.5 32.8 0 45.3l192 192z\"/></svg>\n",
       "        </button>\n",
       "    </th>\n",
       "    <th colspan=\"2\">\n",
       "        <strong>General</strong>\n",
       "    </th>\n",
       "</tr>\n",
       "\n",
       "\n",
       "<tr class=\"repr-element general-24109a04-f038-4d5b-ae70-4792e0f6e431 \">\n",
       "    <td class=\"mne-repr-section-toggle\"></td>\n",
       "    <td>MNE object type</td>\n",
       "    <td>Info</td>\n",
       "</tr>\n",
       "<tr class=\"repr-element general-24109a04-f038-4d5b-ae70-4792e0f6e431 \">\n",
       "    <td class=\"mne-repr-section-toggle\"></td>\n",
       "    <td>Measurement date</td>\n",
       "    \n",
       "    <td>2025-05-13 at 16:30:12 UTC</td>\n",
       "    \n",
       "</tr>\n",
       "<tr class=\"repr-element general-24109a04-f038-4d5b-ae70-4792e0f6e431 \">\n",
       "    <td class=\"mne-repr-section-toggle\"></td>\n",
       "    <td>Participant</td>\n",
       "    \n",
       "    <td>Unknown</td>\n",
       "    \n",
       "</tr>\n",
       "<tr class=\"repr-element general-24109a04-f038-4d5b-ae70-4792e0f6e431 \">\n",
       "    <td class=\"mne-repr-section-toggle\"></td>\n",
       "    <td>Experimenter</td>\n",
       "    \n",
       "    <td>Unknown</td>\n",
       "    \n",
       "</tr>\n",
       "    \n",
       "\n",
       "\n",
       "\n",
       "\n",
       "\n",
       "\n",
       "\n",
       "<tr class=\"mne-repr-section-header acquisition-7eb6a5e8-104c-4fcb-9de5-166b48697a74\"\n",
       "     title=\"Hide section\" \n",
       "    onclick=\"toggleVisibility('acquisition-7eb6a5e8-104c-4fcb-9de5-166b48697a74')\">\n",
       "    <th class=\"mne-repr-section-toggle\">\n",
       "        <button >\n",
       "            <svg xmlns=\"http://www.w3.org/2000/svg\" viewBox=\"0 0 512 512\"><!--!Font Awesome Free 6.6.0 by @fontawesome - https://fontawesome.com License - https://fontawesome.com/license/free Copyright 2024 Fonticons, Inc.--><path d=\"M233.4 406.6c12.5 12.5 32.8 12.5 45.3 0l192-192c12.5-12.5 12.5-32.8 0-45.3s-32.8-12.5-45.3 0L256 338.7 86.6 169.4c-12.5-12.5-32.8-12.5-45.3 0s-12.5 32.8 0 45.3l192 192z\"/></svg>\n",
       "        </button>\n",
       "    </th>\n",
       "    <th colspan=\"2\">\n",
       "        <strong>Acquisition</strong>\n",
       "    </th>\n",
       "</tr>\n",
       "\n",
       "\n",
       "\n",
       "\n",
       "\n",
       "\n",
       "\n",
       "\n",
       "\n",
       "<tr class=\"repr-element acquisition-7eb6a5e8-104c-4fcb-9de5-166b48697a74 \">\n",
       "    <td class=\"mne-repr-section-toggle\"></td>\n",
       "    <td>Sampling frequency</td>\n",
       "    <td>500.00 Hz</td>\n",
       "</tr>\n",
       "\n",
       "\n",
       "\n",
       "    \n",
       "\n",
       "\n",
       "\n",
       "\n",
       "\n",
       "\n",
       "\n",
       "<tr class=\"mne-repr-section-header channels-054d0024-9598-4eea-bf78-a45169454900\"\n",
       "     title=\"Hide section\" \n",
       "    onclick=\"toggleVisibility('channels-054d0024-9598-4eea-bf78-a45169454900')\">\n",
       "    <th class=\"mne-repr-section-toggle\">\n",
       "        <button >\n",
       "            <svg xmlns=\"http://www.w3.org/2000/svg\" viewBox=\"0 0 512 512\"><!--!Font Awesome Free 6.6.0 by @fontawesome - https://fontawesome.com License - https://fontawesome.com/license/free Copyright 2024 Fonticons, Inc.--><path d=\"M233.4 406.6c12.5 12.5 32.8 12.5 45.3 0l192-192c12.5-12.5 12.5-32.8 0-45.3s-32.8-12.5-45.3 0L256 338.7 86.6 169.4c-12.5-12.5-32.8-12.5-45.3 0s-12.5 32.8 0 45.3l192 192z\"/></svg>\n",
       "        </button>\n",
       "    </th>\n",
       "    <th colspan=\"2\">\n",
       "        <strong>Channels</strong>\n",
       "    </th>\n",
       "</tr>\n",
       "\n",
       "\n",
       "    \n",
       "<tr class=\"repr-element channels-054d0024-9598-4eea-bf78-a45169454900 \">\n",
       "    <td class=\"mne-repr-section-toggle\"></td>\n",
       "    <td>EEG</td>\n",
       "    <td>\n",
       "        <button class=\"mne-ch-names-btn sd-sphinx-override sd-btn sd-btn-info sd-text-wrap sd-shadow-sm\" onclick=\"alert('Good EEG:\\n\\nFp1, F3, F7, FT9, FC5, FC1, C3, T7, TP9, CP5, CP1, Pz, P3, P7, O1, Oz, O2, P4, P8, TP10, CP6, CP2, Cz, C4, T8, FT10, FC6, FC2, F4, F8, Fp2')\" title=\"(Click to open in popup)&#13;&#13;Fp1, F3, F7, FT9, FC5, FC1, C3, T7, TP9, CP5, CP1, Pz, P3, P7, O1, Oz, O2, P4, P8, TP10, CP6, CP2, Cz, C4, T8, FT10, FC6, FC2, F4, F8, Fp2\">\n",
       "            31\n",
       "        </button>\n",
       "\n",
       "        \n",
       "    </td>\n",
       "</tr>\n",
       "\n",
       "\n",
       "<tr class=\"repr-element channels-054d0024-9598-4eea-bf78-a45169454900 \">\n",
       "    <td class=\"mne-repr-section-toggle\"></td>\n",
       "    <td>Head & sensor digitization</td>\n",
       "    \n",
       "    <td>Not available</td>\n",
       "    \n",
       "</tr>\n",
       "    \n",
       "\n",
       "\n",
       "\n",
       "\n",
       "\n",
       "\n",
       "\n",
       "<tr class=\"mne-repr-section-header filters-dbb514b5-8dfc-44a0-87c1-30e52097179e\"\n",
       "     title=\"Hide section\" \n",
       "    onclick=\"toggleVisibility('filters-dbb514b5-8dfc-44a0-87c1-30e52097179e')\">\n",
       "    <th class=\"mne-repr-section-toggle\">\n",
       "        <button >\n",
       "            <svg xmlns=\"http://www.w3.org/2000/svg\" viewBox=\"0 0 512 512\"><!--!Font Awesome Free 6.6.0 by @fontawesome - https://fontawesome.com License - https://fontawesome.com/license/free Copyright 2024 Fonticons, Inc.--><path d=\"M233.4 406.6c12.5 12.5 32.8 12.5 45.3 0l192-192c12.5-12.5 12.5-32.8 0-45.3s-32.8-12.5-45.3 0L256 338.7 86.6 169.4c-12.5-12.5-32.8-12.5-45.3 0s-12.5 32.8 0 45.3l192 192z\"/></svg>\n",
       "        </button>\n",
       "    </th>\n",
       "    <th colspan=\"2\">\n",
       "        <strong>Filters</strong>\n",
       "    </th>\n",
       "</tr>\n",
       "\n",
       "\n",
       "<tr class=\"repr-element filters-dbb514b5-8dfc-44a0-87c1-30e52097179e \">\n",
       "    <td class=\"mne-repr-section-toggle\"></td>\n",
       "    <td>Highpass</td>\n",
       "    <td>0.00 Hz</td>\n",
       "</tr>\n",
       "\n",
       "\n",
       "<tr class=\"repr-element filters-dbb514b5-8dfc-44a0-87c1-30e52097179e \">\n",
       "    <td class=\"mne-repr-section-toggle\"></td>\n",
       "    <td>Lowpass</td>\n",
       "    <td>250.00 Hz</td>\n",
       "</tr>\n",
       "\n",
       "\n",
       "</table>"
      ],
      "text/plain": [
       "<Info | 7 non-empty values\n",
       " bads: []\n",
       " ch_names: Fp1, F3, F7, FT9, FC5, FC1, C3, T7, TP9, CP5, CP1, Pz, P3, P7, ...\n",
       " chs: 31 EEG\n",
       " custom_ref_applied: False\n",
       " highpass: 0.0 Hz\n",
       " lowpass: 250.0 Hz\n",
       " meas_date: 2025-05-13 16:30:12 UTC\n",
       " nchan: 31\n",
       " projs: []\n",
       " sfreq: 500.0 Hz\n",
       ">"
      ]
     },
     "execution_count": 7,
     "metadata": {},
     "output_type": "execute_result"
    }
   ],
   "source": [
    "raw.info"
   ]
  },
  {
   "cell_type": "code",
   "execution_count": 8,
   "id": "68a1e1a3",
   "metadata": {},
   "outputs": [
    {
     "name": "stdout",
     "output_type": "stream",
     "text": [
      "['Fp1', 'F3', 'F7', 'FT9', 'FC5', 'FC1', 'C3', 'T7', 'TP9', 'CP5', 'CP1', 'Pz', 'P3', 'P7', 'O1', 'Oz', 'O2', 'P4', 'P8', 'TP10', 'CP6', 'CP2', 'Cz', 'C4', 'T8', 'FT10', 'FC6', 'FC2', 'F4', 'F8', 'Fp2']\n"
     ]
    }
   ],
   "source": [
    "print(raw.ch_names)"
   ]
  },
  {
   "cell_type": "code",
   "execution_count": 9,
   "id": "ab6079d7",
   "metadata": {},
   "outputs": [
    {
     "name": "stdout",
     "output_type": "stream",
     "text": [
      "None\n"
     ]
    }
   ],
   "source": [
    "print(raw.info['description']) # gives a note about the channels when there is one"
   ]
  },
  {
   "cell_type": "markdown",
   "id": "352bf00e",
   "metadata": {},
   "source": [
    "## 2. Extract the events"
   ]
  },
  {
   "cell_type": "code",
   "execution_count": 10,
   "id": "d1f311ff",
   "metadata": {},
   "outputs": [
    {
     "name": "stdout",
     "output_type": "stream",
     "text": [
      "Used Annotations descriptions: [np.str_('New Segment/'), np.str_('Stimulus/S  1'), np.str_('Stimulus/S  2'), np.str_('Stimulus/S  3'), np.str_('Stimulus/S  4'), np.str_('Stimulus/S  5'), np.str_('Stimulus/S  6'), np.str_('Stimulus/S  7'), np.str_('Stimulus/S  8'), np.str_('Stimulus/S  9'), np.str_('Stimulus/S 10'), np.str_('Stimulus/S 11'), np.str_('Stimulus/S 12'), np.str_('Stimulus/S 13'), np.str_('Stimulus/S 14'), np.str_('Stimulus/S 21'), np.str_('Stimulus/S 22'), np.str_('Stimulus/S 23'), np.str_('Stimulus/S 24'), np.str_('Stimulus/S 25')]\n",
      "Events list (stimulus) :\n",
      "{np.str_('New Segment/'): 99999, np.str_('Stimulus/S  1'): 1, np.str_('Stimulus/S  2'): 2, np.str_('Stimulus/S  3'): 3, np.str_('Stimulus/S  4'): 4, np.str_('Stimulus/S  5'): 5, np.str_('Stimulus/S  6'): 6, np.str_('Stimulus/S  7'): 7, np.str_('Stimulus/S  8'): 8, np.str_('Stimulus/S  9'): 9, np.str_('Stimulus/S 10'): 10, np.str_('Stimulus/S 11'): 11, np.str_('Stimulus/S 12'): 12, np.str_('Stimulus/S 13'): 13, np.str_('Stimulus/S 14'): 14, np.str_('Stimulus/S 21'): 21, np.str_('Stimulus/S 22'): 22, np.str_('Stimulus/S 23'): 23, np.str_('Stimulus/S 24'): 24, np.str_('Stimulus/S 25'): 25}\n"
     ]
    }
   ],
   "source": [
    "# Create an events dicionnary\n",
    "events, event_id = mne.events_from_annotations(raw)\n",
    "print(\"Events list (stimulus) :\")\n",
    "print(event_id)"
   ]
  },
  {
   "cell_type": "code",
   "execution_count": 11,
   "id": "bfb00598",
   "metadata": {},
   "outputs": [
    {
     "name": "stdout",
     "output_type": "stream",
     "text": [
      "Events (sample, previous_id, event_id) :\n",
      "[[    0     0 99999]\n",
      " [ 2971     0     1]\n",
      " [ 6388     0    25]\n",
      " [ 6393     0     2]\n",
      " [10935     0    25]\n",
      " [10940     0     3]\n",
      " [12636     0    21]\n",
      " [13521     0    21]\n",
      " [14309     0    21]\n",
      " [15058     0    21]\n",
      " [15773     0    21]\n",
      " [15777     0     4]\n",
      " [19459     0    25]\n",
      " [19464     0     5]\n",
      " [24943     0     6]\n",
      " [28263     0    25]\n",
      " [28267     0     7]\n",
      " [33753     0     8]\n",
      " [36571     0    25]\n",
      " [36575     0     9]\n",
      " [38181     0    21]\n",
      " [38568     0    22]\n",
      " [40526     0    21]\n",
      " [41150     0    22]\n",
      " [42979     0    21]\n",
      " [43429     0    22]\n",
      " [44578     0    21]\n",
      " [45201     0    22]\n",
      " [46138     0    21]\n",
      " [46350     0    22]\n",
      " [47052     0    10]\n",
      " [51114     0    25]\n",
      " [51119     0    11]\n",
      " [51765     0    21]\n",
      " [52266     0    22]\n",
      " [54178     0    21]\n",
      " [54709     0    22]\n",
      " [55872     0    21]\n",
      " [56340     0    22]\n",
      " [57552     0    21]\n",
      " [58051     0    22]\n",
      " [59551     0    24]\n",
      " [60448     0    24]\n",
      " [61248     0    21]\n",
      " [61731     0    22]\n",
      " [61776     0    12]\n",
      " [63817     0    25]\n",
      " [63822     0    13]\n",
      " [64638     0    23]\n",
      " [67579     0    23]\n",
      " [70586     0    24]\n",
      " [71830     0    23]\n",
      " [73251     0    24]\n",
      " [73879     0    14]]\n"
     ]
    }
   ],
   "source": [
    "# Display the tab of events\n",
    "print(\"Events (sample, previous_id, event_id) :\")\n",
    "print(events)"
   ]
  },
  {
   "cell_type": "code",
   "execution_count": 12,
   "id": "b150939a",
   "metadata": {},
   "outputs": [
    {
     "name": "stdout",
     "output_type": "stream",
     "text": [
      "Stimulus 1 à 5.942 s\n",
      "Stimulus 25 à 12.776 s\n",
      "Stimulus 2 à 12.786 s\n",
      "Stimulus 25 à 21.870 s\n",
      "Stimulus 3 à 21.880 s\n",
      "Stimulus 21 à 25.272 s\n",
      "Stimulus 21 à 27.042 s\n",
      "Stimulus 21 à 28.618 s\n",
      "Stimulus 21 à 30.116 s\n",
      "Stimulus 21 à 31.546 s\n",
      "Stimulus 4 à 31.554 s\n",
      "Stimulus 25 à 38.918 s\n",
      "Stimulus 5 à 38.928 s\n",
      "Stimulus 6 à 49.886 s\n",
      "Stimulus 25 à 56.526 s\n",
      "Stimulus 7 à 56.534 s\n",
      "Stimulus 8 à 67.506 s\n",
      "Stimulus 25 à 73.142 s\n",
      "Stimulus 9 à 73.150 s\n",
      "Stimulus 21 à 76.362 s\n",
      "Stimulus 22 à 77.136 s\n",
      "Stimulus 21 à 81.052 s\n",
      "Stimulus 22 à 82.300 s\n",
      "Stimulus 21 à 85.958 s\n",
      "Stimulus 22 à 86.858 s\n",
      "Stimulus 21 à 89.156 s\n",
      "Stimulus 22 à 90.402 s\n",
      "Stimulus 21 à 92.276 s\n",
      "Stimulus 22 à 92.700 s\n",
      "Stimulus 10 à 94.104 s\n",
      "Stimulus 25 à 102.228 s\n",
      "Stimulus 11 à 102.238 s\n",
      "Stimulus 21 à 103.530 s\n",
      "Stimulus 22 à 104.532 s\n",
      "Stimulus 21 à 108.356 s\n",
      "Stimulus 22 à 109.418 s\n",
      "Stimulus 21 à 111.744 s\n",
      "Stimulus 22 à 112.680 s\n",
      "Stimulus 21 à 115.104 s\n",
      "Stimulus 22 à 116.102 s\n",
      "Stimulus 24 à 119.102 s\n",
      "Stimulus 24 à 120.896 s\n",
      "Stimulus 21 à 122.496 s\n",
      "Stimulus 22 à 123.462 s\n",
      "Stimulus 12 à 123.552 s\n",
      "Stimulus 25 à 127.634 s\n",
      "Stimulus 13 à 127.644 s\n",
      "Stimulus 23 à 129.276 s\n",
      "Stimulus 23 à 135.158 s\n",
      "Stimulus 24 à 141.172 s\n",
      "Stimulus 23 à 143.660 s\n",
      "Stimulus 24 à 146.502 s\n",
      "Stimulus 14 à 147.758 s\n"
     ]
    }
   ],
   "source": [
    "# Convert the timestamps into seconds\n",
    "events_no_zero = events[events[:, 0] != 0]  # <-- filters the events at 0.000 s\n",
    "events_times_sec = events_no_zero[:, 0] / raw.info['sfreq'] # converts the timestamps into seconds\n",
    "\n",
    "for time, eid in zip(events_times_sec, events_no_zero[:, 2]): # links each time in seconds to its event ID\n",
    "    print(f\"Stimulus {eid} à {time:.3f} s\") # formats the number with 3 decimal"
   ]
  },
  {
   "cell_type": "markdown",
   "id": "3647defd",
   "metadata": {},
   "source": [
    "Alternative to display the stimulus name (and not its ID) with its timestamp in seconds"
   ]
  },
  {
   "cell_type": "code",
   "execution_count": 13,
   "id": "4df49ef9",
   "metadata": {},
   "outputs": [
    {
     "name": "stdout",
     "output_type": "stream",
     "text": [
      "Stimulus/S  1 à 5.942 s\n",
      "Stimulus/S 25 à 12.776 s\n",
      "Stimulus/S  2 à 12.786 s\n",
      "Stimulus/S 25 à 21.870 s\n",
      "Stimulus/S  3 à 21.880 s\n",
      "Stimulus/S 21 à 25.272 s\n",
      "Stimulus/S 21 à 27.042 s\n",
      "Stimulus/S 21 à 28.618 s\n",
      "Stimulus/S 21 à 30.116 s\n",
      "Stimulus/S 21 à 31.546 s\n",
      "Stimulus/S  4 à 31.554 s\n",
      "Stimulus/S 25 à 38.918 s\n",
      "Stimulus/S  5 à 38.928 s\n",
      "Stimulus/S  6 à 49.886 s\n",
      "Stimulus/S 25 à 56.526 s\n",
      "Stimulus/S  7 à 56.534 s\n",
      "Stimulus/S  8 à 67.506 s\n",
      "Stimulus/S 25 à 73.142 s\n",
      "Stimulus/S  9 à 73.150 s\n",
      "Stimulus/S 21 à 76.362 s\n",
      "Stimulus/S 22 à 77.136 s\n",
      "Stimulus/S 21 à 81.052 s\n",
      "Stimulus/S 22 à 82.300 s\n",
      "Stimulus/S 21 à 85.958 s\n",
      "Stimulus/S 22 à 86.858 s\n",
      "Stimulus/S 21 à 89.156 s\n",
      "Stimulus/S 22 à 90.402 s\n",
      "Stimulus/S 21 à 92.276 s\n",
      "Stimulus/S 22 à 92.700 s\n",
      "Stimulus/S 10 à 94.104 s\n",
      "Stimulus/S 25 à 102.228 s\n",
      "Stimulus/S 11 à 102.238 s\n",
      "Stimulus/S 21 à 103.530 s\n",
      "Stimulus/S 22 à 104.532 s\n",
      "Stimulus/S 21 à 108.356 s\n",
      "Stimulus/S 22 à 109.418 s\n",
      "Stimulus/S 21 à 111.744 s\n",
      "Stimulus/S 22 à 112.680 s\n",
      "Stimulus/S 21 à 115.104 s\n",
      "Stimulus/S 22 à 116.102 s\n",
      "Stimulus/S 24 à 119.102 s\n",
      "Stimulus/S 24 à 120.896 s\n",
      "Stimulus/S 21 à 122.496 s\n",
      "Stimulus/S 22 à 123.462 s\n",
      "Stimulus/S 12 à 123.552 s\n",
      "Stimulus/S 25 à 127.634 s\n",
      "Stimulus/S 13 à 127.644 s\n",
      "Stimulus/S 23 à 129.276 s\n",
      "Stimulus/S 23 à 135.158 s\n",
      "Stimulus/S 24 à 141.172 s\n",
      "Stimulus/S 23 à 143.660 s\n",
      "Stimulus/S 24 à 146.502 s\n",
      "Stimulus/S 14 à 147.758 s\n"
     ]
    }
   ],
   "source": [
    "id_to_name = {v: k for k, v in event_id.items()}\n",
    "\n",
    "for time, eid in zip(events_times_sec, events_no_zero[:, 2]):\n",
    "    name = id_to_name.get(eid, f\"ID {eid}\")\n",
    "    print(f\"{name} à {time:.3f} s\")"
   ]
  },
  {
   "cell_type": "markdown",
   "id": "c2024ecb",
   "metadata": {},
   "source": [
    "### NOT TO DO : Alternative whith a pandas DataFrame output"
   ]
  },
  {
   "cell_type": "code",
   "execution_count": null,
   "id": "3e5c8117",
   "metadata": {},
   "outputs": [],
   "source": [
    "id_to_name = {v: k for k, v in event_id.items()}\n",
    "\n",
    "events_data = [] # création of dictionnaries list (one per event)\n",
    "for time, eid in zip(events_times_sec, events[:, 2]):\n",
    "    name = id_to_name.get(eid, f\"ID {eid}\")\n",
    "    events_data.append({\n",
    "        \"Nom de l'événement\": name,\n",
    "        \"ID\": eid,\n",
    "        \"Temps (s)\": round(time, 3)\n",
    "    })\n",
    "\n",
    "df_events = pd.DataFrame(events_data) # conversion into a DataFrame\n",
    "\n",
    "print(df_events)"
   ]
  },
  {
   "cell_type": "markdown",
   "id": "f8484e70",
   "metadata": {},
   "source": [
    "# B. Preprocessing"
   ]
  },
  {
   "cell_type": "markdown",
   "id": "9b7921c8",
   "metadata": {},
   "source": [
    "## 1. Define the montage"
   ]
  },
  {
   "cell_type": "code",
   "execution_count": 14,
   "id": "0a1522c4",
   "metadata": {},
   "outputs": [
    {
     "data": {
      "text/html": [
       "<script type=\"text/javascript\">\n",
       "    // must be `var` (not `const`) because this can get embedded multiple times on a page\n",
       "var toggleVisibility = (className) => {\n",
       "\n",
       "    const elements = document.querySelectorAll(`.${className}`);\n",
       "\n",
       "    elements.forEach(element => {\n",
       "        if (element.classList.contains(\"mne-repr-section-header\")) {\n",
       "            return  // Don't collapse the section header row\n",
       "        }\n",
       "        element.classList.toggle(\"mne-repr-collapsed\");\n",
       "    });\n",
       "\n",
       "    // trigger caret to rotate\n",
       "    var sel = `.mne-repr-section-header.${className} > th.mne-repr-section-toggle > button`;\n",
       "    const button = document.querySelector(sel);\n",
       "    button.classList.toggle(\"collapsed\");\n",
       "\n",
       "    // adjust tooltip\n",
       "    sel = `tr.mne-repr-section-header.${className}`;\n",
       "    const secHeadRow = document.querySelector(sel);\n",
       "    secHeadRow.classList.toggle(\"collapsed\");\n",
       "    secHeadRow.title = secHeadRow.title === \"Hide section\" ? \"Show section\" : \"Hide section\";\n",
       "}\n",
       "</script>\n",
       "\n",
       "<style type=\"text/css\">\n",
       "    /*\n",
       "Styles in this section apply both to the sphinx-built website docs and to notebooks\n",
       "rendered in an IDE or in Jupyter. In our web docs, styles here are complemented by\n",
       "doc/_static/styles.css and other CSS files (e.g. from the sphinx theme, sphinx-gallery,\n",
       "or bootstrap). In IDEs/Jupyter, those style files are unavailable, so only the rules in\n",
       "this file apply (plus whatever default styling the IDE applies).\n",
       "*/\n",
       ".mne-repr-table {\n",
       "    display: inline;  /* prevent using full container width */\n",
       "}\n",
       ".mne-repr-table tr.mne-repr-section-header > th {\n",
       "    padding-top: 1rem;\n",
       "    text-align: left;\n",
       "    vertical-align: middle;\n",
       "}\n",
       ".mne-repr-section-toggle > button {\n",
       "    all: unset;\n",
       "    display: block;\n",
       "    height: 1rem;\n",
       "    width: 1rem;\n",
       "}\n",
       ".mne-repr-section-toggle > button > svg {\n",
       "    height: 60%;\n",
       "}\n",
       "\n",
       "/* transition (rotation) effects on the collapser button */\n",
       ".mne-repr-section-toggle > button.collapsed > svg {\n",
       "    transition: 0.1s ease-out;\n",
       "    transform: rotate(-90deg);\n",
       "}\n",
       ".mne-repr-section-toggle > button:not(.collapsed) > svg {\n",
       "    transition: 0.1s ease-out;\n",
       "    transform: rotate(0deg);\n",
       "}\n",
       "\n",
       "/* hide collapsed table rows */\n",
       ".mne-repr-collapsed {\n",
       "    display: none;\n",
       "}\n",
       "\n",
       "\n",
       "@layer {\n",
       "    /*\n",
       "    Selectors in a `@layer` will always be lower-precedence than selectors outside the\n",
       "    layer. So even though e.g. `div.output_html` is present in the sphinx-rendered\n",
       "    website docs, the styles here won't take effect there as long as some other rule\n",
       "    somewhere in the page's CSS targets the same element.\n",
       "\n",
       "    In IDEs or Jupyter notebooks, though, the CSS files from the sphinx theme,\n",
       "    sphinx-gallery, and bootstrap are unavailable, so these styles will apply.\n",
       "\n",
       "    Notes:\n",
       "\n",
       "    - the selector `.accordion-body` is for MNE Reports\n",
       "    - the selector `.output_html` is for VSCode's notebook interface\n",
       "    - the selector `.jp-RenderedHTML` is for Jupyter notebook\n",
       "    - variables starting with `--theme-` are VSCode-specific.\n",
       "    - variables starting with `--jp-` are Jupyter styles, *some of which* are also\n",
       "      available in VSCode. Here we try the `--theme-` variable first, then fall back to\n",
       "      the `--jp-` ones.\n",
       "    */\n",
       "    .mne-repr-table {\n",
       "        --mne-toggle-color: var(--theme-foreground, var(--jp-ui-font-color1));\n",
       "        --mne-button-bg-color: var(--theme-button-background, var(--jp-info-color0, var(--jp-content-link-color)));\n",
       "        --mne-button-fg-color: var(--theme-button-foreground, var(--jp-ui-inverse-font-color0, var(--jp-editor-background)));\n",
       "        --mne-button-hover-bg-color: var(--theme-button-hover-background, var(--jp-info-color1));\n",
       "        --mne-button-radius: var(--jp-border-radius, 0.25rem);\n",
       "    }\n",
       "    /* chevron position/alignment; in VSCode it looks ok without adjusting */\n",
       "    .accordion-body .mne-repr-section-toggle > button,\n",
       "    .jp-RenderedHTML .mne-repr-section-toggle > button {\n",
       "        padding: 0 0 45% 25% !important;\n",
       "    }\n",
       "    /* chevron color; MNE Report doesn't have light/dark mode */\n",
       "    div.output_html .mne-repr-section-toggle > button > svg > path,\n",
       "    .jp-RenderedHTML .mne-repr-section-toggle > button > svg > path {\n",
       "        fill: var(--mne-toggle-color);\n",
       "    }\n",
       "    .accordion-body .mne-ch-names-btn,\n",
       "    div.output_html .mne-ch-names-btn,\n",
       "    .jp-RenderedHTML .mne-ch-names-btn {\n",
       "        -webkit-border-radius: var(--mne-button-radius);\n",
       "        -moz-border-radius: var(--mne-button-radius);\n",
       "        border-radius: var(--mne-button-radius);\n",
       "        border: none;\n",
       "        background-image: none;\n",
       "        background-color: var(--mne-button-bg-color);\n",
       "        color: var(--mne-button-fg-color);\n",
       "        font-size: inherit;\n",
       "        min-width: 1.5rem;\n",
       "        padding: 0.25rem;\n",
       "        text-align: center;\n",
       "        text-decoration: none;\n",
       "    }\n",
       "    .accordion-body .mne-ch-names-btn:hover,\n",
       "    div.output_html .mne.ch-names-btn:hover,\n",
       "    .jp-RenderedHTML .mne-ch-names-btn:hover {\n",
       "        background-color: var(--mne-button-hover-bg-color);\n",
       "        text-decoration: underline;\n",
       "    }\n",
       "    .accordion-body .mne-ch-names-btn:focus-visible,\n",
       "    div.output_html .mne-ch-names-btn:focus-visible,\n",
       "    .jp-RenderedHTML .mne-ch-names-btn:focus-visible {\n",
       "        outline: 0.1875rem solid var(--mne-button-bg-color) !important;\n",
       "        outline-offset: 0.1875rem !important;\n",
       "    }\n",
       "}\n",
       "</style>\n",
       "\n",
       "\n",
       "\n",
       "<table class=\"table mne-repr-table\">\n",
       "    \n",
       "\n",
       "\n",
       "\n",
       "\n",
       "\n",
       "\n",
       "\n",
       "<tr class=\"mne-repr-section-header general-2b274b2d-e097-4820-8ea8-c064a5491fe4\"\n",
       "     title=\"Hide section\" \n",
       "    onclick=\"toggleVisibility('general-2b274b2d-e097-4820-8ea8-c064a5491fe4')\">\n",
       "    <th class=\"mne-repr-section-toggle\">\n",
       "        <button >\n",
       "            <svg xmlns=\"http://www.w3.org/2000/svg\" viewBox=\"0 0 512 512\"><!--!Font Awesome Free 6.6.0 by @fontawesome - https://fontawesome.com License - https://fontawesome.com/license/free Copyright 2024 Fonticons, Inc.--><path d=\"M233.4 406.6c12.5 12.5 32.8 12.5 45.3 0l192-192c12.5-12.5 12.5-32.8 0-45.3s-32.8-12.5-45.3 0L256 338.7 86.6 169.4c-12.5-12.5-32.8-12.5-45.3 0s-12.5 32.8 0 45.3l192 192z\"/></svg>\n",
       "        </button>\n",
       "    </th>\n",
       "    <th colspan=\"2\">\n",
       "        <strong>General</strong>\n",
       "    </th>\n",
       "</tr>\n",
       "\n",
       "\n",
       "<tr class=\"repr-element general-2b274b2d-e097-4820-8ea8-c064a5491fe4 \">\n",
       "    <td class=\"mne-repr-section-toggle\"></td>\n",
       "    <td>Filename(s)</td>\n",
       "    <td>\n",
       "        \n",
       "        MOVIDOCTicTrack000005.eeg\n",
       "        \n",
       "        \n",
       "    </td>\n",
       "</tr>\n",
       "\n",
       "<tr class=\"repr-element general-2b274b2d-e097-4820-8ea8-c064a5491fe4 \">\n",
       "    <td class=\"mne-repr-section-toggle\"></td>\n",
       "    <td>MNE object type</td>\n",
       "    <td>RawBrainVision</td>\n",
       "</tr>\n",
       "<tr class=\"repr-element general-2b274b2d-e097-4820-8ea8-c064a5491fe4 \">\n",
       "    <td class=\"mne-repr-section-toggle\"></td>\n",
       "    <td>Measurement date</td>\n",
       "    \n",
       "    <td>2025-05-13 at 16:30:12 UTC</td>\n",
       "    \n",
       "</tr>\n",
       "<tr class=\"repr-element general-2b274b2d-e097-4820-8ea8-c064a5491fe4 \">\n",
       "    <td class=\"mne-repr-section-toggle\"></td>\n",
       "    <td>Participant</td>\n",
       "    \n",
       "    <td>Unknown</td>\n",
       "    \n",
       "</tr>\n",
       "<tr class=\"repr-element general-2b274b2d-e097-4820-8ea8-c064a5491fe4 \">\n",
       "    <td class=\"mne-repr-section-toggle\"></td>\n",
       "    <td>Experimenter</td>\n",
       "    \n",
       "    <td>Unknown</td>\n",
       "    \n",
       "</tr>\n",
       "    \n",
       "\n",
       "\n",
       "\n",
       "\n",
       "\n",
       "\n",
       "\n",
       "<tr class=\"mne-repr-section-header acquisition-ca861486-352e-45b2-8bff-bafda09765f7\"\n",
       "     title=\"Hide section\" \n",
       "    onclick=\"toggleVisibility('acquisition-ca861486-352e-45b2-8bff-bafda09765f7')\">\n",
       "    <th class=\"mne-repr-section-toggle\">\n",
       "        <button >\n",
       "            <svg xmlns=\"http://www.w3.org/2000/svg\" viewBox=\"0 0 512 512\"><!--!Font Awesome Free 6.6.0 by @fontawesome - https://fontawesome.com License - https://fontawesome.com/license/free Copyright 2024 Fonticons, Inc.--><path d=\"M233.4 406.6c12.5 12.5 32.8 12.5 45.3 0l192-192c12.5-12.5 12.5-32.8 0-45.3s-32.8-12.5-45.3 0L256 338.7 86.6 169.4c-12.5-12.5-32.8-12.5-45.3 0s-12.5 32.8 0 45.3l192 192z\"/></svg>\n",
       "        </button>\n",
       "    </th>\n",
       "    <th colspan=\"2\">\n",
       "        <strong>Acquisition</strong>\n",
       "    </th>\n",
       "</tr>\n",
       "\n",
       "\n",
       "<tr class=\"repr-element acquisition-ca861486-352e-45b2-8bff-bafda09765f7 \">\n",
       "    <td class=\"mne-repr-section-toggle\"></td>\n",
       "    <td>Duration</td>\n",
       "    <td>00:02:40 (HH:MM:SS)</td>\n",
       "</tr>\n",
       "\n",
       "\n",
       "\n",
       "\n",
       "\n",
       "\n",
       "\n",
       "\n",
       "<tr class=\"repr-element acquisition-ca861486-352e-45b2-8bff-bafda09765f7 \">\n",
       "    <td class=\"mne-repr-section-toggle\"></td>\n",
       "    <td>Sampling frequency</td>\n",
       "    <td>500.00 Hz</td>\n",
       "</tr>\n",
       "\n",
       "\n",
       "<tr class=\"repr-element acquisition-ca861486-352e-45b2-8bff-bafda09765f7 \">\n",
       "    <td class=\"mne-repr-section-toggle\"></td>\n",
       "    <td>Time points</td>\n",
       "    <td>79,760</td>\n",
       "</tr>\n",
       "\n",
       "\n",
       "    \n",
       "\n",
       "\n",
       "\n",
       "\n",
       "\n",
       "\n",
       "\n",
       "<tr class=\"mne-repr-section-header channels-ab44fb3f-4750-49a3-9c2f-bbc70dac072e\"\n",
       "     title=\"Hide section\" \n",
       "    onclick=\"toggleVisibility('channels-ab44fb3f-4750-49a3-9c2f-bbc70dac072e')\">\n",
       "    <th class=\"mne-repr-section-toggle\">\n",
       "        <button >\n",
       "            <svg xmlns=\"http://www.w3.org/2000/svg\" viewBox=\"0 0 512 512\"><!--!Font Awesome Free 6.6.0 by @fontawesome - https://fontawesome.com License - https://fontawesome.com/license/free Copyright 2024 Fonticons, Inc.--><path d=\"M233.4 406.6c12.5 12.5 32.8 12.5 45.3 0l192-192c12.5-12.5 12.5-32.8 0-45.3s-32.8-12.5-45.3 0L256 338.7 86.6 169.4c-12.5-12.5-32.8-12.5-45.3 0s-12.5 32.8 0 45.3l192 192z\"/></svg>\n",
       "        </button>\n",
       "    </th>\n",
       "    <th colspan=\"2\">\n",
       "        <strong>Channels</strong>\n",
       "    </th>\n",
       "</tr>\n",
       "\n",
       "\n",
       "    \n",
       "<tr class=\"repr-element channels-ab44fb3f-4750-49a3-9c2f-bbc70dac072e \">\n",
       "    <td class=\"mne-repr-section-toggle\"></td>\n",
       "    <td>EEG</td>\n",
       "    <td>\n",
       "        <button class=\"mne-ch-names-btn sd-sphinx-override sd-btn sd-btn-info sd-text-wrap sd-shadow-sm\" onclick=\"alert('Good EEG:\\n\\nFp1, F3, F7, FT9, FC5, FC1, C3, T7, TP9, CP5, CP1, Pz, P3, P7, O1, Oz, O2, P4, P8, TP10, CP6, CP2, Cz, C4, T8, FT10, FC6, FC2, F4, F8, Fp2')\" title=\"(Click to open in popup)&#13;&#13;Fp1, F3, F7, FT9, FC5, FC1, C3, T7, TP9, CP5, CP1, Pz, P3, P7, O1, Oz, O2, P4, P8, TP10, CP6, CP2, Cz, C4, T8, FT10, FC6, FC2, F4, F8, Fp2\">\n",
       "            31\n",
       "        </button>\n",
       "\n",
       "        \n",
       "    </td>\n",
       "</tr>\n",
       "\n",
       "\n",
       "<tr class=\"repr-element channels-ab44fb3f-4750-49a3-9c2f-bbc70dac072e \">\n",
       "    <td class=\"mne-repr-section-toggle\"></td>\n",
       "    <td>Head & sensor digitization</td>\n",
       "    \n",
       "    <td>34 points</td>\n",
       "    \n",
       "</tr>\n",
       "    \n",
       "\n",
       "\n",
       "\n",
       "\n",
       "\n",
       "\n",
       "\n",
       "<tr class=\"mne-repr-section-header filters-c03f4fd0-0ddb-4a1c-8a34-9a1a7ae41c3c\"\n",
       "     title=\"Hide section\" \n",
       "    onclick=\"toggleVisibility('filters-c03f4fd0-0ddb-4a1c-8a34-9a1a7ae41c3c')\">\n",
       "    <th class=\"mne-repr-section-toggle\">\n",
       "        <button >\n",
       "            <svg xmlns=\"http://www.w3.org/2000/svg\" viewBox=\"0 0 512 512\"><!--!Font Awesome Free 6.6.0 by @fontawesome - https://fontawesome.com License - https://fontawesome.com/license/free Copyright 2024 Fonticons, Inc.--><path d=\"M233.4 406.6c12.5 12.5 32.8 12.5 45.3 0l192-192c12.5-12.5 12.5-32.8 0-45.3s-32.8-12.5-45.3 0L256 338.7 86.6 169.4c-12.5-12.5-32.8-12.5-45.3 0s-12.5 32.8 0 45.3l192 192z\"/></svg>\n",
       "        </button>\n",
       "    </th>\n",
       "    <th colspan=\"2\">\n",
       "        <strong>Filters</strong>\n",
       "    </th>\n",
       "</tr>\n",
       "\n",
       "\n",
       "<tr class=\"repr-element filters-c03f4fd0-0ddb-4a1c-8a34-9a1a7ae41c3c \">\n",
       "    <td class=\"mne-repr-section-toggle\"></td>\n",
       "    <td>Highpass</td>\n",
       "    <td>0.00 Hz</td>\n",
       "</tr>\n",
       "\n",
       "\n",
       "<tr class=\"repr-element filters-c03f4fd0-0ddb-4a1c-8a34-9a1a7ae41c3c \">\n",
       "    <td class=\"mne-repr-section-toggle\"></td>\n",
       "    <td>Lowpass</td>\n",
       "    <td>250.00 Hz</td>\n",
       "</tr>\n",
       "\n",
       "\n",
       "</table>"
      ],
      "text/plain": [
       "<RawBrainVision | MOVIDOCTicTrack000005.eeg, 31 x 79760 (159.5 s), ~18.9 MiB, data loaded>"
      ]
     },
     "execution_count": 14,
     "metadata": {},
     "output_type": "execute_result"
    }
   ],
   "source": [
    "raw.set_montage(\"standard_1020\") # to adapt according to the montage used during the exepriments"
   ]
  },
  {
   "cell_type": "code",
   "execution_count": 17,
   "id": "0db6f7d1",
   "metadata": {},
   "outputs": [
    {
     "data": {
      "image/png": "[encoded data removed]",
      "text/plain": [
       "<Figure size 640x640 with 1 Axes>"
      ]
     },
     "metadata": {},
     "output_type": "display_data"
    },
    {
     "name": "stdout",
     "output_type": "stream",
     "text": [
      "Figure saved: C:\\Users\\indira.lavocat\\MOVIDOC\\tictrack_eeg_analysis\\Figures\\Figure1_SensorsMontage.png\n"
     ]
    }
   ],
   "source": [
    "Sensors_Montage_Figure_1 = raw.plot_sensors(show_names=True)\n",
    "save_figure(Sensors_Montage_Figure_1, \"Figure1_SensorsMontage.png\")\n",
    "# fig.savefig(\"C:\\\\Users\\\\indira.lavocat\\\\MOVIDOC\\\\tictrack_eeg_analysis\\\\Figures\\\\Figure1_SensorsMontage.png\")"
   ]
  },
  {
   "cell_type": "markdown",
   "id": "a2cb9835",
   "metadata": {},
   "source": [
    "## 2. Filter the data with a band-pass"
   ]
  },
  {
   "cell_type": "code",
   "execution_count": 18,
   "id": "a94d18eb",
   "metadata": {},
   "outputs": [
    {
     "name": "stdout",
     "output_type": "stream",
     "text": [
      "Filtering raw data in 1 contiguous segment\n",
      "Setting up band-pass filter from 0.5 - 45 Hz\n",
      "\n",
      "FIR filter parameters\n",
      "---------------------\n",
      "Designing a one-pass, zero-phase, non-causal bandpass filter:\n",
      "- Windowed time-domain design (firwin) method\n",
      "- Hamming window with 0.0194 passband ripple and 53 dB stopband attenuation\n",
      "- Lower passband edge: 0.50\n",
      "- Lower transition bandwidth: 0.50 Hz (-6 dB cutoff frequency: 0.25 Hz)\n",
      "- Upper passband edge: 45.00 Hz\n",
      "- Upper transition bandwidth: 11.25 Hz (-6 dB cutoff frequency: 50.62 Hz)\n",
      "- Filter length: 3301 samples (6.602 s)\n",
      "\n"
     ]
    },
    {
     "name": "stderr",
     "output_type": "stream",
     "text": [
      "[Parallel(n_jobs=1)]: Done  17 tasks      | elapsed:    0.0s\n",
      "[Parallel(n_jobs=1)]: Done  31 out of  31 | elapsed:    0.0s finished\n"
     ]
    }
   ],
   "source": [
    "# Define the high and low frequencies\n",
    "HFreq = 45\n",
    "LFreq = 0.5\n",
    "raw_HighLowPassed = raw.filter(l_freq = LFreq, h_freq = HFreq)\n",
    "\n",
    "# for ERPs, [1-30] Hz band-pass filter"
   ]
  },
  {
   "cell_type": "code",
   "execution_count": 19,
   "id": "09ea8ff6",
   "metadata": {},
   "outputs": [],
   "source": [
    "# Plot the highpassed signal\n",
    "Signal_HighLowPassed_Figure_2 = raw_HighLowPassed.plot(title = \"High- and Low- passed Signal\")"
   ]
  },
  {
   "cell_type": "markdown",
   "id": "d66bed48",
   "metadata": {},
   "source": [
    "## 3. Filter the data with a Notch"
   ]
  },
  {
   "cell_type": "code",
   "execution_count": 20,
   "id": "1d03d25e",
   "metadata": {},
   "outputs": [],
   "source": [
    "# Define the parameters for the notch filter\n",
    "if HFreq < 50:\n",
    "    raw_Notched = raw_HighLowPassed\n",
    "else:\n",
    "    raw_Notched = raw_HighLowPassed.notch_filter(freqs = [50], picks = \"data\", method = \"spectrum_fit\")"
   ]
  },
  {
   "cell_type": "code",
   "execution_count": 21,
   "id": "13d31d10",
   "metadata": {},
   "outputs": [],
   "source": [
    "# Plot the notched signal\n",
    "Signal_Notched_Figure_3 = raw_Notched.plot(title = \"Notched Signal\")"
   ]
  },
  {
   "cell_type": "markdown",
   "id": "d95d2712",
   "metadata": {},
   "source": [
    "## 4. Identify the bad channels => DONE DURING THE REST METHOD"
   ]
  },
  {
   "cell_type": "code",
   "execution_count": null,
   "id": "22abf04d",
   "metadata": {},
   "outputs": [],
   "source": []
  },
  {
   "cell_type": "markdown",
   "id": "11100417",
   "metadata": {},
   "source": [
    "## 5. Re-reference the data"
   ]
  },
  {
   "cell_type": "code",
   "execution_count": 22,
   "id": "66c3187e",
   "metadata": {},
   "outputs": [
    {
     "name": "stdout",
     "output_type": "stream",
     "text": [
      "Application du référentiel REST...\n",
      "Fitted sphere radius:         96.0 mm\n",
      "Origin head coordinates:      -0.9 13.5 42.7 mm\n",
      "Origin device coordinates:    -0.9 13.5 42.7 mm\n",
      "\n",
      "Equiv. model fitting -> RV = 0.00349057 %%\n",
      "mu1 = 0.944702    lambda1 = 0.137194\n",
      "mu2 = 0.667435    lambda2 = 0.683781\n",
      "mu3 = -0.26548    lambda3 = -0.0106058\n",
      "Set up EEG sphere model with scalp radius    96.0 mm\n",
      "\n",
      "EEG channel type selected for re-referencing\n",
      "Applying REST reference.\n",
      "Applying a custom ('EEG',) reference.\n",
      "    31 out of 31 channels remain after picking\n"
     ]
    }
   ],
   "source": [
    "# REST method : advanced EEG re-referencemen\n",
    "print(\"Application du référentiel REST...\")\n",
    "\n",
    "# Create a spherical model of the head based on the file information \n",
    "Sphere = mne.make_sphere_model('auto', 'auto', raw_Notched.info)\n",
    "\n",
    "# Define the volume source space\n",
    "Source = mne.setup_volume_source_space(sphere=Sphere, exclude=30.0, pos=5.0, mri=None, verbose=False)\n",
    "\n",
    "# Calculate the forward model solution\n",
    "Forward = mne.make_forward_solution(raw_Notched.info, trans=None, src=Source, bem=Sphere, verbose=False)\n",
    "\n",
    "# Apply the REST reference\n",
    "raw_REST = raw_Notched.copy().set_eeg_reference('REST', forward=Forward)"
   ]
  },
  {
   "cell_type": "markdown",
   "id": "a44f5ae8",
   "metadata": {},
   "source": [
    "Optionnal : visualisation after REST"
   ]
  },
  {
   "cell_type": "code",
   "execution_count": 24,
   "id": "7941d1e5",
   "metadata": {},
   "outputs": [
    {
     "name": "stdout",
     "output_type": "stream",
     "text": [
      "Channels marked as bad:\n",
      "none\n"
     ]
    }
   ],
   "source": [
    "# Display the signal (after REST)\n",
    "Signal_REST_Figure_4 = raw_REST.plot(title=\"Signal after REST\")"
   ]
  },
  {
   "cell_type": "markdown",
   "id": "0ec5ba02",
   "metadata": {},
   "source": [
    "## 7. Recalage"
   ]
  },
  {
   "cell_type": "code",
   "execution_count": 25,
   "id": "57d4ab9d",
   "metadata": {},
   "outputs": [
    {
     "name": "stdout",
     "output_type": "stream",
     "text": [
      "First stimulus at 5.942 s\n"
     ]
    }
   ],
   "source": [
    "# Reset the file time\n",
    "if events_times_sec[0] == 0 and len(events_times_sec) > 1: # check if the 1st stimulus is at 0 s. If so, use the 2nd stimulus\n",
    "    first_stimulus_time = events_times_sec[1]\n",
    "    print(f\"First stimulus is at 0. Using second stimulus at {first_stimulus_time:.3f} s\")\n",
    "else:\n",
    "    first_stimulus_time = events_times_sec[0]\n",
    "    print(f\"First stimulus at {first_stimulus_time:.3f} s\")"
   ]
  },
  {
   "cell_type": "code",
   "execution_count": 26,
   "id": "77fa0e74",
   "metadata": {},
   "outputs": [],
   "source": [
    "# Truncate the signal to start at this point\n",
    "raw_cropped = raw_REST.copy().crop(tmin=first_stimulus_time)"
   ]
  },
  {
   "cell_type": "code",
   "execution_count": 27,
   "id": "658f73cb",
   "metadata": {},
   "outputs": [
    {
     "name": "stderr",
     "output_type": "stream",
     "text": [
      "C:\\Users\\indira.lavocat\\AppData\\Local\\Temp\\ipykernel_22608\\2637390326.py:4: RuntimeWarning: Omitted 1 annotation(s) that were outside data range.\n",
      "  raw_cropped.set_annotations(\n"
     ]
    }
   ],
   "source": [
    "# Reset the annotations by shifting all annotations by - first_stimulus_time\n",
    "if raw.annotations is not None:\n",
    "    raw_annotation_times = raw.annotations.onset - first_stimulus_time\n",
    "    raw_cropped.set_annotations(\n",
    "        mne.Annotations(\n",
    "            onset=raw_annotation_times, # onset = raw_annotation_times with the new reset times\n",
    "            duration=raw.annotations.duration,\n",
    "            description=raw.annotations.description\n",
    "        )\n",
    "    )"
   ]
  },
  {
   "cell_type": "code",
   "execution_count": 28,
   "id": "fba01f7d",
   "metadata": {},
   "outputs": [],
   "source": [
    "# Plot truncated and recalculated data\n",
    "Readjusted_Signal_Figure_5 = raw_cropped.plot(title=\"Readjusted signal (from the 1st stimulus not at 0 s)\")"
   ]
  },
  {
   "cell_type": "markdown",
   "id": "1df49c8a",
   "metadata": {},
   "source": [
    "# C. Epoching"
   ]
  },
  {
   "cell_type": "markdown",
   "id": "2de642e0",
   "metadata": {},
   "source": [
    "## 1. Phase 1 (P1)\n",
    "### Get the \"press a key\" baseline from the P1 phase"
   ]
  },
  {
   "cell_type": "markdown",
   "id": "e1a0d9b0",
   "metadata": {},
   "source": [
    "Get the stimuli in P1"
   ]
  },
  {
   "cell_type": "code",
   "execution_count": 29,
   "id": "d022e31a",
   "metadata": {},
   "outputs": [
    {
     "name": "stdout",
     "output_type": "stream",
     "text": [
      "5 stimuli trouvés entre 'Stimulus/S  3' et 'Stimulus/S  4' :\n",
      "Stimulus/S 21 à 25.272 s\n",
      "Stimulus/S 21 à 27.042 s\n",
      "Stimulus/S 21 à 28.618 s\n",
      "Stimulus/S 21 à 30.116 s\n",
      "Stimulus/S 21 à 31.546 s\n"
     ]
    }
   ],
   "source": [
    "# Define the parameters\n",
    "begin_P1_stimulus = \"Stimulus/S  3\" # sent at the beginning of the P1 task\n",
    "end_P1_stimulus = \"Stimulus/S  4\" # sent at the ending of the P1 task \n",
    "\n",
    "# Create a list with annotations and their times\n",
    "list_annotations = list(zip(raw_cropped.annotations.onset, raw_cropped.annotations.description))\n",
    "\n",
    "# Find all the segments in the P1 phase\n",
    "P1_segments = []\n",
    "i = 0\n",
    "while i < len(list_annotations):\n",
    "    onset, desc = list_annotations[i]\n",
    "    if desc == begin_P1_stimulus:\n",
    "        # Search the next end event\n",
    "        for j in range(i + 1, len(list_annotations)):\n",
    "            next_onset, next_desc = list_annotations[j]\n",
    "            if next_desc == end_P1_stimulus:\n",
    "                P1_segments.append((onset, next_onset))\n",
    "                i = j  # continue after the stop\n",
    "                break\n",
    "    i += 1\n",
    "\n",
    "# Get all the stimuli present in the segments\n",
    "stimuli_in_P1 = []\n",
    "for start, end in P1_segments:\n",
    "    for onset, desc in list_annotations:\n",
    "        if start <= onset <= end:\n",
    "            # Do not take into account the beginning and ending stimuli\n",
    "            if desc not in (begin_P1_stimulus, end_P1_stimulus):\n",
    "                stimuli_in_P1.append((onset, desc))\n",
    "\n",
    "# Display & check the stimuli found\n",
    "print(f\"{len(stimuli_in_P1)} stimuli trouvés entre '{begin_P1_stimulus}' et '{end_P1_stimulus}' :\")\n",
    "for onset, desc in stimuli_in_P1:\n",
    "    print(f\"{desc} à {onset:.3f} s\")"
   ]
  },
  {
   "cell_type": "markdown",
   "id": "74c55091",
   "metadata": {},
   "source": [
    "Get the the signal -1 second before & +1 second after each stimulus"
   ]
  },
  {
   "cell_type": "code",
   "execution_count": 30,
   "id": "ec72ec14",
   "metadata": {},
   "outputs": [],
   "source": [
    "# Define the window around each stimulus\n",
    "tmin = -1.0 # 1 seconde before\n",
    "tmax = 1.0 # 1 seconde after\n",
    "\n",
    "# Get the sampling frequency\n",
    "sfreq = raw_cropped.info['sfreq']\n",
    "\n",
    "# Initiate a list to stock the extracted values (expected shape per segment : n_channels x n_times)\n",
    "P1_signal_segments = []\n",
    "\n",
    "for onset, desc in stimuli_in_P1:\n",
    "    start = onset + tmin\n",
    "    end = onset + tmax\n",
    "    # Check if the window is not outside the signal bounds\n",
    "    if start < 0 or end > raw_cropped.times[-1]:\n",
    "        print(f\"⚠️ Stimulus at {onset:.2f}s ignored (window [{start:.2f}, {end:.2f}] out of limits)\")\n",
    "        continue\n",
    "    # Get the segment\n",
    "    P1_segment = raw_cropped.copy().crop(tmin=start, tmax=end).get_data() # shape: (n_channels, n_times)\n",
    "    P1_signal_segments.append(P1_segment)\n",
    "\n",
    "# Convert into an array numpy : shape = (n_events, n_channels, n_times)\n",
    "P1_segments_array = np.array(P1_signal_segments)"
   ]
  },
  {
   "cell_type": "markdown",
   "id": "618376a0",
   "metadata": {},
   "source": [
    "Create epochs for each segment"
   ]
  },
  {
   "cell_type": "code",
   "execution_count": 31,
   "id": "d8b4084b",
   "metadata": {},
   "outputs": [
    {
     "name": "stdout",
     "output_type": "stream",
     "text": [
      "Not setting metadata\n",
      "5 matching events found\n",
      "No baseline correction applied\n",
      "0 projection items activated\n"
     ]
    }
   ],
   "source": [
    "# Create an info object to build an EpochsArray object\n",
    "info = create_info(\n",
    "    ch_names=raw_cropped.ch_names,\n",
    "    sfreq=sfreq,\n",
    "    ch_types=\"eeg\"  # to adapt according to the sensors nature\n",
    ")\n",
    "\n",
    "# Create the EpochsArray object from P1_segments_array\n",
    "epochs_P1 = EpochsArray(P1_segments_array, info) # expected shape : (n_epochs, n_channels, n_times)"
   ]
  },
  {
   "cell_type": "markdown",
   "id": "cbec6b31",
   "metadata": {},
   "source": [
    "Save the epochs from P1 in a file"
   ]
  },
  {
   "cell_type": "code",
   "execution_count": 32,
   "id": "9b2b180b",
   "metadata": {},
   "outputs": [
    {
     "name": "stdout",
     "output_type": "stream",
     "text": [
      "✅ Segments sauvegardés dans : C:\\Users\\indira.lavocat\\MOVIDOC\\tictrack_eeg_analysis\\.fif_files\\P1_epochs.fif\n"
     ]
    },
    {
     "name": "stderr",
     "output_type": "stream",
     "text": [
      "C:\\Users\\indira.lavocat\\AppData\\Local\\Temp\\ipykernel_22608\\4018977862.py:3: RuntimeWarning: This filename (C:\\Users\\indira.lavocat\\MOVIDOC\\tictrack_eeg_analysis\\.fif_files\\P1_epochs.fif) does not conform to MNE naming conventions. All epochs files should end with -epo.fif, -epo.fif.gz, _epo.fif or _epo.fif.gz\n",
      "  epochs_P1.save(save_P1_path, overwrite=True)\n"
     ]
    }
   ],
   "source": [
    "# Save into a .fif file\n",
    "save_P1_path = \"C:\\\\Users\\\\indira.lavocat\\\\MOVIDOC\\\\tictrack_eeg_analysis\\\\.fif_files\\\\P1_epochs.fif\"\n",
    "epochs_P1.save(save_P1_path, overwrite=True)\n",
    "print(f\"✅ Segments sauvegardés dans : {save_P1_path}\")"
   ]
  },
  {
   "cell_type": "markdown",
   "id": "d5e21878",
   "metadata": {},
   "source": [
    "Get the mean of the epochs from P1"
   ]
  },
  {
   "cell_type": "code",
   "execution_count": 33,
   "id": "5696aa65",
   "metadata": {},
   "outputs": [],
   "source": [
    "# Calculate the mean of the all the epochs : shape = (n_channels, n_times)\n",
    "mean_segment = np.mean(P1_segments_array, axis=0)\n",
    "\n",
    "# Create an Evoked object based on the mean\n",
    "evoked_P1 = EvokedArray(mean_segment, info, tmin=tmin)"
   ]
  },
  {
   "cell_type": "markdown",
   "id": "202df04c",
   "metadata": {},
   "source": [
    "Save the Evoked mean of the epochs from P1"
   ]
  },
  {
   "cell_type": "code",
   "execution_count": 34,
   "id": "73655e82",
   "metadata": {},
   "outputs": [
    {
     "name": "stdout",
     "output_type": "stream",
     "text": [
      "✅ Moyenne sauvegardée dans : C:\\Users\\indira.lavocat\\MOVIDOC\\tictrack_eeg_analysis\\.fif_files\\P1_average-epochs.fif\n"
     ]
    },
    {
     "name": "stderr",
     "output_type": "stream",
     "text": [
      "C:\\Users\\indira.lavocat\\AppData\\Local\\Temp\\ipykernel_22608\\3798962205.py:2: RuntimeWarning: This filename (C:\\Users\\indira.lavocat\\MOVIDOC\\tictrack_eeg_analysis\\.fif_files\\P1_average-epochs.fif) does not conform to MNE naming conventions. All evoked files should end with -ave.fif, -ave.fif.gz, _ave.fif or _ave.fif.gz\n",
      "  evoked_P1.save(P1_evoked_save_path)\n"
     ]
    }
   ],
   "source": [
    "P1_evoked_save_path = \"C:\\\\Users\\\\indira.lavocat\\\\MOVIDOC\\\\tictrack_eeg_analysis\\\\.fif_files\\\\P1_average-epochs.fif\"\n",
    "evoked_P1.save(P1_evoked_save_path)\n",
    "print(f\"✅ Moyenne sauvegardée dans : {P1_evoked_save_path}\")"
   ]
  },
  {
   "cell_type": "markdown",
   "id": "e0416aed",
   "metadata": {},
   "source": [
    "#### OPTIONNAL : Display the mean segment"
   ]
  },
  {
   "cell_type": "code",
   "execution_count": null,
   "id": "8385c913",
   "metadata": {},
   "outputs": [],
   "source": [
    "# Calculate the mean over all the P1 events : shape = (n_channels, n_times)\n",
    "mean_segment = np.mean(P1_segments_array, axis=0)\n",
    "\n",
    "# Display the result shape\n",
    "print(f\"\\n✅ {len(P1_signal_segments)} valide segments used.\")\n",
    "print(f\"Shape of the mean segment : {mean_segment.shape} (n_channels, n_times)\")\n",
    "\n",
    "\n",
    "# Create the temporal axis for the mean segment\n",
    "n_times = mean_segment.shape[1]\n",
    "times = np.linspace(tmin, tmax, n_times)\n",
    "\n",
    "# Trace each channel in a seperated figure\n",
    "for ch_idx, ch_name in enumerate(raw_cropped.ch_names):\n",
    "    signal = mean_segment[ch_idx, :]\n",
    "    \n",
    "    plt.figure(figsize=(8, 4))\n",
    "    plt.plot(times, signal, label=f'Channel : {ch_name}')\n",
    "    plt.title(f\"Mean segment – Channel {ch_name}\")\n",
    "    plt.xlabel(\"Time (s)\")\n",
    "    plt.ylabel(\"Amplitude (µV)\")\n",
    "    plt.grid(True)\n",
    "    plt.legend()\n",
    "    plt.tight_layout()\n",
    "    plt.show()"
   ]
  },
  {
   "cell_type": "markdown",
   "id": "8e150f2e",
   "metadata": {},
   "source": [
    "#### NO TO DO : Get the mean of the signal values at the exact time of each stimulus"
   ]
  },
  {
   "cell_type": "code",
   "execution_count": null,
   "id": "f14b33f6",
   "metadata": {},
   "outputs": [],
   "source": [
    "# Initiate a list to stock the extracted values\n",
    "signal_values_at_stimulus = []\n",
    "\n",
    "# Get the signal value for each stimulus\n",
    "for onset, desc in stimuli_in_P1:\n",
    "    sample_index = int(onset * raw_cropped.info['sfreq'])  # convertir le temps en index d'échantillon\n",
    "    signal_sample = raw_cropped[:, sample_index][0]  # shape = (n_channels,)\n",
    "    signal_values_at_stimulus.append(signal_sample)\n",
    "\n",
    "# Convert into an array (shape: n_events x n_channels)\n",
    "signal_values_array = np.array(signal_values_at_stimulus)  # shape = (n_events, n_channels)\n",
    "\n",
    "# Mean of all the events (shape: n_channels,)\n",
    "mean_signal_per_channel = np.mean(signal_values_array, axis=0)\n",
    "\n",
    "# Display the mean signal from the stimuli in P1 phase\n",
    "print(\"Mean value of the signal from the stimuli in P1 phase (per channel) :\")\n",
    "for ch_name, value in zip(raw_cropped.ch_names, mean_signal_per_channel):\n",
    "    print(f\"{ch_name}: {value:.3f} µV\")"
   ]
  },
  {
   "cell_type": "markdown",
   "id": "98061cfa",
   "metadata": {},
   "source": [
    "## 2. Phase 2 (P2)\n",
    "### Get the \"eyes closed\" baseline from the P2 phase"
   ]
  },
  {
   "cell_type": "code",
   "execution_count": 35,
   "id": "765dcc5c",
   "metadata": {},
   "outputs": [
    {
     "name": "stdout",
     "output_type": "stream",
     "text": [
      "Segment detected : from 38.93 s to 49.89 s\n",
      "Epoch from 38.93s to 40.93s extracted\n",
      "Epoch from 39.93s to 41.93s extracted\n",
      "Epoch from 40.93s to 42.93s extracted\n",
      "Epoch from 41.93s to 43.93s extracted\n",
      "Epoch from 42.93s to 44.93s extracted\n",
      "Epoch from 43.93s to 45.93s extracted\n",
      "Epoch from 44.93s to 46.93s extracted\n",
      "Epoch from 45.93s to 47.93s extracted\n",
      "Epoch from 46.93s to 48.93s extracted\n",
      "Not setting metadata\n",
      "9 matching events found\n",
      "No baseline correction applied\n",
      "0 projection items activated\n",
      "\n",
      "✅ 9 sliding epochs extracted between 38.93 and 49.89 seconds\n"
     ]
    }
   ],
   "source": [
    "# Define the parameters\n",
    "begin_P2_stimulus = \"Stimulus/S  5\" # sent at the beginning of the P2a task\n",
    "end_P2_stimulus = \"Stimulus/S  6\" # sent at the ending of the P2a task\n",
    "\n",
    "# Search the stimuli times in the annotations\n",
    "P2_onset_start = None\n",
    "P2_onset_end = None\n",
    "\n",
    "for onset, desc in zip(raw_cropped.annotations.onset, raw_cropped.annotations.description):\n",
    "    if desc == begin_P2_stimulus and P2_onset_start is None:\n",
    "        P2_onset_start = onset\n",
    "    elif desc == end_P2_stimulus and P2_onset_start is not None:\n",
    "        P2_onset_end = onset\n",
    "        break # stopping the loop as soon as the pair of stimuli is found\n",
    "\n",
    "# Check the segment found\n",
    "if P2_onset_start is not None and P2_onset_end is not None:\n",
    "    print(f\"Segment detected : from {P2_onset_start:.2f} s to {P2_onset_end:.2f} s\")\n",
    "\n",
    "    window_length = 2.0 # window length in seconds\n",
    "    step_size = 1.0 # step size for sliding window in seconds\n",
    "\n",
    "    epochs_list = []\n",
    "    times_list = []\n",
    "\n",
    "    current_start = P2_onset_start\n",
    "    while (current_start + window_length) <= P2_onset_end:\n",
    "        current_end = current_start + window_length\n",
    "\n",
    "        # Crop the raw signal for the current window\n",
    "        window_segment = raw_cropped.copy().crop(tmin=current_start, tmax=current_end)\n",
    "        data, times = window_segment.get_data(return_times=True)\n",
    "\n",
    "        epochs_list.append(data) # shape (n_channels, n_times)\n",
    "        times_list.append(times)\n",
    "\n",
    "        print(f\"Epoch from {current_start:.2f}s to {current_end:.2f}s extracted\")\n",
    "\n",
    "        # Move the window by step_size\n",
    "        current_start += step_size\n",
    "    \n",
    "    # Convert the list of epochs into a numpy array with the shape (n_epochs, n_channels, n_times)\n",
    "    epochs_array = np.array(epochs_list)\n",
    "\n",
    "    # Create an info object for the epochs\n",
    "    sfreq = raw_cropped.info['sfreq']\n",
    "    info = mne.create_info(ch_names=raw_cropped.ch_names, sfreq=sfreq, ch_types='eeg')\n",
    "\n",
    "    # Create the EpochsArray object\n",
    "    epochs_P2 = mne.EpochsArray(epochs_array, info)\n",
    "\n",
    "    print(f\"\\n✅ {len(epochs_list)} sliding epochs extracted between {P2_onset_start:.2f} and {P2_onset_end:.2f} seconds\")\n",
    "\n",
    "else:\n",
    "    print(\"❌ Stimuli not found in the annotations.\")"
   ]
  },
  {
   "cell_type": "markdown",
   "id": "a1d981c9",
   "metadata": {},
   "source": [
    "Save the epochs from P2 in a file"
   ]
  },
  {
   "cell_type": "code",
   "execution_count": 36,
   "id": "1b3fa313",
   "metadata": {},
   "outputs": [
    {
     "name": "stdout",
     "output_type": "stream",
     "text": [
      "✅ Sliding epochs saved in: C:\\Users\\indira.lavocat\\MOVIDOC\\tictrack_eeg_analysis\\.fif_files\\P2_sliding_epochs.fif\n"
     ]
    },
    {
     "name": "stderr",
     "output_type": "stream",
     "text": [
      "C:\\Users\\indira.lavocat\\AppData\\Local\\Temp\\ipykernel_22608\\2394468070.py:2: RuntimeWarning: This filename (C:\\Users\\indira.lavocat\\MOVIDOC\\tictrack_eeg_analysis\\.fif_files\\P2_sliding_epochs.fif) does not conform to MNE naming conventions. All epochs files should end with -epo.fif, -epo.fif.gz, _epo.fif or _epo.fif.gz\n",
      "  epochs_P2.save(save_path, overwrite=True)\n"
     ]
    }
   ],
   "source": [
    "save_path = \"C:\\\\Users\\\\indira.lavocat\\\\MOVIDOC\\\\tictrack_eeg_analysis\\\\.fif_files\\\\P2_sliding_epochs.fif\"\n",
    "epochs_P2.save(save_path, overwrite=True)\n",
    "print(f\"✅ Sliding epochs saved in: {save_path}\")"
   ]
  },
  {
   "cell_type": "markdown",
   "id": "5d420c73",
   "metadata": {},
   "source": [
    "Get the mean of the epochs from P2"
   ]
  },
  {
   "cell_type": "code",
   "execution_count": null,
   "id": "cd44b79e",
   "metadata": {},
   "outputs": [
    {
     "name": "stdout",
     "output_type": "stream",
     "text": [
      "<Evoked | '1' (average, N=9), 0 – 2 s, baseline off, 31 ch, ~276 KiB>\n"
     ]
    },
    {
     "data": {
      "image/png": "[encoded data removed]",
      "text/plain": [
       "<Figure size 640x300 with 1 Axes>"
      ]
     },
     "metadata": {},
     "output_type": "display_data"
    },
    {
     "data": {
      "text/plain": [
       "Text(0.5, 0.98, 'Average of sliding epochs from P2')"
      ]
     },
     "execution_count": 38,
     "metadata": {},
     "output_type": "execute_result"
    }
   ],
   "source": [
    "# Calculate the mean of the epochs\n",
    "evoked_P2 = epochs_P2.average()\n",
    "print(evoked_P2)\n",
    "\n",
    "# Plot the mean\n",
    "Evoked_P2_Figure_6 = evoked_P2.plot() # does no take 'title' argument here\n",
    "Evoked_P2_Figure_6.suptitle(\"Average of sliding epochs from P2\", fontsize=14)\n",
    "# evoked_P2.plot(title=\"Average of sliding epochs (P2)\")"
   ]
  },
  {
   "cell_type": "markdown",
   "id": "ae60b46a",
   "metadata": {},
   "source": [
    "Save the Evoked mean of the epochs from P2"
   ]
  },
  {
   "cell_type": "code",
   "execution_count": 39,
   "id": "60eabfc0",
   "metadata": {},
   "outputs": [
    {
     "name": "stdout",
     "output_type": "stream",
     "text": [
      "✅ Average evoked saved in: C:\\Users\\indira.lavocat\\MOVIDOC\\tictrack_eeg_analysis\\.fif_files\\P2_average-epochs.fif\n"
     ]
    },
    {
     "name": "stderr",
     "output_type": "stream",
     "text": [
      "C:\\Users\\indira.lavocat\\AppData\\Local\\Temp\\ipykernel_22608\\2779823942.py:2: RuntimeWarning: This filename (C:\\Users\\indira.lavocat\\MOVIDOC\\tictrack_eeg_analysis\\.fif_files\\P2_average-epochs.fif) does not conform to MNE naming conventions. All evoked files should end with -ave.fif, -ave.fif.gz, _ave.fif or _ave.fif.gz\n",
      "  evoked_P2.save(P2_evoked_save_path)\n"
     ]
    }
   ],
   "source": [
    "P2_evoked_save_path = \"C:\\\\Users\\\\indira.lavocat\\\\MOVIDOC\\\\tictrack_eeg_analysis\\\\.fif_files\\\\P2_average-epochs.fif\"\n",
    "evoked_P2.save(P2_evoked_save_path)\n",
    "print(f\"✅ Average evoked saved in: {P2_evoked_save_path}\")"
   ]
  },
  {
   "cell_type": "markdown",
   "id": "58828453",
   "metadata": {},
   "source": [
    "## 3. Phase 3 (P3)\n",
    "### Get the \"eyes open\" baseline from the P3 phase"
   ]
  },
  {
   "cell_type": "code",
   "execution_count": 40,
   "id": "ca016939",
   "metadata": {},
   "outputs": [
    {
     "name": "stdout",
     "output_type": "stream",
     "text": [
      "Segment detected : from 38.93 s to 49.89 s\n",
      "Epoch from 38.93s to 40.93s extracted\n",
      "Epoch from 39.93s to 41.93s extracted\n",
      "Epoch from 40.93s to 42.93s extracted\n",
      "Epoch from 41.93s to 43.93s extracted\n",
      "Epoch from 42.93s to 44.93s extracted\n",
      "Epoch from 43.93s to 45.93s extracted\n",
      "Epoch from 44.93s to 46.93s extracted\n",
      "Epoch from 45.93s to 47.93s extracted\n",
      "Epoch from 46.93s to 48.93s extracted\n",
      "Not setting metadata\n",
      "9 matching events found\n",
      "No baseline correction applied\n",
      "0 projection items activated\n",
      "\n",
      "✅ 9 sliding epochs extracted between 38.93 and 49.89 seconds\n"
     ]
    }
   ],
   "source": [
    "# Define the parameters\n",
    "begin_P3_stimulus = \"Stimulus/S  5\" # sent at the beginning of the P2a task\n",
    "end_P3_stimulus = \"Stimulus/S  6\" # sent at the ending of the P2a task\n",
    "\n",
    "# Search the stimuli times in the annotations\n",
    "P3_onset_start = None\n",
    "P3_onset_end = None\n",
    "\n",
    "for onset, desc in zip(raw_cropped.annotations.onset, raw_cropped.annotations.description):\n",
    "    if desc == begin_P3_stimulus and P3_onset_start is None:\n",
    "        P3_onset_start = onset\n",
    "    elif desc == end_P3_stimulus and P3_onset_start is not None:\n",
    "        P3_onset_end = onset\n",
    "        break # stopping the loop as soon as the pair of stimuli is found\n",
    "\n",
    "# Check the segment found\n",
    "if P3_onset_start is not None and P3_onset_end is not None:\n",
    "    print(f\"Segment detected : from {P3_onset_start:.2f} s to {P3_onset_end:.2f} s\")\n",
    "\n",
    "    window_length = 2.0 # window length in seconds\n",
    "    step_size = 1.0 # step size for sliding window in seconds\n",
    "\n",
    "    epochs_list = []\n",
    "    times_list = []\n",
    "\n",
    "    current_start = P3_onset_start\n",
    "    while (current_start + window_length) <= P3_onset_end:\n",
    "        current_end = current_start + window_length\n",
    "\n",
    "        # Crop the raw signal for the current window\n",
    "        window_segment = raw_cropped.copy().crop(tmin=current_start, tmax=current_end)\n",
    "        data, times = window_segment.get_data(return_times=True)\n",
    "\n",
    "        epochs_list.append(data) # shape (n_channels, n_times)\n",
    "        times_list.append(times)\n",
    "\n",
    "        print(f\"Epoch from {current_start:.2f}s to {current_end:.2f}s extracted\")\n",
    "\n",
    "        # Move the window by step_size\n",
    "        current_start += step_size\n",
    "    \n",
    "    # Convert the list of epochs into a numpy array with the shape (n_epochs, n_channels, n_times)\n",
    "    epochs_array = np.array(epochs_list)\n",
    "\n",
    "    # Create an info object for the epochs\n",
    "    sfreq = raw_cropped.info['sfreq']\n",
    "    info = mne.create_info(ch_names=raw_cropped.ch_names, sfreq=sfreq, ch_types='eeg')\n",
    "\n",
    "    # Create the EpochsArray object\n",
    "    epochs_P3 = mne.EpochsArray(epochs_array, info)\n",
    "\n",
    "    print(f\"\\n✅ {len(epochs_list)} sliding epochs extracted between {P3_onset_start:.2f} and {P3_onset_end:.2f} seconds\")\n",
    "\n",
    "else:\n",
    "    print(\"❌ Stimuli not found in the annotations.\")"
   ]
  },
  {
   "cell_type": "markdown",
   "id": "15d0d786",
   "metadata": {},
   "source": [
    "Save the epochs from P3 in a file"
   ]
  },
  {
   "cell_type": "code",
   "execution_count": 41,
   "id": "9cf067f0",
   "metadata": {},
   "outputs": [
    {
     "name": "stdout",
     "output_type": "stream",
     "text": [
      "✅ Sliding epochs saved in: C:\\Users\\indira.lavocat\\MOVIDOC\\tictrack_eeg_analysis\\.fif_files\\P3_sliding_epochs.fif\n"
     ]
    },
    {
     "name": "stderr",
     "output_type": "stream",
     "text": [
      "C:\\Users\\indira.lavocat\\AppData\\Local\\Temp\\ipykernel_22608\\207237715.py:2: RuntimeWarning: This filename (C:\\Users\\indira.lavocat\\MOVIDOC\\tictrack_eeg_analysis\\.fif_files\\P3_sliding_epochs.fif) does not conform to MNE naming conventions. All epochs files should end with -epo.fif, -epo.fif.gz, _epo.fif or _epo.fif.gz\n",
      "  epochs_P3.save(save_path, overwrite=True)\n"
     ]
    }
   ],
   "source": [
    "save_path = \"C:\\\\Users\\\\indira.lavocat\\\\MOVIDOC\\\\tictrack_eeg_analysis\\\\.fif_files\\\\P3_sliding_epochs.fif\"\n",
    "epochs_P3.save(save_path, overwrite=True)\n",
    "print(f\"✅ Sliding epochs saved in: {save_path}\")"
   ]
  },
  {
   "cell_type": "markdown",
   "id": "03a5d487",
   "metadata": {},
   "source": [
    "Get the mean of the epochs from P3"
   ]
  },
  {
   "cell_type": "code",
   "execution_count": 42,
   "id": "47b5782d",
   "metadata": {},
   "outputs": [
    {
     "name": "stdout",
     "output_type": "stream",
     "text": [
      "<Evoked | '1' (average, N=9), 0 – 2 s, baseline off, 31 ch, ~276 KiB>\n"
     ]
    },
    {
     "data": {
      "image/png": "[encoded data removed]",
      "text/plain": [
       "<Figure size 640x300 with 1 Axes>"
      ]
     },
     "metadata": {},
     "output_type": "display_data"
    },
    {
     "data": {
      "text/plain": [
       "Text(0.5, 0.98, 'Average of sliding epochs from P3')"
      ]
     },
     "execution_count": 42,
     "metadata": {},
     "output_type": "execute_result"
    }
   ],
   "source": [
    "# Calculate the mean of the epochs\n",
    "evoked_P3 = epochs_P2.average()\n",
    "print(evoked_P3)\n",
    "\n",
    "# Plot the mean\n",
    "Evoked_P3_Figure_7 = evoked_P2.plot() # does no take 'title' argument here\n",
    "Evoked_P3_Figure_7.suptitle(\"Average of sliding epochs from P3\", fontsize=14)\n",
    "# evoked_P3.plot(title=\"Average of sliding epochs (P3)\")"
   ]
  },
  {
   "cell_type": "markdown",
   "id": "8e98ada9",
   "metadata": {},
   "source": [
    "Save the Evoked mean of the epochs from P3"
   ]
  },
  {
   "cell_type": "code",
   "execution_count": 43,
   "id": "67e8edb3",
   "metadata": {},
   "outputs": [
    {
     "name": "stdout",
     "output_type": "stream",
     "text": [
      "✅ Average evoked saved in: C:\\Users\\indira.lavocat\\MOVIDOC\\tictrack_eeg_analysis\\.fif_files\\P3_average-epochs.fif\n"
     ]
    },
    {
     "name": "stderr",
     "output_type": "stream",
     "text": [
      "C:\\Users\\indira.lavocat\\AppData\\Local\\Temp\\ipykernel_22608\\4058846807.py:2: RuntimeWarning: This filename (C:\\Users\\indira.lavocat\\MOVIDOC\\tictrack_eeg_analysis\\.fif_files\\P3_average-epochs.fif) does not conform to MNE naming conventions. All evoked files should end with -ave.fif, -ave.fif.gz, _ave.fif or _ave.fif.gz\n",
      "  evoked_P3.save(P3_evoked_save_path)\n"
     ]
    }
   ],
   "source": [
    "P3_evoked_save_path = \"C:\\\\Users\\\\indira.lavocat\\\\MOVIDOC\\\\tictrack_eeg_analysis\\\\.fif_files\\\\P3_average-epochs.fif\"\n",
    "evoked_P3.save(P3_evoked_save_path)\n",
    "print(f\"✅ Average evoked saved in: {P3_evoked_save_path}\")"
   ]
  },
  {
   "cell_type": "markdown",
   "id": "9790dd20",
   "metadata": {},
   "source": [
    "## 4. Phase 4 (P4)\n",
    "### Get the spontaneous TICs"
   ]
  },
  {
   "cell_type": "code",
   "execution_count": null,
   "id": "88ba2241",
   "metadata": {},
   "outputs": [],
   "source": []
  },
  {
   "cell_type": "markdown",
   "id": "652beabb",
   "metadata": {},
   "source": [
    "# * Topography *"
   ]
  },
  {
   "cell_type": "code",
   "execution_count": null,
   "id": "3820e2e6",
   "metadata": {},
   "outputs": [],
   "source": [
    "# evoked.plot_topomap(times=[0.1, 0.2, 0.3], ch_type='eeg', title=\"Topomap à 100/200/300 ms\")\n",
    "evoked.plot_topomap(times=[0.1, 0.2, 0.3], ch_type='eeg')"
   ]
  },
  {
   "cell_type": "markdown",
   "id": "8891ccb0",
   "metadata": {},
   "source": [
    "*** Show the Data ***"
   ]
  },
  {
   "cell_type": "code",
   "execution_count": null,
   "id": "a12cf643",
   "metadata": {},
   "outputs": [],
   "source": [
    "plt.show()"
   ]
  }
 ],
 "metadata": {
  "kernelspec": {
   "display_name": "mne_env",
   "language": "python",
   "name": "python3"
  },
  "language_info": {
   "codemirror_mode": {
    "name": "ipython",
    "version": 3
   },
   "file_extension": ".py",
   "mimetype": "text/x-python",
   "name": "python",
   "nbconvert_exporter": "python",
   "pygments_lexer": "ipython3",
   "version": "3.10.17"
  }
 },
 "nbformat": 4,
 "nbformat_minor": 5
}
